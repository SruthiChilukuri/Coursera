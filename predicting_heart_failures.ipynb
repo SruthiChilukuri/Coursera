{
  "nbformat": 4,
  "nbformat_minor": 0,
  "metadata": {
    "colab": {
      "name": "predicting heart failures",
      "provenance": [],
      "collapsed_sections": [],
      "authorship_tag": "ABX9TyPNbCZpNurDsYWezxvxDeSb",
      "include_colab_link": true
    },
    "kernelspec": {
      "name": "python3",
      "display_name": "Python 3"
    }
  },
  "cells": [
    {
      "cell_type": "markdown",
      "metadata": {
        "id": "view-in-github",
        "colab_type": "text"
      },
      "source": [
        "<a href=\"https://colab.research.google.com/github/SruthiChilukuri/Coursera/blob/main/predicting_heart_failures.ipynb\" target=\"_parent\"><img src=\"https://colab.research.google.com/assets/colab-badge.svg\" alt=\"Open In Colab\"/></a>"
      ]
    },
    {
      "cell_type": "markdown",
      "metadata": {
        "id": "5Sqs-8JPBqTq"
      },
      "source": [
        "#Capstone Project: Applied Data Science Capstone by IBM/Coursera"
      ]
    },
    {
      "cell_type": "markdown",
      "metadata": {
        "id": "ANErA596BQS2"
      },
      "source": [
        "##Chapter-1\n",
        "##Business problem:\n",
        "\n",
        "* Heart failures are one of the most prominant conditions we have in world of today. The reasons can be many; from diabetes and cardiac arrests to high blood pressure and sometimes thyroid.\n",
        "\n",
        "* It is noted that about 5.7 million americans have heart failure; as reported by the Centers for Disease Control and Prevention.\n",
        "\n",
        "* There can be a machine learning approach that can estimate when a person is likely to suffer from this heart failure.\n",
        "\n"
      ]
    },
    {
      "cell_type": "code",
      "metadata": {
        "id": "aX5kpnmO-gHZ"
      },
      "source": [
        "import pandas as pd\n",
        "import numpy as np\n"
      ],
      "execution_count": 2,
      "outputs": []
    },
    {
      "cell_type": "code",
      "metadata": {
        "id": "1ZufxTIh-xYQ"
      },
      "source": [
        "from pydrive.auth import GoogleAuth\n",
        "from pydrive.drive import GoogleDrive\n",
        "from google.colab import drive\n",
        "from oauth2client.client import GoogleCredentials\n",
        "import warnings\n",
        "warnings.filterwarnings(\"ignore\")"
      ],
      "execution_count": 3,
      "outputs": []
    },
    {
      "cell_type": "markdown",
      "metadata": {
        "id": "btMEf7qkEYNu"
      },
      "source": [
        "## Data narrative\n",
        "\n",
        "* The data was retrieved from the Kaggle open repository\n",
        "\n",
        "* Link to the dataset: https://www.kaggle.com/andrewmvd/heart-failure-clinical-data\n",
        "* As the business problem suggests, we have to pick those factors from the dataset that are most likely to influence the failure rate.\n",
        "\n",
        "* These factors/attributes are \"symptoms\" in domain language"
      ]
    },
    {
      "cell_type": "markdown",
      "metadata": {
        "id": "a1FUrOT9GM9L"
      },
      "source": [
        "##Data understanding: Explorative data analysis"
      ]
    },
    {
      "cell_type": "code",
      "metadata": {
        "id": "bn4kViGT-6eF"
      },
      "source": [
        "from google.colab import files"
      ],
      "execution_count": 4,
      "outputs": []
    },
    {
      "cell_type": "code",
      "metadata": {
        "id": "82OzgPRC_avw",
        "outputId": "8e0c8d3e-f102-4c94-ea29-a2a9420efe40",
        "colab": {
          "base_uri": "https://localhost:8080/",
          "height": 34
        }
      },
      "source": [
        "drive.mount('/content/drive')\n",
        "column_names = ['age', 'anaemia', 'creatinine_phosphokinase', 'diabetes', 'ejection_fraction', 'high_blood_pressure', 'platelets', 'serum_creatinine', 'serum_sodium', 'sex', 'smoking', 'time', 'death_event']\n",
        "df = pd.read_csv(\"/content/drive/My Drive/heartfailure.csv\", names = column_names, header = None)\n"
      ],
      "execution_count": 5,
      "outputs": [
        {
          "output_type": "stream",
          "text": [
            "Mounted at /content/drive\n"
          ],
          "name": "stdout"
        }
      ]
    },
    {
      "cell_type": "code",
      "metadata": {
        "id": "9udb0cC5_23_",
        "outputId": "ff16b831-6ecd-469c-91e1-5d2189844d7f",
        "colab": {
          "base_uri": "https://localhost:8080/",
          "height": 137
        }
      },
      "source": [
        "df.head(3)"
      ],
      "execution_count": 6,
      "outputs": [
        {
          "output_type": "execute_result",
          "data": {
            "text/html": [
              "<div>\n",
              "<style scoped>\n",
              "    .dataframe tbody tr th:only-of-type {\n",
              "        vertical-align: middle;\n",
              "    }\n",
              "\n",
              "    .dataframe tbody tr th {\n",
              "        vertical-align: top;\n",
              "    }\n",
              "\n",
              "    .dataframe thead th {\n",
              "        text-align: right;\n",
              "    }\n",
              "</style>\n",
              "<table border=\"1\" class=\"dataframe\">\n",
              "  <thead>\n",
              "    <tr style=\"text-align: right;\">\n",
              "      <th></th>\n",
              "      <th>age</th>\n",
              "      <th>anaemia</th>\n",
              "      <th>creatinine_phosphokinase</th>\n",
              "      <th>diabetes</th>\n",
              "      <th>ejection_fraction</th>\n",
              "      <th>high_blood_pressure</th>\n",
              "      <th>platelets</th>\n",
              "      <th>serum_creatinine</th>\n",
              "      <th>serum_sodium</th>\n",
              "      <th>sex</th>\n",
              "      <th>smoking</th>\n",
              "      <th>time</th>\n",
              "      <th>death_event</th>\n",
              "    </tr>\n",
              "  </thead>\n",
              "  <tbody>\n",
              "    <tr>\n",
              "      <th>0</th>\n",
              "      <td>age</td>\n",
              "      <td>anaemia</td>\n",
              "      <td>creatinine_phosphokinase</td>\n",
              "      <td>diabetes</td>\n",
              "      <td>ejection_fraction</td>\n",
              "      <td>high_blood_pressure</td>\n",
              "      <td>platelets</td>\n",
              "      <td>serum_creatinine</td>\n",
              "      <td>serum_sodium</td>\n",
              "      <td>sex</td>\n",
              "      <td>smoking</td>\n",
              "      <td>time</td>\n",
              "      <td>DEATH_EVENT</td>\n",
              "    </tr>\n",
              "    <tr>\n",
              "      <th>1</th>\n",
              "      <td>75</td>\n",
              "      <td>0</td>\n",
              "      <td>582</td>\n",
              "      <td>0</td>\n",
              "      <td>20</td>\n",
              "      <td>1</td>\n",
              "      <td>265000</td>\n",
              "      <td>1.9</td>\n",
              "      <td>130</td>\n",
              "      <td>1</td>\n",
              "      <td>0</td>\n",
              "      <td>4</td>\n",
              "      <td>1</td>\n",
              "    </tr>\n",
              "    <tr>\n",
              "      <th>2</th>\n",
              "      <td>55</td>\n",
              "      <td>0</td>\n",
              "      <td>7861</td>\n",
              "      <td>0</td>\n",
              "      <td>38</td>\n",
              "      <td>0</td>\n",
              "      <td>263358.03</td>\n",
              "      <td>1.1</td>\n",
              "      <td>136</td>\n",
              "      <td>1</td>\n",
              "      <td>0</td>\n",
              "      <td>6</td>\n",
              "      <td>1</td>\n",
              "    </tr>\n",
              "  </tbody>\n",
              "</table>\n",
              "</div>"
            ],
            "text/plain": [
              "   age  anaemia  creatinine_phosphokinase  ...  smoking  time  death_event\n",
              "0  age  anaemia  creatinine_phosphokinase  ...  smoking  time  DEATH_EVENT\n",
              "1   75        0                       582  ...        0     4            1\n",
              "2   55        0                      7861  ...        0     6            1\n",
              "\n",
              "[3 rows x 13 columns]"
            ]
          },
          "metadata": {
            "tags": []
          },
          "execution_count": 6
        }
      ]
    },
    {
      "cell_type": "code",
      "metadata": {
        "id": "fI8NyZIfMgUJ"
      },
      "source": [
        "df = df.drop(df.index[0])"
      ],
      "execution_count": 7,
      "outputs": []
    },
    {
      "cell_type": "code",
      "metadata": {
        "id": "nyvD7Vp2MogO",
        "outputId": "e60d41a0-499e-4952-ef5e-6a4fee32c4c2",
        "colab": {
          "base_uri": "https://localhost:8080/",
          "height": 137
        }
      },
      "source": [
        "df.head(3)"
      ],
      "execution_count": 8,
      "outputs": [
        {
          "output_type": "execute_result",
          "data": {
            "text/html": [
              "<div>\n",
              "<style scoped>\n",
              "    .dataframe tbody tr th:only-of-type {\n",
              "        vertical-align: middle;\n",
              "    }\n",
              "\n",
              "    .dataframe tbody tr th {\n",
              "        vertical-align: top;\n",
              "    }\n",
              "\n",
              "    .dataframe thead th {\n",
              "        text-align: right;\n",
              "    }\n",
              "</style>\n",
              "<table border=\"1\" class=\"dataframe\">\n",
              "  <thead>\n",
              "    <tr style=\"text-align: right;\">\n",
              "      <th></th>\n",
              "      <th>age</th>\n",
              "      <th>anaemia</th>\n",
              "      <th>creatinine_phosphokinase</th>\n",
              "      <th>diabetes</th>\n",
              "      <th>ejection_fraction</th>\n",
              "      <th>high_blood_pressure</th>\n",
              "      <th>platelets</th>\n",
              "      <th>serum_creatinine</th>\n",
              "      <th>serum_sodium</th>\n",
              "      <th>sex</th>\n",
              "      <th>smoking</th>\n",
              "      <th>time</th>\n",
              "      <th>death_event</th>\n",
              "    </tr>\n",
              "  </thead>\n",
              "  <tbody>\n",
              "    <tr>\n",
              "      <th>1</th>\n",
              "      <td>75</td>\n",
              "      <td>0</td>\n",
              "      <td>582</td>\n",
              "      <td>0</td>\n",
              "      <td>20</td>\n",
              "      <td>1</td>\n",
              "      <td>265000</td>\n",
              "      <td>1.9</td>\n",
              "      <td>130</td>\n",
              "      <td>1</td>\n",
              "      <td>0</td>\n",
              "      <td>4</td>\n",
              "      <td>1</td>\n",
              "    </tr>\n",
              "    <tr>\n",
              "      <th>2</th>\n",
              "      <td>55</td>\n",
              "      <td>0</td>\n",
              "      <td>7861</td>\n",
              "      <td>0</td>\n",
              "      <td>38</td>\n",
              "      <td>0</td>\n",
              "      <td>263358.03</td>\n",
              "      <td>1.1</td>\n",
              "      <td>136</td>\n",
              "      <td>1</td>\n",
              "      <td>0</td>\n",
              "      <td>6</td>\n",
              "      <td>1</td>\n",
              "    </tr>\n",
              "    <tr>\n",
              "      <th>3</th>\n",
              "      <td>65</td>\n",
              "      <td>0</td>\n",
              "      <td>146</td>\n",
              "      <td>0</td>\n",
              "      <td>20</td>\n",
              "      <td>0</td>\n",
              "      <td>162000</td>\n",
              "      <td>1.3</td>\n",
              "      <td>129</td>\n",
              "      <td>1</td>\n",
              "      <td>1</td>\n",
              "      <td>7</td>\n",
              "      <td>1</td>\n",
              "    </tr>\n",
              "  </tbody>\n",
              "</table>\n",
              "</div>"
            ],
            "text/plain": [
              "  age anaemia creatinine_phosphokinase diabetes  ... sex smoking time death_event\n",
              "1  75       0                      582        0  ...   1       0    4           1\n",
              "2  55       0                     7861        0  ...   1       0    6           1\n",
              "3  65       0                      146        0  ...   1       1    7           1\n",
              "\n",
              "[3 rows x 13 columns]"
            ]
          },
          "metadata": {
            "tags": []
          },
          "execution_count": 8
        }
      ]
    },
    {
      "cell_type": "code",
      "metadata": {
        "id": "xM5Hsr0nIFZH",
        "outputId": "b1e98ffd-6578-4d98-f311-f594c54747ad",
        "colab": {
          "base_uri": "https://localhost:8080/",
          "height": 107
        }
      },
      "source": [
        "df.tail(2)"
      ],
      "execution_count": 9,
      "outputs": [
        {
          "output_type": "execute_result",
          "data": {
            "text/html": [
              "<div>\n",
              "<style scoped>\n",
              "    .dataframe tbody tr th:only-of-type {\n",
              "        vertical-align: middle;\n",
              "    }\n",
              "\n",
              "    .dataframe tbody tr th {\n",
              "        vertical-align: top;\n",
              "    }\n",
              "\n",
              "    .dataframe thead th {\n",
              "        text-align: right;\n",
              "    }\n",
              "</style>\n",
              "<table border=\"1\" class=\"dataframe\">\n",
              "  <thead>\n",
              "    <tr style=\"text-align: right;\">\n",
              "      <th></th>\n",
              "      <th>age</th>\n",
              "      <th>anaemia</th>\n",
              "      <th>creatinine_phosphokinase</th>\n",
              "      <th>diabetes</th>\n",
              "      <th>ejection_fraction</th>\n",
              "      <th>high_blood_pressure</th>\n",
              "      <th>platelets</th>\n",
              "      <th>serum_creatinine</th>\n",
              "      <th>serum_sodium</th>\n",
              "      <th>sex</th>\n",
              "      <th>smoking</th>\n",
              "      <th>time</th>\n",
              "      <th>death_event</th>\n",
              "    </tr>\n",
              "  </thead>\n",
              "  <tbody>\n",
              "    <tr>\n",
              "      <th>298</th>\n",
              "      <td>45</td>\n",
              "      <td>0</td>\n",
              "      <td>2413</td>\n",
              "      <td>0</td>\n",
              "      <td>38</td>\n",
              "      <td>0</td>\n",
              "      <td>140000</td>\n",
              "      <td>1.4</td>\n",
              "      <td>140</td>\n",
              "      <td>1</td>\n",
              "      <td>1</td>\n",
              "      <td>280</td>\n",
              "      <td>0</td>\n",
              "    </tr>\n",
              "    <tr>\n",
              "      <th>299</th>\n",
              "      <td>50</td>\n",
              "      <td>0</td>\n",
              "      <td>196</td>\n",
              "      <td>0</td>\n",
              "      <td>45</td>\n",
              "      <td>0</td>\n",
              "      <td>395000</td>\n",
              "      <td>1.6</td>\n",
              "      <td>136</td>\n",
              "      <td>1</td>\n",
              "      <td>1</td>\n",
              "      <td>285</td>\n",
              "      <td>0</td>\n",
              "    </tr>\n",
              "  </tbody>\n",
              "</table>\n",
              "</div>"
            ],
            "text/plain": [
              "    age anaemia creatinine_phosphokinase diabetes  ... sex smoking time death_event\n",
              "298  45       0                     2413        0  ...   1       1  280           0\n",
              "299  50       0                      196        0  ...   1       1  285           0\n",
              "\n",
              "[2 rows x 13 columns]"
            ]
          },
          "metadata": {
            "tags": []
          },
          "execution_count": 9
        }
      ]
    },
    {
      "cell_type": "code",
      "metadata": {
        "id": "OoLZFyTJIzMh",
        "outputId": "2d4c57e2-b717-480b-8d10-07ad9c6d8243",
        "colab": {
          "base_uri": "https://localhost:8080/",
          "height": 246
        }
      },
      "source": [
        "#checking for unique symptoms:\n",
        "for i in df.columns:\n",
        "  print(i, df[i].nunique())"
      ],
      "execution_count": 10,
      "outputs": [
        {
          "output_type": "stream",
          "text": [
            "age 47\n",
            "anaemia 2\n",
            "creatinine_phosphokinase 208\n",
            "diabetes 2\n",
            "ejection_fraction 17\n",
            "high_blood_pressure 2\n",
            "platelets 176\n",
            "serum_creatinine 40\n",
            "serum_sodium 27\n",
            "sex 2\n",
            "smoking 2\n",
            "time 148\n",
            "death_event 2\n"
          ],
          "name": "stdout"
        }
      ]
    },
    {
      "cell_type": "code",
      "metadata": {
        "id": "pRdZ6l69JC_b",
        "outputId": "80beadcb-0227-473d-8bb7-d66329e59ec0",
        "colab": {
          "base_uri": "https://localhost:8080/",
          "height": 351
        }
      },
      "source": [
        "df.info()"
      ],
      "execution_count": 11,
      "outputs": [
        {
          "output_type": "stream",
          "text": [
            "<class 'pandas.core.frame.DataFrame'>\n",
            "Int64Index: 299 entries, 1 to 299\n",
            "Data columns (total 13 columns):\n",
            " #   Column                    Non-Null Count  Dtype \n",
            "---  ------                    --------------  ----- \n",
            " 0   age                       299 non-null    object\n",
            " 1   anaemia                   299 non-null    object\n",
            " 2   creatinine_phosphokinase  299 non-null    object\n",
            " 3   diabetes                  299 non-null    object\n",
            " 4   ejection_fraction         299 non-null    object\n",
            " 5   high_blood_pressure       299 non-null    object\n",
            " 6   platelets                 299 non-null    object\n",
            " 7   serum_creatinine          299 non-null    object\n",
            " 8   serum_sodium              299 non-null    object\n",
            " 9   sex                       299 non-null    object\n",
            " 10  smoking                   299 non-null    object\n",
            " 11  time                      299 non-null    object\n",
            " 12  death_event               299 non-null    object\n",
            "dtypes: object(13)\n",
            "memory usage: 32.7+ KB\n"
          ],
          "name": "stdout"
        }
      ]
    },
    {
      "cell_type": "code",
      "metadata": {
        "id": "nXW0Q28CMv3A",
        "outputId": "22aa04be-4c12-4f3b-d3fc-df62574fcd33",
        "colab": {
          "base_uri": "https://localhost:8080/",
          "height": 542
        }
      },
      "source": [
        "#Lets count the patients with major symptoms who suffered/ not suffered with heart failure inspite of having such diseases\n",
        "import plotly.express as px\n",
        "img = df['anaemia'].value_counts().reset_index()\n",
        "img.columns = ['anemia', 'count']\n",
        "fig = px.bar(img, x='anemia', y = 'count', orientation = 'v', title = \"count of patients with anemia for death_event 0 and 1\")\n",
        "fig.show()"
      ],
      "execution_count": 12,
      "outputs": [
        {
          "output_type": "display_data",
          "data": {
            "text/html": [
              "<html>\n",
              "<head><meta charset=\"utf-8\" /></head>\n",
              "<body>\n",
              "    <div>\n",
              "            <script src=\"https://cdnjs.cloudflare.com/ajax/libs/mathjax/2.7.5/MathJax.js?config=TeX-AMS-MML_SVG\"></script><script type=\"text/javascript\">if (window.MathJax) {MathJax.Hub.Config({SVG: {font: \"STIX-Web\"}});}</script>\n",
              "                <script type=\"text/javascript\">window.PlotlyConfig = {MathJaxConfig: 'local'};</script>\n",
              "        <script src=\"https://cdn.plot.ly/plotly-latest.min.js\"></script>    \n",
              "            <div id=\"dec1e5ed-56c3-4bc8-a95b-63e906e1bfd3\" class=\"plotly-graph-div\" style=\"height:525px; width:100%;\"></div>\n",
              "            <script type=\"text/javascript\">\n",
              "                \n",
              "                    window.PLOTLYENV=window.PLOTLYENV || {};\n",
              "                    \n",
              "                if (document.getElementById(\"dec1e5ed-56c3-4bc8-a95b-63e906e1bfd3\")) {\n",
              "                    Plotly.newPlot(\n",
              "                        'dec1e5ed-56c3-4bc8-a95b-63e906e1bfd3',\n",
              "                        [{\"alignmentgroup\": \"True\", \"hoverlabel\": {\"namelength\": 0}, \"hovertemplate\": \"anemia=%{x}<br>count=%{y}\", \"legendgroup\": \"\", \"marker\": {\"color\": \"#636efa\"}, \"name\": \"\", \"offsetgroup\": \"\", \"orientation\": \"v\", \"showlegend\": false, \"textposition\": \"auto\", \"type\": \"bar\", \"x\": [\"0\", \"1\"], \"xaxis\": \"x\", \"y\": [170, 129], \"yaxis\": \"y\"}],\n",
              "                        {\"barmode\": \"relative\", \"legend\": {\"tracegroupgap\": 0}, \"template\": {\"data\": {\"bar\": [{\"error_x\": {\"color\": \"#2a3f5f\"}, \"error_y\": {\"color\": \"#2a3f5f\"}, \"marker\": {\"line\": {\"color\": \"#E5ECF6\", \"width\": 0.5}}, \"type\": \"bar\"}], \"barpolar\": [{\"marker\": {\"line\": {\"color\": \"#E5ECF6\", \"width\": 0.5}}, \"type\": \"barpolar\"}], \"carpet\": [{\"aaxis\": {\"endlinecolor\": \"#2a3f5f\", \"gridcolor\": \"white\", \"linecolor\": \"white\", \"minorgridcolor\": \"white\", \"startlinecolor\": \"#2a3f5f\"}, \"baxis\": {\"endlinecolor\": \"#2a3f5f\", \"gridcolor\": \"white\", \"linecolor\": \"white\", \"minorgridcolor\": \"white\", \"startlinecolor\": \"#2a3f5f\"}, \"type\": \"carpet\"}], \"choropleth\": [{\"colorbar\": {\"outlinewidth\": 0, \"ticks\": \"\"}, \"type\": \"choropleth\"}], \"contour\": [{\"colorbar\": {\"outlinewidth\": 0, \"ticks\": \"\"}, \"colorscale\": [[0.0, \"#0d0887\"], [0.1111111111111111, \"#46039f\"], [0.2222222222222222, \"#7201a8\"], [0.3333333333333333, \"#9c179e\"], [0.4444444444444444, \"#bd3786\"], [0.5555555555555556, \"#d8576b\"], [0.6666666666666666, \"#ed7953\"], [0.7777777777777778, \"#fb9f3a\"], [0.8888888888888888, \"#fdca26\"], [1.0, \"#f0f921\"]], \"type\": \"contour\"}], \"contourcarpet\": [{\"colorbar\": {\"outlinewidth\": 0, \"ticks\": \"\"}, \"type\": \"contourcarpet\"}], \"heatmap\": [{\"colorbar\": {\"outlinewidth\": 0, \"ticks\": \"\"}, \"colorscale\": [[0.0, \"#0d0887\"], [0.1111111111111111, \"#46039f\"], [0.2222222222222222, \"#7201a8\"], [0.3333333333333333, \"#9c179e\"], [0.4444444444444444, \"#bd3786\"], [0.5555555555555556, \"#d8576b\"], [0.6666666666666666, \"#ed7953\"], [0.7777777777777778, \"#fb9f3a\"], [0.8888888888888888, \"#fdca26\"], [1.0, \"#f0f921\"]], \"type\": \"heatmap\"}], \"heatmapgl\": [{\"colorbar\": {\"outlinewidth\": 0, \"ticks\": \"\"}, \"colorscale\": [[0.0, \"#0d0887\"], [0.1111111111111111, \"#46039f\"], [0.2222222222222222, \"#7201a8\"], [0.3333333333333333, \"#9c179e\"], [0.4444444444444444, \"#bd3786\"], [0.5555555555555556, \"#d8576b\"], [0.6666666666666666, \"#ed7953\"], [0.7777777777777778, \"#fb9f3a\"], [0.8888888888888888, \"#fdca26\"], [1.0, \"#f0f921\"]], \"type\": \"heatmapgl\"}], \"histogram\": [{\"marker\": {\"colorbar\": {\"outlinewidth\": 0, \"ticks\": \"\"}}, \"type\": \"histogram\"}], \"histogram2d\": [{\"colorbar\": {\"outlinewidth\": 0, \"ticks\": \"\"}, \"colorscale\": [[0.0, \"#0d0887\"], [0.1111111111111111, \"#46039f\"], [0.2222222222222222, \"#7201a8\"], [0.3333333333333333, \"#9c179e\"], [0.4444444444444444, \"#bd3786\"], [0.5555555555555556, \"#d8576b\"], [0.6666666666666666, \"#ed7953\"], [0.7777777777777778, \"#fb9f3a\"], [0.8888888888888888, \"#fdca26\"], [1.0, \"#f0f921\"]], \"type\": \"histogram2d\"}], \"histogram2dcontour\": [{\"colorbar\": {\"outlinewidth\": 0, \"ticks\": \"\"}, \"colorscale\": [[0.0, \"#0d0887\"], [0.1111111111111111, \"#46039f\"], [0.2222222222222222, \"#7201a8\"], [0.3333333333333333, \"#9c179e\"], [0.4444444444444444, \"#bd3786\"], [0.5555555555555556, \"#d8576b\"], [0.6666666666666666, \"#ed7953\"], [0.7777777777777778, \"#fb9f3a\"], [0.8888888888888888, \"#fdca26\"], [1.0, \"#f0f921\"]], \"type\": \"histogram2dcontour\"}], \"mesh3d\": [{\"colorbar\": {\"outlinewidth\": 0, \"ticks\": \"\"}, \"type\": \"mesh3d\"}], \"parcoords\": [{\"line\": {\"colorbar\": {\"outlinewidth\": 0, \"ticks\": \"\"}}, \"type\": \"parcoords\"}], \"pie\": [{\"automargin\": true, \"type\": \"pie\"}], \"scatter\": [{\"marker\": {\"colorbar\": {\"outlinewidth\": 0, \"ticks\": \"\"}}, \"type\": \"scatter\"}], \"scatter3d\": [{\"line\": {\"colorbar\": {\"outlinewidth\": 0, \"ticks\": \"\"}}, \"marker\": {\"colorbar\": {\"outlinewidth\": 0, \"ticks\": \"\"}}, \"type\": \"scatter3d\"}], \"scattercarpet\": [{\"marker\": {\"colorbar\": {\"outlinewidth\": 0, \"ticks\": \"\"}}, \"type\": \"scattercarpet\"}], \"scattergeo\": [{\"marker\": {\"colorbar\": {\"outlinewidth\": 0, \"ticks\": \"\"}}, \"type\": \"scattergeo\"}], \"scattergl\": [{\"marker\": {\"colorbar\": {\"outlinewidth\": 0, \"ticks\": \"\"}}, \"type\": \"scattergl\"}], \"scattermapbox\": [{\"marker\": {\"colorbar\": {\"outlinewidth\": 0, \"ticks\": \"\"}}, \"type\": \"scattermapbox\"}], \"scatterpolar\": [{\"marker\": {\"colorbar\": {\"outlinewidth\": 0, \"ticks\": \"\"}}, \"type\": \"scatterpolar\"}], \"scatterpolargl\": [{\"marker\": {\"colorbar\": {\"outlinewidth\": 0, \"ticks\": \"\"}}, \"type\": \"scatterpolargl\"}], \"scatterternary\": [{\"marker\": {\"colorbar\": {\"outlinewidth\": 0, \"ticks\": \"\"}}, \"type\": \"scatterternary\"}], \"surface\": [{\"colorbar\": {\"outlinewidth\": 0, \"ticks\": \"\"}, \"colorscale\": [[0.0, \"#0d0887\"], [0.1111111111111111, \"#46039f\"], [0.2222222222222222, \"#7201a8\"], [0.3333333333333333, \"#9c179e\"], [0.4444444444444444, \"#bd3786\"], [0.5555555555555556, \"#d8576b\"], [0.6666666666666666, \"#ed7953\"], [0.7777777777777778, \"#fb9f3a\"], [0.8888888888888888, \"#fdca26\"], [1.0, \"#f0f921\"]], \"type\": \"surface\"}], \"table\": [{\"cells\": {\"fill\": {\"color\": \"#EBF0F8\"}, \"line\": {\"color\": \"white\"}}, \"header\": {\"fill\": {\"color\": \"#C8D4E3\"}, \"line\": {\"color\": \"white\"}}, \"type\": \"table\"}]}, \"layout\": {\"annotationdefaults\": {\"arrowcolor\": \"#2a3f5f\", \"arrowhead\": 0, \"arrowwidth\": 1}, \"coloraxis\": {\"colorbar\": {\"outlinewidth\": 0, \"ticks\": \"\"}}, \"colorscale\": {\"diverging\": [[0, \"#8e0152\"], [0.1, \"#c51b7d\"], [0.2, \"#de77ae\"], [0.3, \"#f1b6da\"], [0.4, \"#fde0ef\"], [0.5, \"#f7f7f7\"], [0.6, \"#e6f5d0\"], [0.7, \"#b8e186\"], [0.8, \"#7fbc41\"], [0.9, \"#4d9221\"], [1, \"#276419\"]], \"sequential\": [[0.0, \"#0d0887\"], [0.1111111111111111, \"#46039f\"], [0.2222222222222222, \"#7201a8\"], [0.3333333333333333, \"#9c179e\"], [0.4444444444444444, \"#bd3786\"], [0.5555555555555556, \"#d8576b\"], [0.6666666666666666, \"#ed7953\"], [0.7777777777777778, \"#fb9f3a\"], [0.8888888888888888, \"#fdca26\"], [1.0, \"#f0f921\"]], \"sequentialminus\": [[0.0, \"#0d0887\"], [0.1111111111111111, \"#46039f\"], [0.2222222222222222, \"#7201a8\"], [0.3333333333333333, \"#9c179e\"], [0.4444444444444444, \"#bd3786\"], [0.5555555555555556, \"#d8576b\"], [0.6666666666666666, \"#ed7953\"], [0.7777777777777778, \"#fb9f3a\"], [0.8888888888888888, \"#fdca26\"], [1.0, \"#f0f921\"]]}, \"colorway\": [\"#636efa\", \"#EF553B\", \"#00cc96\", \"#ab63fa\", \"#FFA15A\", \"#19d3f3\", \"#FF6692\", \"#B6E880\", \"#FF97FF\", \"#FECB52\"], \"font\": {\"color\": \"#2a3f5f\"}, \"geo\": {\"bgcolor\": \"white\", \"lakecolor\": \"white\", \"landcolor\": \"#E5ECF6\", \"showlakes\": true, \"showland\": true, \"subunitcolor\": \"white\"}, \"hoverlabel\": {\"align\": \"left\"}, \"hovermode\": \"closest\", \"mapbox\": {\"style\": \"light\"}, \"paper_bgcolor\": \"white\", \"plot_bgcolor\": \"#E5ECF6\", \"polar\": {\"angularaxis\": {\"gridcolor\": \"white\", \"linecolor\": \"white\", \"ticks\": \"\"}, \"bgcolor\": \"#E5ECF6\", \"radialaxis\": {\"gridcolor\": \"white\", \"linecolor\": \"white\", \"ticks\": \"\"}}, \"scene\": {\"xaxis\": {\"backgroundcolor\": \"#E5ECF6\", \"gridcolor\": \"white\", \"gridwidth\": 2, \"linecolor\": \"white\", \"showbackground\": true, \"ticks\": \"\", \"zerolinecolor\": \"white\"}, \"yaxis\": {\"backgroundcolor\": \"#E5ECF6\", \"gridcolor\": \"white\", \"gridwidth\": 2, \"linecolor\": \"white\", \"showbackground\": true, \"ticks\": \"\", \"zerolinecolor\": \"white\"}, \"zaxis\": {\"backgroundcolor\": \"#E5ECF6\", \"gridcolor\": \"white\", \"gridwidth\": 2, \"linecolor\": \"white\", \"showbackground\": true, \"ticks\": \"\", \"zerolinecolor\": \"white\"}}, \"shapedefaults\": {\"line\": {\"color\": \"#2a3f5f\"}}, \"ternary\": {\"aaxis\": {\"gridcolor\": \"white\", \"linecolor\": \"white\", \"ticks\": \"\"}, \"baxis\": {\"gridcolor\": \"white\", \"linecolor\": \"white\", \"ticks\": \"\"}, \"bgcolor\": \"#E5ECF6\", \"caxis\": {\"gridcolor\": \"white\", \"linecolor\": \"white\", \"ticks\": \"\"}}, \"title\": {\"x\": 0.05}, \"xaxis\": {\"automargin\": true, \"gridcolor\": \"white\", \"linecolor\": \"white\", \"ticks\": \"\", \"title\": {\"standoff\": 15}, \"zerolinecolor\": \"white\", \"zerolinewidth\": 2}, \"yaxis\": {\"automargin\": true, \"gridcolor\": \"white\", \"linecolor\": \"white\", \"ticks\": \"\", \"title\": {\"standoff\": 15}, \"zerolinecolor\": \"white\", \"zerolinewidth\": 2}}}, \"title\": {\"text\": \"count of patients with anemia for death_event 0 and 1\"}, \"xaxis\": {\"anchor\": \"y\", \"domain\": [0.0, 1.0], \"title\": {\"text\": \"anemia\"}}, \"yaxis\": {\"anchor\": \"x\", \"domain\": [0.0, 1.0], \"title\": {\"text\": \"count\"}}},\n",
              "                        {\"responsive\": true}\n",
              "                    ).then(function(){\n",
              "                            \n",
              "var gd = document.getElementById('dec1e5ed-56c3-4bc8-a95b-63e906e1bfd3');\n",
              "var x = new MutationObserver(function (mutations, observer) {{\n",
              "        var display = window.getComputedStyle(gd).display;\n",
              "        if (!display || display === 'none') {{\n",
              "            console.log([gd, 'removed!']);\n",
              "            Plotly.purge(gd);\n",
              "            observer.disconnect();\n",
              "        }}\n",
              "}});\n",
              "\n",
              "// Listen for the removal of the full notebook cells\n",
              "var notebookContainer = gd.closest('#notebook-container');\n",
              "if (notebookContainer) {{\n",
              "    x.observe(notebookContainer, {childList: true});\n",
              "}}\n",
              "\n",
              "// Listen for the clearing of the current output cell\n",
              "var outputEl = gd.closest('.output');\n",
              "if (outputEl) {{\n",
              "    x.observe(outputEl, {childList: true});\n",
              "}}\n",
              "\n",
              "                        })\n",
              "                };\n",
              "                \n",
              "            </script>\n",
              "        </div>\n",
              "</body>\n",
              "</html>"
            ]
          },
          "metadata": {
            "tags": []
          }
        }
      ]
    },
    {
      "cell_type": "code",
      "metadata": {
        "id": "pPQ_n5tnNxkA",
        "outputId": "63be7b2d-f0e6-4a27-86aa-cd0d7b69b8e0",
        "colab": {
          "base_uri": "https://localhost:8080/",
          "height": 542
        }
      },
      "source": [
        "#similarily let's do this for diabetes and smoking atributes\n",
        "img1 = df['diabetes'].value_counts().reset_index()\n",
        "img1.columns = ['diabetes', 'count']\n",
        "fig = px.bar(img1, x='diabetes', y = 'count', orientation = 'v', title = \"count of patients with diabetes for death_event 0 and 1\")\n",
        "fig.show()"
      ],
      "execution_count": 13,
      "outputs": [
        {
          "output_type": "display_data",
          "data": {
            "text/html": [
              "<html>\n",
              "<head><meta charset=\"utf-8\" /></head>\n",
              "<body>\n",
              "    <div>\n",
              "            <script src=\"https://cdnjs.cloudflare.com/ajax/libs/mathjax/2.7.5/MathJax.js?config=TeX-AMS-MML_SVG\"></script><script type=\"text/javascript\">if (window.MathJax) {MathJax.Hub.Config({SVG: {font: \"STIX-Web\"}});}</script>\n",
              "                <script type=\"text/javascript\">window.PlotlyConfig = {MathJaxConfig: 'local'};</script>\n",
              "        <script src=\"https://cdn.plot.ly/plotly-latest.min.js\"></script>    \n",
              "            <div id=\"ae180eb7-6025-4457-974a-d93448d46d90\" class=\"plotly-graph-div\" style=\"height:525px; width:100%;\"></div>\n",
              "            <script type=\"text/javascript\">\n",
              "                \n",
              "                    window.PLOTLYENV=window.PLOTLYENV || {};\n",
              "                    \n",
              "                if (document.getElementById(\"ae180eb7-6025-4457-974a-d93448d46d90\")) {\n",
              "                    Plotly.newPlot(\n",
              "                        'ae180eb7-6025-4457-974a-d93448d46d90',\n",
              "                        [{\"alignmentgroup\": \"True\", \"hoverlabel\": {\"namelength\": 0}, \"hovertemplate\": \"diabetes=%{x}<br>count=%{y}\", \"legendgroup\": \"\", \"marker\": {\"color\": \"#636efa\"}, \"name\": \"\", \"offsetgroup\": \"\", \"orientation\": \"v\", \"showlegend\": false, \"textposition\": \"auto\", \"type\": \"bar\", \"x\": [\"0\", \"1\"], \"xaxis\": \"x\", \"y\": [174, 125], \"yaxis\": \"y\"}],\n",
              "                        {\"barmode\": \"relative\", \"legend\": {\"tracegroupgap\": 0}, \"template\": {\"data\": {\"bar\": [{\"error_x\": {\"color\": \"#2a3f5f\"}, \"error_y\": {\"color\": \"#2a3f5f\"}, \"marker\": {\"line\": {\"color\": \"#E5ECF6\", \"width\": 0.5}}, \"type\": \"bar\"}], \"barpolar\": [{\"marker\": {\"line\": {\"color\": \"#E5ECF6\", \"width\": 0.5}}, \"type\": \"barpolar\"}], \"carpet\": [{\"aaxis\": {\"endlinecolor\": \"#2a3f5f\", \"gridcolor\": \"white\", \"linecolor\": \"white\", \"minorgridcolor\": \"white\", \"startlinecolor\": \"#2a3f5f\"}, \"baxis\": {\"endlinecolor\": \"#2a3f5f\", \"gridcolor\": \"white\", \"linecolor\": \"white\", \"minorgridcolor\": \"white\", \"startlinecolor\": \"#2a3f5f\"}, \"type\": \"carpet\"}], \"choropleth\": [{\"colorbar\": {\"outlinewidth\": 0, \"ticks\": \"\"}, \"type\": \"choropleth\"}], \"contour\": [{\"colorbar\": {\"outlinewidth\": 0, \"ticks\": \"\"}, \"colorscale\": [[0.0, \"#0d0887\"], [0.1111111111111111, \"#46039f\"], [0.2222222222222222, \"#7201a8\"], [0.3333333333333333, \"#9c179e\"], [0.4444444444444444, \"#bd3786\"], [0.5555555555555556, \"#d8576b\"], [0.6666666666666666, \"#ed7953\"], [0.7777777777777778, \"#fb9f3a\"], [0.8888888888888888, \"#fdca26\"], [1.0, \"#f0f921\"]], \"type\": \"contour\"}], \"contourcarpet\": [{\"colorbar\": {\"outlinewidth\": 0, \"ticks\": \"\"}, \"type\": \"contourcarpet\"}], \"heatmap\": [{\"colorbar\": {\"outlinewidth\": 0, \"ticks\": \"\"}, \"colorscale\": [[0.0, \"#0d0887\"], [0.1111111111111111, \"#46039f\"], [0.2222222222222222, \"#7201a8\"], [0.3333333333333333, \"#9c179e\"], [0.4444444444444444, \"#bd3786\"], [0.5555555555555556, \"#d8576b\"], [0.6666666666666666, \"#ed7953\"], [0.7777777777777778, \"#fb9f3a\"], [0.8888888888888888, \"#fdca26\"], [1.0, \"#f0f921\"]], \"type\": \"heatmap\"}], \"heatmapgl\": [{\"colorbar\": {\"outlinewidth\": 0, \"ticks\": \"\"}, \"colorscale\": [[0.0, \"#0d0887\"], [0.1111111111111111, \"#46039f\"], [0.2222222222222222, \"#7201a8\"], [0.3333333333333333, \"#9c179e\"], [0.4444444444444444, \"#bd3786\"], [0.5555555555555556, \"#d8576b\"], [0.6666666666666666, \"#ed7953\"], [0.7777777777777778, \"#fb9f3a\"], [0.8888888888888888, \"#fdca26\"], [1.0, \"#f0f921\"]], \"type\": \"heatmapgl\"}], \"histogram\": [{\"marker\": {\"colorbar\": {\"outlinewidth\": 0, \"ticks\": \"\"}}, \"type\": \"histogram\"}], \"histogram2d\": [{\"colorbar\": {\"outlinewidth\": 0, \"ticks\": \"\"}, \"colorscale\": [[0.0, \"#0d0887\"], [0.1111111111111111, \"#46039f\"], [0.2222222222222222, \"#7201a8\"], [0.3333333333333333, \"#9c179e\"], [0.4444444444444444, \"#bd3786\"], [0.5555555555555556, \"#d8576b\"], [0.6666666666666666, \"#ed7953\"], [0.7777777777777778, \"#fb9f3a\"], [0.8888888888888888, \"#fdca26\"], [1.0, \"#f0f921\"]], \"type\": \"histogram2d\"}], \"histogram2dcontour\": [{\"colorbar\": {\"outlinewidth\": 0, \"ticks\": \"\"}, \"colorscale\": [[0.0, \"#0d0887\"], [0.1111111111111111, \"#46039f\"], [0.2222222222222222, \"#7201a8\"], [0.3333333333333333, \"#9c179e\"], [0.4444444444444444, \"#bd3786\"], [0.5555555555555556, \"#d8576b\"], [0.6666666666666666, \"#ed7953\"], [0.7777777777777778, \"#fb9f3a\"], [0.8888888888888888, \"#fdca26\"], [1.0, \"#f0f921\"]], \"type\": \"histogram2dcontour\"}], \"mesh3d\": [{\"colorbar\": {\"outlinewidth\": 0, \"ticks\": \"\"}, \"type\": \"mesh3d\"}], \"parcoords\": [{\"line\": {\"colorbar\": {\"outlinewidth\": 0, \"ticks\": \"\"}}, \"type\": \"parcoords\"}], \"pie\": [{\"automargin\": true, \"type\": \"pie\"}], \"scatter\": [{\"marker\": {\"colorbar\": {\"outlinewidth\": 0, \"ticks\": \"\"}}, \"type\": \"scatter\"}], \"scatter3d\": [{\"line\": {\"colorbar\": {\"outlinewidth\": 0, \"ticks\": \"\"}}, \"marker\": {\"colorbar\": {\"outlinewidth\": 0, \"ticks\": \"\"}}, \"type\": \"scatter3d\"}], \"scattercarpet\": [{\"marker\": {\"colorbar\": {\"outlinewidth\": 0, \"ticks\": \"\"}}, \"type\": \"scattercarpet\"}], \"scattergeo\": [{\"marker\": {\"colorbar\": {\"outlinewidth\": 0, \"ticks\": \"\"}}, \"type\": \"scattergeo\"}], \"scattergl\": [{\"marker\": {\"colorbar\": {\"outlinewidth\": 0, \"ticks\": \"\"}}, \"type\": \"scattergl\"}], \"scattermapbox\": [{\"marker\": {\"colorbar\": {\"outlinewidth\": 0, \"ticks\": \"\"}}, \"type\": \"scattermapbox\"}], \"scatterpolar\": [{\"marker\": {\"colorbar\": {\"outlinewidth\": 0, \"ticks\": \"\"}}, \"type\": \"scatterpolar\"}], \"scatterpolargl\": [{\"marker\": {\"colorbar\": {\"outlinewidth\": 0, \"ticks\": \"\"}}, \"type\": \"scatterpolargl\"}], \"scatterternary\": [{\"marker\": {\"colorbar\": {\"outlinewidth\": 0, \"ticks\": \"\"}}, \"type\": \"scatterternary\"}], \"surface\": [{\"colorbar\": {\"outlinewidth\": 0, \"ticks\": \"\"}, \"colorscale\": [[0.0, \"#0d0887\"], [0.1111111111111111, \"#46039f\"], [0.2222222222222222, \"#7201a8\"], [0.3333333333333333, \"#9c179e\"], [0.4444444444444444, \"#bd3786\"], [0.5555555555555556, \"#d8576b\"], [0.6666666666666666, \"#ed7953\"], [0.7777777777777778, \"#fb9f3a\"], [0.8888888888888888, \"#fdca26\"], [1.0, \"#f0f921\"]], \"type\": \"surface\"}], \"table\": [{\"cells\": {\"fill\": {\"color\": \"#EBF0F8\"}, \"line\": {\"color\": \"white\"}}, \"header\": {\"fill\": {\"color\": \"#C8D4E3\"}, \"line\": {\"color\": \"white\"}}, \"type\": \"table\"}]}, \"layout\": {\"annotationdefaults\": {\"arrowcolor\": \"#2a3f5f\", \"arrowhead\": 0, \"arrowwidth\": 1}, \"coloraxis\": {\"colorbar\": {\"outlinewidth\": 0, \"ticks\": \"\"}}, \"colorscale\": {\"diverging\": [[0, \"#8e0152\"], [0.1, \"#c51b7d\"], [0.2, \"#de77ae\"], [0.3, \"#f1b6da\"], [0.4, \"#fde0ef\"], [0.5, \"#f7f7f7\"], [0.6, \"#e6f5d0\"], [0.7, \"#b8e186\"], [0.8, \"#7fbc41\"], [0.9, \"#4d9221\"], [1, \"#276419\"]], \"sequential\": [[0.0, \"#0d0887\"], [0.1111111111111111, \"#46039f\"], [0.2222222222222222, \"#7201a8\"], [0.3333333333333333, \"#9c179e\"], [0.4444444444444444, \"#bd3786\"], [0.5555555555555556, \"#d8576b\"], [0.6666666666666666, \"#ed7953\"], [0.7777777777777778, \"#fb9f3a\"], [0.8888888888888888, \"#fdca26\"], [1.0, \"#f0f921\"]], \"sequentialminus\": [[0.0, \"#0d0887\"], [0.1111111111111111, \"#46039f\"], [0.2222222222222222, \"#7201a8\"], [0.3333333333333333, \"#9c179e\"], [0.4444444444444444, \"#bd3786\"], [0.5555555555555556, \"#d8576b\"], [0.6666666666666666, \"#ed7953\"], [0.7777777777777778, \"#fb9f3a\"], [0.8888888888888888, \"#fdca26\"], [1.0, \"#f0f921\"]]}, \"colorway\": [\"#636efa\", \"#EF553B\", \"#00cc96\", \"#ab63fa\", \"#FFA15A\", \"#19d3f3\", \"#FF6692\", \"#B6E880\", \"#FF97FF\", \"#FECB52\"], \"font\": {\"color\": \"#2a3f5f\"}, \"geo\": {\"bgcolor\": \"white\", \"lakecolor\": \"white\", \"landcolor\": \"#E5ECF6\", \"showlakes\": true, \"showland\": true, \"subunitcolor\": \"white\"}, \"hoverlabel\": {\"align\": \"left\"}, \"hovermode\": \"closest\", \"mapbox\": {\"style\": \"light\"}, \"paper_bgcolor\": \"white\", \"plot_bgcolor\": \"#E5ECF6\", \"polar\": {\"angularaxis\": {\"gridcolor\": \"white\", \"linecolor\": \"white\", \"ticks\": \"\"}, \"bgcolor\": \"#E5ECF6\", \"radialaxis\": {\"gridcolor\": \"white\", \"linecolor\": \"white\", \"ticks\": \"\"}}, \"scene\": {\"xaxis\": {\"backgroundcolor\": \"#E5ECF6\", \"gridcolor\": \"white\", \"gridwidth\": 2, \"linecolor\": \"white\", \"showbackground\": true, \"ticks\": \"\", \"zerolinecolor\": \"white\"}, \"yaxis\": {\"backgroundcolor\": \"#E5ECF6\", \"gridcolor\": \"white\", \"gridwidth\": 2, \"linecolor\": \"white\", \"showbackground\": true, \"ticks\": \"\", \"zerolinecolor\": \"white\"}, \"zaxis\": {\"backgroundcolor\": \"#E5ECF6\", \"gridcolor\": \"white\", \"gridwidth\": 2, \"linecolor\": \"white\", \"showbackground\": true, \"ticks\": \"\", \"zerolinecolor\": \"white\"}}, \"shapedefaults\": {\"line\": {\"color\": \"#2a3f5f\"}}, \"ternary\": {\"aaxis\": {\"gridcolor\": \"white\", \"linecolor\": \"white\", \"ticks\": \"\"}, \"baxis\": {\"gridcolor\": \"white\", \"linecolor\": \"white\", \"ticks\": \"\"}, \"bgcolor\": \"#E5ECF6\", \"caxis\": {\"gridcolor\": \"white\", \"linecolor\": \"white\", \"ticks\": \"\"}}, \"title\": {\"x\": 0.05}, \"xaxis\": {\"automargin\": true, \"gridcolor\": \"white\", \"linecolor\": \"white\", \"ticks\": \"\", \"title\": {\"standoff\": 15}, \"zerolinecolor\": \"white\", \"zerolinewidth\": 2}, \"yaxis\": {\"automargin\": true, \"gridcolor\": \"white\", \"linecolor\": \"white\", \"ticks\": \"\", \"title\": {\"standoff\": 15}, \"zerolinecolor\": \"white\", \"zerolinewidth\": 2}}}, \"title\": {\"text\": \"count of patients with diabetes for death_event 0 and 1\"}, \"xaxis\": {\"anchor\": \"y\", \"domain\": [0.0, 1.0], \"title\": {\"text\": \"diabetes\"}}, \"yaxis\": {\"anchor\": \"x\", \"domain\": [0.0, 1.0], \"title\": {\"text\": \"count\"}}},\n",
              "                        {\"responsive\": true}\n",
              "                    ).then(function(){\n",
              "                            \n",
              "var gd = document.getElementById('ae180eb7-6025-4457-974a-d93448d46d90');\n",
              "var x = new MutationObserver(function (mutations, observer) {{\n",
              "        var display = window.getComputedStyle(gd).display;\n",
              "        if (!display || display === 'none') {{\n",
              "            console.log([gd, 'removed!']);\n",
              "            Plotly.purge(gd);\n",
              "            observer.disconnect();\n",
              "        }}\n",
              "}});\n",
              "\n",
              "// Listen for the removal of the full notebook cells\n",
              "var notebookContainer = gd.closest('#notebook-container');\n",
              "if (notebookContainer) {{\n",
              "    x.observe(notebookContainer, {childList: true});\n",
              "}}\n",
              "\n",
              "// Listen for the clearing of the current output cell\n",
              "var outputEl = gd.closest('.output');\n",
              "if (outputEl) {{\n",
              "    x.observe(outputEl, {childList: true});\n",
              "}}\n",
              "\n",
              "                        })\n",
              "                };\n",
              "                \n",
              "            </script>\n",
              "        </div>\n",
              "</body>\n",
              "</html>"
            ]
          },
          "metadata": {
            "tags": []
          }
        }
      ]
    },
    {
      "cell_type": "code",
      "metadata": {
        "id": "qEWutXILOFdo",
        "outputId": "5ea4eb6d-35b0-4722-ad3b-9e06b5f50116",
        "colab": {
          "base_uri": "https://localhost:8080/",
          "height": 542
        }
      },
      "source": [
        "img2 = df['smoking'].value_counts().reset_index()\n",
        "img2.columns = ['smoking', 'count']\n",
        "fig = px.bar(img2, x='smoking', y = 'count', orientation = 'v', title = \"count of patients with smoking habit for death_event 0 and 1\")\n",
        "fig.show()"
      ],
      "execution_count": 14,
      "outputs": [
        {
          "output_type": "display_data",
          "data": {
            "text/html": [
              "<html>\n",
              "<head><meta charset=\"utf-8\" /></head>\n",
              "<body>\n",
              "    <div>\n",
              "            <script src=\"https://cdnjs.cloudflare.com/ajax/libs/mathjax/2.7.5/MathJax.js?config=TeX-AMS-MML_SVG\"></script><script type=\"text/javascript\">if (window.MathJax) {MathJax.Hub.Config({SVG: {font: \"STIX-Web\"}});}</script>\n",
              "                <script type=\"text/javascript\">window.PlotlyConfig = {MathJaxConfig: 'local'};</script>\n",
              "        <script src=\"https://cdn.plot.ly/plotly-latest.min.js\"></script>    \n",
              "            <div id=\"f4f43a74-24b1-4ebf-97b5-8c766aa11af4\" class=\"plotly-graph-div\" style=\"height:525px; width:100%;\"></div>\n",
              "            <script type=\"text/javascript\">\n",
              "                \n",
              "                    window.PLOTLYENV=window.PLOTLYENV || {};\n",
              "                    \n",
              "                if (document.getElementById(\"f4f43a74-24b1-4ebf-97b5-8c766aa11af4\")) {\n",
              "                    Plotly.newPlot(\n",
              "                        'f4f43a74-24b1-4ebf-97b5-8c766aa11af4',\n",
              "                        [{\"alignmentgroup\": \"True\", \"hoverlabel\": {\"namelength\": 0}, \"hovertemplate\": \"smoking=%{x}<br>count=%{y}\", \"legendgroup\": \"\", \"marker\": {\"color\": \"#636efa\"}, \"name\": \"\", \"offsetgroup\": \"\", \"orientation\": \"v\", \"showlegend\": false, \"textposition\": \"auto\", \"type\": \"bar\", \"x\": [\"0\", \"1\"], \"xaxis\": \"x\", \"y\": [203, 96], \"yaxis\": \"y\"}],\n",
              "                        {\"barmode\": \"relative\", \"legend\": {\"tracegroupgap\": 0}, \"template\": {\"data\": {\"bar\": [{\"error_x\": {\"color\": \"#2a3f5f\"}, \"error_y\": {\"color\": \"#2a3f5f\"}, \"marker\": {\"line\": {\"color\": \"#E5ECF6\", \"width\": 0.5}}, \"type\": \"bar\"}], \"barpolar\": [{\"marker\": {\"line\": {\"color\": \"#E5ECF6\", \"width\": 0.5}}, \"type\": \"barpolar\"}], \"carpet\": [{\"aaxis\": {\"endlinecolor\": \"#2a3f5f\", \"gridcolor\": \"white\", \"linecolor\": \"white\", \"minorgridcolor\": \"white\", \"startlinecolor\": \"#2a3f5f\"}, \"baxis\": {\"endlinecolor\": \"#2a3f5f\", \"gridcolor\": \"white\", \"linecolor\": \"white\", \"minorgridcolor\": \"white\", \"startlinecolor\": \"#2a3f5f\"}, \"type\": \"carpet\"}], \"choropleth\": [{\"colorbar\": {\"outlinewidth\": 0, \"ticks\": \"\"}, \"type\": \"choropleth\"}], \"contour\": [{\"colorbar\": {\"outlinewidth\": 0, \"ticks\": \"\"}, \"colorscale\": [[0.0, \"#0d0887\"], [0.1111111111111111, \"#46039f\"], [0.2222222222222222, \"#7201a8\"], [0.3333333333333333, \"#9c179e\"], [0.4444444444444444, \"#bd3786\"], [0.5555555555555556, \"#d8576b\"], [0.6666666666666666, \"#ed7953\"], [0.7777777777777778, \"#fb9f3a\"], [0.8888888888888888, \"#fdca26\"], [1.0, \"#f0f921\"]], \"type\": \"contour\"}], \"contourcarpet\": [{\"colorbar\": {\"outlinewidth\": 0, \"ticks\": \"\"}, \"type\": \"contourcarpet\"}], \"heatmap\": [{\"colorbar\": {\"outlinewidth\": 0, \"ticks\": \"\"}, \"colorscale\": [[0.0, \"#0d0887\"], [0.1111111111111111, \"#46039f\"], [0.2222222222222222, \"#7201a8\"], [0.3333333333333333, \"#9c179e\"], [0.4444444444444444, \"#bd3786\"], [0.5555555555555556, \"#d8576b\"], [0.6666666666666666, \"#ed7953\"], [0.7777777777777778, \"#fb9f3a\"], [0.8888888888888888, \"#fdca26\"], [1.0, \"#f0f921\"]], \"type\": \"heatmap\"}], \"heatmapgl\": [{\"colorbar\": {\"outlinewidth\": 0, \"ticks\": \"\"}, \"colorscale\": [[0.0, \"#0d0887\"], [0.1111111111111111, \"#46039f\"], [0.2222222222222222, \"#7201a8\"], [0.3333333333333333, \"#9c179e\"], [0.4444444444444444, \"#bd3786\"], [0.5555555555555556, \"#d8576b\"], [0.6666666666666666, \"#ed7953\"], [0.7777777777777778, \"#fb9f3a\"], [0.8888888888888888, \"#fdca26\"], [1.0, \"#f0f921\"]], \"type\": \"heatmapgl\"}], \"histogram\": [{\"marker\": {\"colorbar\": {\"outlinewidth\": 0, \"ticks\": \"\"}}, \"type\": \"histogram\"}], \"histogram2d\": [{\"colorbar\": {\"outlinewidth\": 0, \"ticks\": \"\"}, \"colorscale\": [[0.0, \"#0d0887\"], [0.1111111111111111, \"#46039f\"], [0.2222222222222222, \"#7201a8\"], [0.3333333333333333, \"#9c179e\"], [0.4444444444444444, \"#bd3786\"], [0.5555555555555556, \"#d8576b\"], [0.6666666666666666, \"#ed7953\"], [0.7777777777777778, \"#fb9f3a\"], [0.8888888888888888, \"#fdca26\"], [1.0, \"#f0f921\"]], \"type\": \"histogram2d\"}], \"histogram2dcontour\": [{\"colorbar\": {\"outlinewidth\": 0, \"ticks\": \"\"}, \"colorscale\": [[0.0, \"#0d0887\"], [0.1111111111111111, \"#46039f\"], [0.2222222222222222, \"#7201a8\"], [0.3333333333333333, \"#9c179e\"], [0.4444444444444444, \"#bd3786\"], [0.5555555555555556, \"#d8576b\"], [0.6666666666666666, \"#ed7953\"], [0.7777777777777778, \"#fb9f3a\"], [0.8888888888888888, \"#fdca26\"], [1.0, \"#f0f921\"]], \"type\": \"histogram2dcontour\"}], \"mesh3d\": [{\"colorbar\": {\"outlinewidth\": 0, \"ticks\": \"\"}, \"type\": \"mesh3d\"}], \"parcoords\": [{\"line\": {\"colorbar\": {\"outlinewidth\": 0, \"ticks\": \"\"}}, \"type\": \"parcoords\"}], \"pie\": [{\"automargin\": true, \"type\": \"pie\"}], \"scatter\": [{\"marker\": {\"colorbar\": {\"outlinewidth\": 0, \"ticks\": \"\"}}, \"type\": \"scatter\"}], \"scatter3d\": [{\"line\": {\"colorbar\": {\"outlinewidth\": 0, \"ticks\": \"\"}}, \"marker\": {\"colorbar\": {\"outlinewidth\": 0, \"ticks\": \"\"}}, \"type\": \"scatter3d\"}], \"scattercarpet\": [{\"marker\": {\"colorbar\": {\"outlinewidth\": 0, \"ticks\": \"\"}}, \"type\": \"scattercarpet\"}], \"scattergeo\": [{\"marker\": {\"colorbar\": {\"outlinewidth\": 0, \"ticks\": \"\"}}, \"type\": \"scattergeo\"}], \"scattergl\": [{\"marker\": {\"colorbar\": {\"outlinewidth\": 0, \"ticks\": \"\"}}, \"type\": \"scattergl\"}], \"scattermapbox\": [{\"marker\": {\"colorbar\": {\"outlinewidth\": 0, \"ticks\": \"\"}}, \"type\": \"scattermapbox\"}], \"scatterpolar\": [{\"marker\": {\"colorbar\": {\"outlinewidth\": 0, \"ticks\": \"\"}}, \"type\": \"scatterpolar\"}], \"scatterpolargl\": [{\"marker\": {\"colorbar\": {\"outlinewidth\": 0, \"ticks\": \"\"}}, \"type\": \"scatterpolargl\"}], \"scatterternary\": [{\"marker\": {\"colorbar\": {\"outlinewidth\": 0, \"ticks\": \"\"}}, \"type\": \"scatterternary\"}], \"surface\": [{\"colorbar\": {\"outlinewidth\": 0, \"ticks\": \"\"}, \"colorscale\": [[0.0, \"#0d0887\"], [0.1111111111111111, \"#46039f\"], [0.2222222222222222, \"#7201a8\"], [0.3333333333333333, \"#9c179e\"], [0.4444444444444444, \"#bd3786\"], [0.5555555555555556, \"#d8576b\"], [0.6666666666666666, \"#ed7953\"], [0.7777777777777778, \"#fb9f3a\"], [0.8888888888888888, \"#fdca26\"], [1.0, \"#f0f921\"]], \"type\": \"surface\"}], \"table\": [{\"cells\": {\"fill\": {\"color\": \"#EBF0F8\"}, \"line\": {\"color\": \"white\"}}, \"header\": {\"fill\": {\"color\": \"#C8D4E3\"}, \"line\": {\"color\": \"white\"}}, \"type\": \"table\"}]}, \"layout\": {\"annotationdefaults\": {\"arrowcolor\": \"#2a3f5f\", \"arrowhead\": 0, \"arrowwidth\": 1}, \"coloraxis\": {\"colorbar\": {\"outlinewidth\": 0, \"ticks\": \"\"}}, \"colorscale\": {\"diverging\": [[0, \"#8e0152\"], [0.1, \"#c51b7d\"], [0.2, \"#de77ae\"], [0.3, \"#f1b6da\"], [0.4, \"#fde0ef\"], [0.5, \"#f7f7f7\"], [0.6, \"#e6f5d0\"], [0.7, \"#b8e186\"], [0.8, \"#7fbc41\"], [0.9, \"#4d9221\"], [1, \"#276419\"]], \"sequential\": [[0.0, \"#0d0887\"], [0.1111111111111111, \"#46039f\"], [0.2222222222222222, \"#7201a8\"], [0.3333333333333333, \"#9c179e\"], [0.4444444444444444, \"#bd3786\"], [0.5555555555555556, \"#d8576b\"], [0.6666666666666666, \"#ed7953\"], [0.7777777777777778, \"#fb9f3a\"], [0.8888888888888888, \"#fdca26\"], [1.0, \"#f0f921\"]], \"sequentialminus\": [[0.0, \"#0d0887\"], [0.1111111111111111, \"#46039f\"], [0.2222222222222222, \"#7201a8\"], [0.3333333333333333, \"#9c179e\"], [0.4444444444444444, \"#bd3786\"], [0.5555555555555556, \"#d8576b\"], [0.6666666666666666, \"#ed7953\"], [0.7777777777777778, \"#fb9f3a\"], [0.8888888888888888, \"#fdca26\"], [1.0, \"#f0f921\"]]}, \"colorway\": [\"#636efa\", \"#EF553B\", \"#00cc96\", \"#ab63fa\", \"#FFA15A\", \"#19d3f3\", \"#FF6692\", \"#B6E880\", \"#FF97FF\", \"#FECB52\"], \"font\": {\"color\": \"#2a3f5f\"}, \"geo\": {\"bgcolor\": \"white\", \"lakecolor\": \"white\", \"landcolor\": \"#E5ECF6\", \"showlakes\": true, \"showland\": true, \"subunitcolor\": \"white\"}, \"hoverlabel\": {\"align\": \"left\"}, \"hovermode\": \"closest\", \"mapbox\": {\"style\": \"light\"}, \"paper_bgcolor\": \"white\", \"plot_bgcolor\": \"#E5ECF6\", \"polar\": {\"angularaxis\": {\"gridcolor\": \"white\", \"linecolor\": \"white\", \"ticks\": \"\"}, \"bgcolor\": \"#E5ECF6\", \"radialaxis\": {\"gridcolor\": \"white\", \"linecolor\": \"white\", \"ticks\": \"\"}}, \"scene\": {\"xaxis\": {\"backgroundcolor\": \"#E5ECF6\", \"gridcolor\": \"white\", \"gridwidth\": 2, \"linecolor\": \"white\", \"showbackground\": true, \"ticks\": \"\", \"zerolinecolor\": \"white\"}, \"yaxis\": {\"backgroundcolor\": \"#E5ECF6\", \"gridcolor\": \"white\", \"gridwidth\": 2, \"linecolor\": \"white\", \"showbackground\": true, \"ticks\": \"\", \"zerolinecolor\": \"white\"}, \"zaxis\": {\"backgroundcolor\": \"#E5ECF6\", \"gridcolor\": \"white\", \"gridwidth\": 2, \"linecolor\": \"white\", \"showbackground\": true, \"ticks\": \"\", \"zerolinecolor\": \"white\"}}, \"shapedefaults\": {\"line\": {\"color\": \"#2a3f5f\"}}, \"ternary\": {\"aaxis\": {\"gridcolor\": \"white\", \"linecolor\": \"white\", \"ticks\": \"\"}, \"baxis\": {\"gridcolor\": \"white\", \"linecolor\": \"white\", \"ticks\": \"\"}, \"bgcolor\": \"#E5ECF6\", \"caxis\": {\"gridcolor\": \"white\", \"linecolor\": \"white\", \"ticks\": \"\"}}, \"title\": {\"x\": 0.05}, \"xaxis\": {\"automargin\": true, \"gridcolor\": \"white\", \"linecolor\": \"white\", \"ticks\": \"\", \"title\": {\"standoff\": 15}, \"zerolinecolor\": \"white\", \"zerolinewidth\": 2}, \"yaxis\": {\"automargin\": true, \"gridcolor\": \"white\", \"linecolor\": \"white\", \"ticks\": \"\", \"title\": {\"standoff\": 15}, \"zerolinecolor\": \"white\", \"zerolinewidth\": 2}}}, \"title\": {\"text\": \"count of patients with smoking habit for death_event 0 and 1\"}, \"xaxis\": {\"anchor\": \"y\", \"domain\": [0.0, 1.0], \"title\": {\"text\": \"smoking\"}}, \"yaxis\": {\"anchor\": \"x\", \"domain\": [0.0, 1.0], \"title\": {\"text\": \"count\"}}},\n",
              "                        {\"responsive\": true}\n",
              "                    ).then(function(){\n",
              "                            \n",
              "var gd = document.getElementById('f4f43a74-24b1-4ebf-97b5-8c766aa11af4');\n",
              "var x = new MutationObserver(function (mutations, observer) {{\n",
              "        var display = window.getComputedStyle(gd).display;\n",
              "        if (!display || display === 'none') {{\n",
              "            console.log([gd, 'removed!']);\n",
              "            Plotly.purge(gd);\n",
              "            observer.disconnect();\n",
              "        }}\n",
              "}});\n",
              "\n",
              "// Listen for the removal of the full notebook cells\n",
              "var notebookContainer = gd.closest('#notebook-container');\n",
              "if (notebookContainer) {{\n",
              "    x.observe(notebookContainer, {childList: true});\n",
              "}}\n",
              "\n",
              "// Listen for the clearing of the current output cell\n",
              "var outputEl = gd.closest('.output');\n",
              "if (outputEl) {{\n",
              "    x.observe(outputEl, {childList: true});\n",
              "}}\n",
              "\n",
              "                        })\n",
              "                };\n",
              "                \n",
              "            </script>\n",
              "        </div>\n",
              "</body>\n",
              "</html>"
            ]
          },
          "metadata": {
            "tags": []
          }
        }
      ]
    },
    {
      "cell_type": "code",
      "metadata": {
        "id": "2-RvTjeQON6W",
        "outputId": "10e26f6d-34fc-4aee-e52a-dc5e682a7b50",
        "colab": {
          "base_uri": "https://localhost:8080/",
          "height": 542
        }
      },
      "source": [
        "import plotly.express as px\n",
        "fig = px.violin(df, y=\"age\", x=\"sex\", color=\"death_event\", box=True, points=\"all\", hover_data=df.columns)\n",
        "fig.update_layout(title_text=\"Analysis of Age and Sex on Death Event\")\n",
        "fig.show()"
      ],
      "execution_count": 16,
      "outputs": [
        {
          "output_type": "display_data",
          "data": {
            "text/html": [
              "<html>\n",
              "<head><meta charset=\"utf-8\" /></head>\n",
              "<body>\n",
              "    <div>\n",
              "            <script src=\"https://cdnjs.cloudflare.com/ajax/libs/mathjax/2.7.5/MathJax.js?config=TeX-AMS-MML_SVG\"></script><script type=\"text/javascript\">if (window.MathJax) {MathJax.Hub.Config({SVG: {font: \"STIX-Web\"}});}</script>\n",
              "                <script type=\"text/javascript\">window.PlotlyConfig = {MathJaxConfig: 'local'};</script>\n",
              "        <script src=\"https://cdn.plot.ly/plotly-latest.min.js\"></script>    \n",
              "            <div id=\"1dbc09a6-a5ed-472a-bd1d-c2f695304bab\" class=\"plotly-graph-div\" style=\"height:525px; width:100%;\"></div>\n",
              "            <script type=\"text/javascript\">\n",
              "                \n",
              "                    window.PLOTLYENV=window.PLOTLYENV || {};\n",
              "                    \n",
              "                if (document.getElementById(\"1dbc09a6-a5ed-472a-bd1d-c2f695304bab\")) {\n",
              "                    Plotly.newPlot(\n",
              "                        '1dbc09a6-a5ed-472a-bd1d-c2f695304bab',\n",
              "                        [{\"alignmentgroup\": \"True\", \"box\": {\"visible\": true}, \"customdata\": [[\"75\", \"0\", \"582\", \"0\", \"20\", \"1\", \"265000\", \"1.9\", \"130\", \"1\", \"0\", \"4\", \"1\"], [\"55\", \"0\", \"7861\", \"0\", \"38\", \"0\", \"263358.03\", \"1.1\", \"136\", \"1\", \"0\", \"6\", \"1\"], [\"65\", \"0\", \"146\", \"0\", \"20\", \"0\", \"162000\", \"1.3\", \"129\", \"1\", \"1\", \"7\", \"1\"], [\"50\", \"1\", \"111\", \"0\", \"20\", \"0\", \"210000\", \"1.9\", \"137\", \"1\", \"0\", \"7\", \"1\"], [\"65\", \"1\", \"160\", \"1\", \"20\", \"0\", \"327000\", \"2.7\", \"116\", \"0\", \"0\", \"8\", \"1\"], [\"90\", \"1\", \"47\", \"0\", \"40\", \"1\", \"204000\", \"2.1\", \"132\", \"1\", \"1\", \"8\", \"1\"], [\"75\", \"1\", \"246\", \"0\", \"15\", \"0\", \"127000\", \"1.2\", \"137\", \"1\", \"0\", \"10\", \"1\"], [\"60\", \"1\", \"315\", \"1\", \"60\", \"0\", \"454000\", \"1.1\", \"131\", \"1\", \"1\", \"10\", \"1\"], [\"65\", \"0\", \"157\", \"0\", \"65\", \"0\", \"263358.03\", \"1.5\", \"138\", \"0\", \"0\", \"10\", \"1\"], [\"80\", \"1\", \"123\", \"0\", \"35\", \"1\", \"388000\", \"9.4\", \"133\", \"1\", \"1\", \"10\", \"1\"], [\"75\", \"1\", \"81\", \"0\", \"38\", \"1\", \"368000\", \"4\", \"131\", \"1\", \"1\", \"10\", \"1\"], [\"62\", \"0\", \"231\", \"0\", \"25\", \"1\", \"253000\", \"0.9\", \"140\", \"1\", \"1\", \"10\", \"1\"], [\"45\", \"1\", \"981\", \"0\", \"30\", \"0\", \"136000\", \"1.1\", \"137\", \"1\", \"0\", \"11\", \"1\"], [\"50\", \"1\", \"168\", \"0\", \"38\", \"1\", \"276000\", \"1.1\", \"137\", \"1\", \"0\", \"11\", \"1\"], [\"82\", \"1\", \"379\", \"0\", \"50\", \"0\", \"47000\", \"1.3\", \"136\", \"1\", \"0\", \"13\", \"1\"], [\"87\", \"1\", \"149\", \"0\", \"38\", \"0\", \"262000\", \"0.9\", \"140\", \"1\", \"0\", \"14\", \"1\"], [\"45\", \"0\", \"582\", \"0\", \"14\", \"0\", \"166000\", \"0.8\", \"127\", \"1\", \"0\", \"14\", \"1\"], [\"70\", \"1\", \"125\", \"0\", \"25\", \"1\", \"237000\", \"1\", \"140\", \"0\", \"0\", \"15\", \"1\"], [\"48\", \"1\", \"582\", \"1\", \"55\", \"0\", \"87000\", \"1.9\", \"121\", \"0\", \"0\", \"15\", \"1\"], [\"65\", \"1\", \"128\", \"1\", \"30\", \"1\", \"297000\", \"1.6\", \"136\", \"0\", \"0\", \"20\", \"1\"], [\"68\", \"1\", \"220\", \"0\", \"35\", \"1\", \"289000\", \"0.9\", \"140\", \"1\", \"1\", \"20\", \"1\"], [\"75\", \"0\", \"582\", \"1\", \"30\", \"1\", \"263358.03\", \"1.83\", \"134\", \"0\", \"0\", \"23\", \"1\"], [\"80\", \"0\", \"148\", \"1\", \"38\", \"0\", \"149000\", \"1.9\", \"144\", \"1\", \"1\", \"23\", \"1\"], [\"95\", \"1\", \"112\", \"0\", \"40\", \"1\", \"196000\", \"1\", \"138\", \"0\", \"0\", \"24\", \"1\"], [\"70\", \"0\", \"122\", \"1\", \"45\", \"1\", \"284000\", \"1.3\", \"136\", \"1\", \"1\", \"26\", \"1\"], [\"58\", \"1\", \"60\", \"0\", \"38\", \"0\", \"153000\", \"5.8\", \"134\", \"1\", \"0\", \"26\", \"1\"], [\"82\", \"0\", \"70\", \"1\", \"30\", \"0\", \"200000\", \"1.2\", \"132\", \"1\", \"1\", \"26\", \"1\"], [\"94\", \"0\", \"582\", \"1\", \"38\", \"1\", \"263358.03\", \"1.83\", \"134\", \"1\", \"0\", \"27\", \"1\"], [\"85\", \"0\", \"23\", \"0\", \"45\", \"0\", \"360000\", \"3\", \"132\", \"1\", \"0\", \"28\", \"1\"], [\"50\", \"1\", \"249\", \"1\", \"35\", \"1\", \"319000\", \"1\", \"128\", \"0\", \"0\", \"28\", \"1\"], [\"65\", \"0\", \"94\", \"1\", \"50\", \"1\", \"188000\", \"1\", \"140\", \"1\", \"0\", \"29\", \"1\"], [\"69\", \"0\", \"582\", \"1\", \"35\", \"0\", \"228000\", \"3.5\", \"134\", \"1\", \"0\", \"30\", \"1\"], [\"90\", \"1\", \"60\", \"1\", \"50\", \"0\", \"226000\", \"1\", \"134\", \"1\", \"0\", \"30\", \"1\"], [\"82\", \"1\", \"855\", \"1\", \"50\", \"1\", \"321000\", \"1\", \"145\", \"0\", \"0\", \"30\", \"1\"], [\"60\", \"0\", \"235\", \"1\", \"38\", \"0\", \"329000\", \"3\", \"142\", \"0\", \"0\", \"30\", \"1\"], [\"70\", \"0\", \"582\", \"0\", \"20\", \"1\", \"263358.03\", \"1.83\", \"134\", \"1\", \"1\", \"31\", \"1\"], [\"50\", \"0\", \"124\", \"1\", \"30\", \"1\", \"153000\", \"1.2\", \"136\", \"0\", \"1\", \"32\", \"1\"], [\"70\", \"0\", \"571\", \"1\", \"45\", \"1\", \"185000\", \"1.2\", \"139\", \"1\", \"1\", \"33\", \"1\"], [\"60\", \"1\", \"588\", \"1\", \"60\", \"0\", \"194000\", \"1.1\", \"142\", \"0\", \"0\", \"33\", \"1\"], [\"50\", \"0\", \"582\", \"1\", \"38\", \"0\", \"310000\", \"1.9\", \"135\", \"1\", \"1\", \"35\", \"1\"], [\"51\", \"0\", \"1380\", \"0\", \"25\", \"1\", \"271000\", \"0.9\", \"130\", \"1\", \"0\", \"38\", \"1\"], [\"60\", \"0\", \"582\", \"1\", \"38\", \"1\", \"451000\", \"0.6\", \"138\", \"1\", \"1\", \"40\", \"1\"], [\"80\", \"1\", \"553\", \"0\", \"20\", \"1\", \"140000\", \"4.4\", \"133\", \"1\", \"0\", \"41\", \"1\"], [\"57\", \"1\", \"129\", \"0\", \"30\", \"0\", \"395000\", \"1\", \"140\", \"0\", \"0\", \"42\", \"1\"], [\"68\", \"1\", \"577\", \"0\", \"25\", \"1\", \"166000\", \"1\", \"138\", \"1\", \"0\", \"43\", \"1\"], [\"53\", \"1\", \"91\", \"0\", \"20\", \"1\", \"418000\", \"1.4\", \"139\", \"0\", \"0\", \"43\", \"1\"], [\"60\", \"0\", \"3964\", \"1\", \"62\", \"0\", \"263358.03\", \"6.8\", \"146\", \"0\", \"0\", \"43\", \"1\"], [\"70\", \"1\", \"69\", \"1\", \"50\", \"1\", \"351000\", \"1\", \"134\", \"0\", \"0\", \"44\", \"1\"], [\"60\", \"1\", \"260\", \"1\", \"38\", \"0\", \"255000\", \"2.2\", \"132\", \"0\", \"1\", \"45\", \"1\"], [\"95\", \"1\", \"371\", \"0\", \"30\", \"0\", \"461000\", \"2\", \"132\", \"1\", \"0\", \"50\", \"1\"], [\"49\", \"0\", \"789\", \"0\", \"20\", \"1\", \"319000\", \"1.1\", \"136\", \"1\", \"1\", \"55\", \"1\"], [\"72\", \"0\", \"364\", \"1\", \"20\", \"1\", \"254000\", \"1.3\", \"136\", \"1\", \"1\", \"59\", \"1\"], [\"45\", \"0\", \"7702\", \"1\", \"25\", \"1\", \"390000\", \"1\", \"139\", \"1\", \"0\", \"60\", \"1\"], [\"50\", \"0\", \"318\", \"0\", \"40\", \"1\", \"216000\", \"2.3\", \"131\", \"0\", \"0\", \"60\", \"1\"], [\"45\", \"0\", \"582\", \"0\", \"35\", \"0\", \"385000\", \"1\", \"145\", \"1\", \"0\", \"61\", \"1\"], [\"60\", \"0\", \"68\", \"0\", \"20\", \"0\", \"119000\", \"2.9\", \"127\", \"1\", \"1\", \"64\", \"1\"], [\"42\", \"1\", \"250\", \"1\", \"15\", \"0\", \"213000\", \"1.3\", \"136\", \"0\", \"0\", \"65\", \"1\"], [\"72\", \"1\", \"110\", \"0\", \"25\", \"0\", \"274000\", \"1\", \"140\", \"1\", \"1\", \"65\", \"1\"], [\"70\", \"0\", \"161\", \"0\", \"25\", \"0\", \"244000\", \"1.2\", \"142\", \"0\", \"0\", \"66\", \"1\"], [\"65\", \"0\", \"113\", \"1\", \"25\", \"0\", \"497000\", \"1.83\", \"135\", \"1\", \"0\", \"67\", \"1\"], [\"85\", \"0\", \"5882\", \"0\", \"35\", \"0\", \"243000\", \"1\", \"132\", \"1\", \"1\", \"72\", \"1\"], [\"69\", \"0\", \"582\", \"0\", \"20\", \"0\", \"266000\", \"1.2\", \"134\", \"1\", \"1\", \"73\", \"1\"], [\"60\", \"1\", \"47\", \"0\", \"20\", \"0\", \"204000\", \"0.7\", \"139\", \"1\", \"1\", \"73\", \"1\"], [\"60\", \"1\", \"76\", \"1\", \"25\", \"0\", \"196000\", \"2.5\", \"132\", \"0\", \"0\", \"77\", \"1\"], [\"59\", \"1\", \"280\", \"1\", \"25\", \"1\", \"302000\", \"1\", \"141\", \"0\", \"0\", \"78\", \"1\"], [\"60\", \"1\", \"154\", \"0\", \"25\", \"0\", \"210000\", \"1.7\", \"135\", \"1\", \"0\", \"82\", \"1\"], [\"72\", \"1\", \"328\", \"0\", \"30\", \"1\", \"621000\", \"1.7\", \"138\", \"0\", \"1\", \"88\", \"1\"], [\"85\", \"0\", \"129\", \"0\", \"60\", \"0\", \"306000\", \"1.2\", \"132\", \"1\", \"1\", \"90\", \"1\"], [\"70\", \"1\", \"143\", \"0\", \"60\", \"0\", \"351000\", \"1.3\", \"137\", \"0\", \"0\", \"90\", \"1\"], [\"86\", \"0\", \"582\", \"0\", \"38\", \"0\", \"263358.03\", \"1.83\", \"134\", \"0\", \"0\", \"95\", \"1\"], [\"60\", \"0\", \"582\", \"0\", \"40\", \"0\", \"217000\", \"3.7\", \"134\", \"1\", \"0\", \"96\", \"1\"], [\"46\", \"0\", \"168\", \"1\", \"17\", \"1\", \"271000\", \"2.1\", \"124\", \"0\", \"0\", \"100\", \"1\"], [\"80\", \"0\", \"805\", \"0\", \"38\", \"0\", \"263358.03\", \"1.1\", \"134\", \"1\", \"0\", \"109\", \"1\"], [\"72\", \"1\", \"943\", \"0\", \"25\", \"1\", \"338000\", \"1.7\", \"139\", \"1\", \"1\", \"111\", \"1\"], [\"75\", \"1\", \"582\", \"0\", \"30\", \"0\", \"225000\", \"1.83\", \"134\", \"1\", \"0\", \"113\", \"1\"], [\"72\", \"0\", \"233\", \"0\", \"45\", \"1\", \"235000\", \"2.5\", \"135\", \"0\", \"0\", \"115\", \"1\"], [\"50\", \"1\", \"2334\", \"1\", \"35\", \"0\", \"75000\", \"0.9\", \"142\", \"0\", \"0\", \"126\", \"1\"], [\"45\", \"0\", \"2442\", \"1\", \"30\", \"0\", \"334000\", \"1.1\", \"139\", \"1\", \"0\", \"129\", \"1\"], [\"80\", \"0\", \"776\", \"1\", \"38\", \"1\", \"192000\", \"1.3\", \"135\", \"0\", \"0\", \"130\", \"1\"], [\"59\", \"0\", \"66\", \"1\", \"20\", \"0\", \"70000\", \"2.4\", \"134\", \"1\", \"0\", \"135\", \"1\"], [\"59\", \"1\", \"176\", \"1\", \"25\", \"0\", \"221000\", \"1\", \"136\", \"1\", \"1\", \"150\", \"1\"], [\"65\", \"0\", \"395\", \"1\", \"25\", \"0\", \"265000\", \"1.2\", \"136\", \"1\", \"1\", \"154\", \"1\"], [\"75\", \"0\", \"99\", \"0\", \"38\", \"1\", \"224000\", \"2.5\", \"134\", \"1\", \"0\", \"162\", \"1\"], [\"58\", \"1\", \"145\", \"0\", \"25\", \"0\", \"219000\", \"1.2\", \"137\", \"1\", \"1\", \"170\", \"1\"], [\"60.667\", \"1\", \"104\", \"1\", \"30\", \"0\", \"389000\", \"1.5\", \"136\", \"1\", \"0\", \"171\", \"1\"], [\"50\", \"0\", \"582\", \"0\", \"50\", \"0\", \"153000\", \"0.6\", \"134\", \"0\", \"0\", \"172\", \"1\"], [\"60\", \"0\", \"1896\", \"1\", \"25\", \"0\", \"365000\", \"2.1\", \"144\", \"0\", \"0\", \"172\", \"1\"], [\"45\", \"0\", \"582\", \"0\", \"20\", \"1\", \"126000\", \"1.6\", \"135\", \"1\", \"0\", \"180\", \"1\"], [\"77\", \"1\", \"418\", \"0\", \"45\", \"0\", \"223000\", \"1.8\", \"145\", \"1\", \"0\", \"180\", \"1\"], [\"48\", \"1\", \"131\", \"1\", \"30\", \"1\", \"244000\", \"1.6\", \"130\", \"0\", \"0\", \"193\", \"1\"], [\"54\", \"1\", \"427\", \"0\", \"70\", \"1\", \"151000\", \"9\", \"137\", \"0\", \"0\", \"196\", \"1\"], [\"73\", \"0\", \"582\", \"0\", \"20\", \"0\", \"263358.03\", \"1.83\", \"134\", \"1\", \"0\", \"198\", \"1\"], [\"60\", \"0\", \"166\", \"0\", \"30\", \"0\", \"62000\", \"1.7\", \"127\", \"0\", \"0\", \"207\", \"1\"], [\"55\", \"0\", \"2017\", \"0\", \"25\", \"0\", \"314000\", \"1.1\", \"138\", \"1\", \"0\", \"214\", \"1\"], [\"65\", \"1\", \"258\", \"1\", \"25\", \"0\", \"198000\", \"1.4\", \"129\", \"1\", \"0\", \"235\", \"1\"], [\"55\", \"0\", \"1199\", \"0\", \"20\", \"0\", \"263358.03\", \"1.83\", \"134\", \"1\", \"1\", \"241\", \"1\"]], \"hoverlabel\": {\"namelength\": 0}, \"hovertemplate\": \"death_event=%{customdata[12]}<br>sex=%{customdata[9]}<br>age=%{customdata[0]}<br>anaemia=%{customdata[1]}<br>creatinine_phosphokinase=%{customdata[2]}<br>diabetes=%{customdata[3]}<br>ejection_fraction=%{customdata[4]}<br>high_blood_pressure=%{customdata[5]}<br>platelets=%{customdata[6]}<br>serum_creatinine=%{customdata[7]}<br>serum_sodium=%{customdata[8]}<br>smoking=%{customdata[10]}<br>time=%{customdata[11]}\", \"legendgroup\": \"death_event=1\", \"marker\": {\"color\": \"#636efa\"}, \"name\": \"death_event=1\", \"offsetgroup\": \"death_event=1\", \"orientation\": \"v\", \"points\": \"all\", \"scalegroup\": \"True\", \"showlegend\": true, \"type\": \"violin\", \"x\": [\"1\", \"1\", \"1\", \"1\", \"0\", \"1\", \"1\", \"1\", \"0\", \"1\", \"1\", \"1\", \"1\", \"1\", \"1\", \"1\", \"1\", \"0\", \"0\", \"0\", \"1\", \"0\", \"1\", \"0\", \"1\", \"1\", \"1\", \"1\", \"1\", \"0\", \"1\", \"1\", \"1\", \"0\", \"0\", \"1\", \"0\", \"1\", \"0\", \"1\", \"1\", \"1\", \"1\", \"0\", \"1\", \"0\", \"0\", \"0\", \"0\", \"1\", \"1\", \"1\", \"1\", \"0\", \"1\", \"1\", \"0\", \"1\", \"0\", \"1\", \"1\", \"1\", \"1\", \"0\", \"0\", \"1\", \"0\", \"1\", \"0\", \"0\", \"1\", \"0\", \"1\", \"1\", \"1\", \"0\", \"0\", \"1\", \"0\", \"1\", \"1\", \"1\", \"1\", \"1\", \"1\", \"0\", \"0\", \"1\", \"1\", \"0\", \"0\", \"1\", \"0\", \"1\", \"1\", \"1\"], \"x0\": \" \", \"xaxis\": \"x\", \"y\": [\"75\", \"55\", \"65\", \"50\", \"65\", \"90\", \"75\", \"60\", \"65\", \"80\", \"75\", \"62\", \"45\", \"50\", \"82\", \"87\", \"45\", \"70\", \"48\", \"65\", \"68\", \"75\", \"80\", \"95\", \"70\", \"58\", \"82\", \"94\", \"85\", \"50\", \"65\", \"69\", \"90\", \"82\", \"60\", \"70\", \"50\", \"70\", \"60\", \"50\", \"51\", \"60\", \"80\", \"57\", \"68\", \"53\", \"60\", \"70\", \"60\", \"95\", \"49\", \"72\", \"45\", \"50\", \"45\", \"60\", \"42\", \"72\", \"70\", \"65\", \"85\", \"69\", \"60\", \"60\", \"59\", \"60\", \"72\", \"85\", \"70\", \"86\", \"60\", \"46\", \"80\", \"72\", \"75\", \"72\", \"50\", \"45\", \"80\", \"59\", \"59\", \"65\", \"75\", \"58\", \"60.667\", \"50\", \"60\", \"45\", \"77\", \"48\", \"54\", \"73\", \"60\", \"55\", \"65\", \"55\"], \"y0\": \" \", \"yaxis\": \"y\"}, {\"alignmentgroup\": \"True\", \"box\": {\"visible\": true}, \"customdata\": [[\"49\", \"1\", \"80\", \"0\", \"30\", \"1\", \"427000\", \"1\", \"138\", \"0\", \"0\", \"12\", \"0\"], [\"65\", \"1\", \"52\", \"0\", \"25\", \"1\", \"276000\", \"1.3\", \"137\", \"0\", \"0\", \"16\", \"0\"], [\"53\", \"0\", \"63\", \"1\", \"60\", \"0\", \"368000\", \"0.8\", \"135\", \"1\", \"0\", \"22\", \"0\"], [\"50\", \"1\", \"159\", \"1\", \"30\", \"0\", \"302000\", \"1.2\", \"138\", \"0\", \"0\", \"29\", \"0\"], [\"60\", \"0\", \"2656\", \"1\", \"30\", \"0\", \"305000\", \"2.3\", \"137\", \"1\", \"0\", \"30\", \"0\"], [\"72\", \"0\", \"127\", \"1\", \"50\", \"1\", \"218000\", \"1\", \"134\", \"1\", \"0\", \"33\", \"0\"], [\"70\", \"1\", \"75\", \"0\", \"35\", \"0\", \"223000\", \"2.7\", \"138\", \"1\", \"1\", \"54\", \"0\"], [\"60\", \"1\", \"607\", \"0\", \"40\", \"0\", \"216000\", \"0.6\", \"138\", \"1\", \"1\", \"54\", \"0\"], [\"55\", \"0\", \"109\", \"0\", \"35\", \"0\", \"254000\", \"1.1\", \"139\", \"1\", \"1\", \"60\", \"0\"], [\"45\", \"0\", \"582\", \"0\", \"80\", \"0\", \"263358.03\", \"1.18\", \"137\", \"0\", \"0\", \"63\", \"0\"], [\"41\", \"0\", \"148\", \"0\", \"40\", \"0\", \"374000\", \"0.8\", \"140\", \"1\", \"1\", \"68\", \"0\"], [\"58\", \"0\", \"582\", \"1\", \"35\", \"0\", \"122000\", \"0.9\", \"139\", \"1\", \"1\", \"71\", \"0\"], [\"65\", \"0\", \"224\", \"1\", \"50\", \"0\", \"149000\", \"1.3\", \"137\", \"1\", \"1\", \"72\", \"0\"], [\"70\", \"0\", \"92\", \"0\", \"60\", \"1\", \"317000\", \"0.8\", \"140\", \"0\", \"1\", \"74\", \"0\"], [\"42\", \"0\", \"102\", \"1\", \"40\", \"0\", \"237000\", \"1.2\", \"140\", \"1\", \"0\", \"74\", \"0\"], [\"75\", \"1\", \"203\", \"1\", \"38\", \"1\", \"283000\", \"0.6\", \"131\", \"1\", \"1\", \"74\", \"0\"], [\"55\", \"0\", \"336\", \"0\", \"45\", \"1\", \"324000\", \"0.9\", \"140\", \"0\", \"0\", \"74\", \"0\"], [\"70\", \"0\", \"69\", \"0\", \"40\", \"0\", \"293000\", \"1.7\", \"136\", \"0\", \"0\", \"75\", \"0\"], [\"67\", \"0\", \"582\", \"0\", \"50\", \"0\", \"263358.03\", \"1.18\", \"137\", \"1\", \"1\", \"76\", \"0\"], [\"79\", \"1\", \"55\", \"0\", \"50\", \"1\", \"172000\", \"1.8\", \"133\", \"1\", \"0\", \"78\", \"0\"], [\"51\", \"0\", \"78\", \"0\", \"50\", \"0\", \"406000\", \"0.7\", \"140\", \"1\", \"0\", \"79\", \"0\"], [\"55\", \"0\", \"47\", \"0\", \"35\", \"1\", \"173000\", \"1.1\", \"137\", \"1\", \"0\", \"79\", \"0\"], [\"65\", \"1\", \"68\", \"1\", \"60\", \"1\", \"304000\", \"0.8\", \"140\", \"1\", \"0\", \"79\", \"0\"], [\"44\", \"0\", \"84\", \"1\", \"40\", \"1\", \"235000\", \"0.7\", \"139\", \"1\", \"0\", \"79\", \"0\"], [\"57\", \"1\", \"115\", \"0\", \"25\", \"1\", \"181000\", \"1.1\", \"144\", \"1\", \"0\", \"79\", \"0\"], [\"70\", \"0\", \"66\", \"1\", \"45\", \"0\", \"249000\", \"0.8\", \"136\", \"1\", \"1\", \"80\", \"0\"], [\"60\", \"0\", \"897\", \"1\", \"45\", \"0\", \"297000\", \"1\", \"133\", \"1\", \"0\", \"80\", \"0\"], [\"42\", \"0\", \"582\", \"0\", \"60\", \"0\", \"263358.03\", \"1.18\", \"137\", \"0\", \"0\", \"82\", \"0\"], [\"58\", \"0\", \"144\", \"1\", \"38\", \"1\", \"327000\", \"0.7\", \"142\", \"0\", \"0\", \"83\", \"0\"], [\"58\", \"1\", \"133\", \"0\", \"60\", \"1\", \"219000\", \"1\", \"141\", \"1\", \"0\", \"83\", \"0\"], [\"63\", \"1\", \"514\", \"1\", \"25\", \"1\", \"254000\", \"1.3\", \"134\", \"1\", \"0\", \"83\", \"0\"], [\"70\", \"1\", \"59\", \"0\", \"60\", \"0\", \"255000\", \"1.1\", \"136\", \"0\", \"0\", \"85\", \"0\"], [\"60\", \"1\", \"156\", \"1\", \"25\", \"1\", \"318000\", \"1.2\", \"137\", \"0\", \"0\", \"85\", \"0\"], [\"63\", \"1\", \"61\", \"1\", \"40\", \"0\", \"221000\", \"1.1\", \"140\", \"0\", \"0\", \"86\", \"0\"], [\"65\", \"1\", \"305\", \"0\", \"25\", \"0\", \"298000\", \"1.1\", \"141\", \"1\", \"0\", \"87\", \"0\"], [\"75\", \"0\", \"582\", \"0\", \"45\", \"1\", \"263358.03\", \"1.18\", \"137\", \"1\", \"0\", \"87\", \"0\"], [\"80\", \"0\", \"898\", \"0\", \"25\", \"0\", \"149000\", \"1.1\", \"144\", \"1\", \"1\", \"87\", \"0\"], [\"42\", \"0\", \"5209\", \"0\", \"30\", \"0\", \"226000\", \"1\", \"140\", \"1\", \"1\", \"87\", \"0\"], [\"60\", \"0\", \"53\", \"0\", \"50\", \"1\", \"286000\", \"2.3\", \"143\", \"0\", \"0\", \"87\", \"0\"], [\"55\", \"0\", \"748\", \"0\", \"45\", \"0\", \"263000\", \"1.3\", \"137\", \"1\", \"0\", \"88\", \"0\"], [\"45\", \"1\", \"1876\", \"1\", \"35\", \"0\", \"226000\", \"0.9\", \"138\", \"1\", \"0\", \"88\", \"0\"], [\"63\", \"0\", \"936\", \"0\", \"38\", \"0\", \"304000\", \"1.1\", \"133\", \"1\", \"1\", \"88\", \"0\"], [\"45\", \"0\", \"292\", \"1\", \"35\", \"0\", \"850000\", \"1.3\", \"142\", \"1\", \"1\", \"88\", \"0\"], [\"55\", \"0\", \"60\", \"0\", \"35\", \"0\", \"228000\", \"1.2\", \"135\", \"1\", \"1\", \"90\", \"0\"], [\"50\", \"0\", \"369\", \"1\", \"25\", \"0\", \"252000\", \"1.6\", \"136\", \"1\", \"0\", \"90\", \"0\"], [\"60\", \"1\", \"754\", \"1\", \"40\", \"1\", \"328000\", \"1.2\", \"126\", \"1\", \"0\", \"91\", \"0\"], [\"58\", \"1\", \"400\", \"0\", \"40\", \"0\", \"164000\", \"1\", \"139\", \"0\", \"0\", \"91\", \"0\"], [\"60\", \"1\", \"96\", \"1\", \"60\", \"1\", \"271000\", \"0.7\", \"136\", \"0\", \"0\", \"94\", \"0\"], [\"85\", \"1\", \"102\", \"0\", \"60\", \"0\", \"507000\", \"3.2\", \"138\", \"0\", \"0\", \"94\", \"0\"], [\"65\", \"1\", \"113\", \"1\", \"60\", \"1\", \"203000\", \"0.9\", \"140\", \"0\", \"0\", \"94\", \"0\"], [\"60\", \"1\", \"737\", \"0\", \"60\", \"1\", \"210000\", \"1.5\", \"135\", \"1\", \"1\", \"95\", \"0\"], [\"66\", \"1\", \"68\", \"1\", \"38\", \"1\", \"162000\", \"1\", \"136\", \"0\", \"0\", \"95\", \"0\"], [\"60\", \"0\", \"96\", \"1\", \"38\", \"0\", \"228000\", \"0.75\", \"140\", \"0\", \"0\", \"95\", \"0\"], [\"60\", \"1\", \"582\", \"0\", \"30\", \"1\", \"127000\", \"0.9\", \"145\", \"0\", \"0\", \"95\", \"0\"], [\"43\", \"1\", \"358\", \"0\", \"50\", \"0\", \"237000\", \"1.3\", \"135\", \"0\", \"0\", \"97\", \"0\"], [\"58\", \"1\", \"200\", \"1\", \"60\", \"0\", \"300000\", \"0.8\", \"137\", \"0\", \"0\", \"104\", \"0\"], [\"61\", \"0\", \"248\", \"0\", \"30\", \"1\", \"267000\", \"0.7\", \"136\", \"1\", \"1\", \"104\", \"0\"], [\"53\", \"1\", \"270\", \"1\", \"35\", \"0\", \"227000\", \"3.4\", \"145\", \"1\", \"0\", \"105\", \"0\"], [\"53\", \"1\", \"1808\", \"0\", \"60\", \"1\", \"249000\", \"0.7\", \"138\", \"1\", \"1\", \"106\", \"0\"], [\"60\", \"1\", \"1082\", \"1\", \"45\", \"0\", \"250000\", \"6.1\", \"131\", \"1\", \"0\", \"107\", \"0\"], [\"46\", \"0\", \"719\", \"0\", \"40\", \"1\", \"263358.03\", \"1.18\", \"137\", \"0\", \"0\", \"107\", \"0\"], [\"63\", \"0\", \"193\", \"0\", \"60\", \"1\", \"295000\", \"1.3\", \"145\", \"1\", \"1\", \"107\", \"0\"], [\"81\", \"0\", \"4540\", \"0\", \"35\", \"0\", \"231000\", \"1.18\", \"137\", \"1\", \"1\", \"107\", \"0\"], [\"75\", \"0\", \"582\", \"0\", \"40\", \"0\", \"263358.03\", \"1.18\", \"137\", \"1\", \"0\", \"107\", \"0\"], [\"65\", \"1\", \"59\", \"1\", \"60\", \"0\", \"172000\", \"0.9\", \"137\", \"0\", \"0\", \"107\", \"0\"], [\"68\", \"1\", \"646\", \"0\", \"25\", \"0\", \"305000\", \"2.1\", \"130\", \"1\", \"0\", \"108\", \"0\"], [\"62\", \"0\", \"281\", \"1\", \"35\", \"0\", \"221000\", \"1\", \"136\", \"0\", \"0\", \"108\", \"0\"], [\"50\", \"0\", \"1548\", \"0\", \"30\", \"1\", \"211000\", \"0.8\", \"138\", \"1\", \"0\", \"108\", \"0\"], [\"46\", \"1\", \"291\", \"0\", \"35\", \"0\", \"348000\", \"0.9\", \"140\", \"0\", \"0\", \"109\", \"0\"], [\"50\", \"0\", \"482\", \"1\", \"30\", \"0\", \"329000\", \"0.9\", \"132\", \"0\", \"0\", \"109\", \"0\"], [\"61\", \"1\", \"84\", \"0\", \"40\", \"1\", \"229000\", \"0.9\", \"141\", \"0\", \"0\", \"110\", \"0\"], [\"50\", \"0\", \"185\", \"0\", \"30\", \"0\", \"266000\", \"0.7\", \"141\", \"1\", \"1\", \"112\", \"0\"], [\"52\", \"0\", \"132\", \"0\", \"30\", \"0\", \"218000\", \"0.7\", \"136\", \"1\", \"1\", \"112\", \"0\"], [\"64\", \"0\", \"1610\", \"0\", \"60\", \"0\", \"242000\", \"1\", \"137\", \"1\", \"0\", \"113\", \"0\"], [\"60\", \"0\", \"2261\", \"0\", \"35\", \"1\", \"228000\", \"0.9\", \"136\", \"1\", \"0\", \"115\", \"0\"], [\"62\", \"0\", \"30\", \"1\", \"60\", \"1\", \"244000\", \"0.9\", \"139\", \"1\", \"0\", \"117\", \"0\"], [\"50\", \"0\", \"115\", \"0\", \"45\", \"1\", \"184000\", \"0.9\", \"134\", \"1\", \"1\", \"118\", \"0\"], [\"50\", \"0\", \"1846\", \"1\", \"35\", \"0\", \"263358.03\", \"1.18\", \"137\", \"1\", \"1\", \"119\", \"0\"], [\"65\", \"1\", \"335\", \"0\", \"35\", \"1\", \"235000\", \"0.8\", \"136\", \"0\", \"0\", \"120\", \"0\"], [\"60\", \"1\", \"231\", \"1\", \"25\", \"0\", \"194000\", \"1.7\", \"140\", \"1\", \"0\", \"120\", \"0\"], [\"52\", \"1\", \"58\", \"0\", \"35\", \"0\", \"277000\", \"1.4\", \"136\", \"0\", \"0\", \"120\", \"0\"], [\"50\", \"0\", \"250\", \"0\", \"25\", \"0\", \"262000\", \"1\", \"136\", \"1\", \"1\", \"120\", \"0\"], [\"85\", \"1\", \"910\", \"0\", \"50\", \"0\", \"235000\", \"1.3\", \"134\", \"1\", \"0\", \"121\", \"0\"], [\"59\", \"1\", \"129\", \"0\", \"45\", \"1\", \"362000\", \"1.1\", \"139\", \"1\", \"1\", \"121\", \"0\"], [\"66\", \"1\", \"72\", \"0\", \"40\", \"1\", \"242000\", \"1.2\", \"134\", \"1\", \"0\", \"121\", \"0\"], [\"45\", \"1\", \"130\", \"0\", \"35\", \"0\", \"174000\", \"0.8\", \"139\", \"1\", \"1\", \"121\", \"0\"], [\"63\", \"1\", \"582\", \"0\", \"40\", \"0\", \"448000\", \"0.9\", \"137\", \"1\", \"1\", \"123\", \"0\"], [\"53\", \"0\", \"196\", \"0\", \"60\", \"0\", \"220000\", \"0.7\", \"133\", \"1\", \"1\", \"134\", \"0\"], [\"65\", \"0\", \"582\", \"1\", \"40\", \"0\", \"270000\", \"1\", \"138\", \"0\", \"0\", \"140\", \"0\"], [\"70\", \"0\", \"835\", \"0\", \"35\", \"1\", \"305000\", \"0.8\", \"133\", \"0\", \"0\", \"145\", \"0\"], [\"51\", \"1\", \"582\", \"1\", \"35\", \"0\", \"263358.03\", \"1.5\", \"136\", \"1\", \"1\", \"145\", \"0\"], [\"52\", \"0\", \"3966\", \"0\", \"40\", \"0\", \"325000\", \"0.9\", \"140\", \"1\", \"1\", \"146\", \"0\"], [\"70\", \"1\", \"171\", \"0\", \"60\", \"1\", \"176000\", \"1.1\", \"145\", \"1\", \"1\", \"146\", \"0\"], [\"50\", \"1\", \"115\", \"0\", \"20\", \"0\", \"189000\", \"0.8\", \"139\", \"1\", \"0\", \"146\", \"0\"], [\"65\", \"0\", \"198\", \"1\", \"35\", \"1\", \"281000\", \"0.9\", \"137\", \"1\", \"1\", \"146\", \"0\"], [\"60\", \"1\", \"95\", \"0\", \"60\", \"0\", \"337000\", \"1\", \"138\", \"1\", \"1\", \"146\", \"0\"], [\"69\", \"0\", \"1419\", \"0\", \"40\", \"0\", \"105000\", \"1\", \"135\", \"1\", \"1\", \"147\", \"0\"], [\"49\", \"1\", \"69\", \"0\", \"50\", \"0\", \"132000\", \"1\", \"140\", \"0\", \"0\", \"147\", \"0\"], [\"63\", \"1\", \"122\", \"1\", \"60\", \"0\", \"267000\", \"1.2\", \"145\", \"1\", \"0\", \"147\", \"0\"], [\"55\", \"0\", \"835\", \"0\", \"40\", \"0\", \"279000\", \"0.7\", \"140\", \"1\", \"1\", \"147\", \"0\"], [\"40\", \"0\", \"478\", \"1\", \"30\", \"0\", \"303000\", \"0.9\", \"136\", \"1\", \"0\", \"148\", \"0\"], [\"60.667\", \"1\", \"151\", \"1\", \"40\", \"1\", \"201000\", \"1\", \"136\", \"0\", \"0\", \"172\", \"0\"], [\"40\", \"0\", \"244\", \"0\", \"45\", \"1\", \"275000\", \"0.9\", \"140\", \"0\", \"0\", \"174\", \"0\"], [\"80\", \"0\", \"582\", \"1\", \"35\", \"0\", \"350000\", \"2.1\", \"134\", \"1\", \"0\", \"174\", \"0\"], [\"64\", \"1\", \"62\", \"0\", \"60\", \"0\", \"309000\", \"1.5\", \"135\", \"0\", \"0\", \"174\", \"0\"], [\"50\", \"1\", \"121\", \"1\", \"40\", \"0\", \"260000\", \"0.7\", \"130\", \"1\", \"0\", \"175\", \"0\"], [\"73\", \"1\", \"231\", \"1\", \"30\", \"0\", \"160000\", \"1.18\", \"142\", \"1\", \"1\", \"180\", \"0\"], [\"45\", \"0\", \"582\", \"1\", \"38\", \"1\", \"263358.03\", \"1.18\", \"137\", \"0\", \"0\", \"185\", \"0\"], [\"65\", \"0\", \"167\", \"0\", \"30\", \"0\", \"259000\", \"0.8\", \"138\", \"0\", \"0\", \"186\", \"0\"], [\"50\", \"1\", \"582\", \"1\", \"20\", \"1\", \"279000\", \"1\", \"134\", \"0\", \"0\", \"186\", \"0\"], [\"60\", \"0\", \"1211\", \"1\", \"35\", \"0\", \"263358.03\", \"1.8\", \"113\", \"1\", \"1\", \"186\", \"0\"], [\"63\", \"1\", \"1767\", \"0\", \"45\", \"0\", \"73000\", \"0.7\", \"137\", \"1\", \"0\", \"186\", \"0\"], [\"45\", \"0\", \"308\", \"1\", \"60\", \"1\", \"377000\", \"1\", \"136\", \"1\", \"0\", \"186\", \"0\"], [\"70\", \"0\", \"97\", \"0\", \"60\", \"1\", \"220000\", \"0.9\", \"138\", \"1\", \"0\", \"186\", \"0\"], [\"60\", \"0\", \"59\", \"0\", \"25\", \"1\", \"212000\", \"3.5\", \"136\", \"1\", \"1\", \"187\", \"0\"], [\"78\", \"1\", \"64\", \"0\", \"40\", \"0\", \"277000\", \"0.7\", \"137\", \"1\", \"1\", \"187\", \"0\"], [\"50\", \"1\", \"167\", \"1\", \"45\", \"0\", \"362000\", \"1\", \"136\", \"0\", \"0\", \"187\", \"0\"], [\"40\", \"1\", \"101\", \"0\", \"40\", \"0\", \"226000\", \"0.8\", \"141\", \"0\", \"0\", \"187\", \"0\"], [\"85\", \"0\", \"212\", \"0\", \"38\", \"0\", \"186000\", \"0.9\", \"136\", \"1\", \"0\", \"187\", \"0\"], [\"60\", \"1\", \"2281\", \"1\", \"40\", \"0\", \"283000\", \"1\", \"141\", \"0\", \"0\", \"187\", \"0\"], [\"49\", \"0\", \"972\", \"1\", \"35\", \"1\", \"268000\", \"0.8\", \"130\", \"0\", \"0\", \"187\", \"0\"], [\"70\", \"0\", \"212\", \"1\", \"17\", \"1\", \"389000\", \"1\", \"136\", \"1\", \"1\", \"188\", \"0\"], [\"50\", \"0\", \"582\", \"0\", \"62\", \"1\", \"147000\", \"0.8\", \"140\", \"1\", \"1\", \"192\", \"0\"], [\"78\", \"0\", \"224\", \"0\", \"50\", \"0\", \"481000\", \"1.4\", \"138\", \"1\", \"1\", \"192\", \"0\"], [\"65\", \"1\", \"135\", \"0\", \"35\", \"1\", \"290000\", \"0.8\", \"134\", \"1\", \"0\", \"194\", \"0\"], [\"73\", \"0\", \"582\", \"0\", \"35\", \"1\", \"203000\", \"1.3\", \"134\", \"1\", \"0\", \"195\", \"0\"], [\"70\", \"0\", \"1202\", \"0\", \"50\", \"1\", \"358000\", \"0.9\", \"141\", \"0\", \"0\", \"196\", \"0\"], [\"68\", \"1\", \"1021\", \"1\", \"35\", \"0\", \"271000\", \"1.1\", \"134\", \"1\", \"0\", \"197\", \"0\"], [\"55\", \"0\", \"582\", \"1\", \"35\", \"1\", \"371000\", \"0.7\", \"140\", \"0\", \"0\", \"197\", \"0\"], [\"65\", \"0\", \"118\", \"0\", \"50\", \"0\", \"194000\", \"1.1\", \"145\", \"1\", \"1\", \"200\", \"0\"], [\"42\", \"1\", \"86\", \"0\", \"35\", \"0\", \"365000\", \"1.1\", \"139\", \"1\", \"1\", \"201\", \"0\"], [\"47\", \"0\", \"582\", \"0\", \"25\", \"0\", \"130000\", \"0.8\", \"134\", \"1\", \"0\", \"201\", \"0\"], [\"58\", \"0\", \"582\", \"1\", \"25\", \"0\", \"504000\", \"1\", \"138\", \"1\", \"0\", \"205\", \"0\"], [\"75\", \"0\", \"675\", \"1\", \"60\", \"0\", \"265000\", \"1.4\", \"125\", \"0\", \"0\", \"205\", \"0\"], [\"58\", \"1\", \"57\", \"0\", \"25\", \"0\", \"189000\", \"1.3\", \"132\", \"1\", \"1\", \"205\", \"0\"], [\"55\", \"1\", \"2794\", \"0\", \"35\", \"1\", \"141000\", \"1\", \"140\", \"1\", \"0\", \"206\", \"0\"], [\"65\", \"0\", \"56\", \"0\", \"25\", \"0\", \"237000\", \"5\", \"130\", \"0\", \"0\", \"207\", \"0\"], [\"72\", \"0\", \"211\", \"0\", \"25\", \"0\", \"274000\", \"1.2\", \"134\", \"0\", \"0\", \"207\", \"0\"], [\"70\", \"0\", \"93\", \"0\", \"35\", \"0\", \"185000\", \"1.1\", \"134\", \"1\", \"1\", \"208\", \"0\"], [\"40\", \"1\", \"129\", \"0\", \"35\", \"0\", \"255000\", \"0.9\", \"137\", \"1\", \"0\", \"209\", \"0\"], [\"53\", \"1\", \"707\", \"0\", \"38\", \"0\", \"330000\", \"1.4\", \"137\", \"1\", \"1\", \"209\", \"0\"], [\"53\", \"1\", \"582\", \"0\", \"45\", \"0\", \"305000\", \"1.1\", \"137\", \"1\", \"1\", \"209\", \"0\"], [\"77\", \"1\", \"109\", \"0\", \"50\", \"1\", \"406000\", \"1.1\", \"137\", \"1\", \"0\", \"209\", \"0\"], [\"75\", \"0\", \"119\", \"0\", \"50\", \"1\", \"248000\", \"1.1\", \"148\", \"1\", \"0\", \"209\", \"0\"], [\"70\", \"0\", \"232\", \"0\", \"30\", \"0\", \"173000\", \"1.2\", \"132\", \"1\", \"0\", \"210\", \"0\"], [\"65\", \"1\", \"720\", \"1\", \"40\", \"0\", \"257000\", \"1\", \"136\", \"0\", \"0\", \"210\", \"0\"], [\"55\", \"1\", \"180\", \"0\", \"45\", \"0\", \"263358.03\", \"1.18\", \"137\", \"1\", \"1\", \"211\", \"0\"], [\"70\", \"0\", \"81\", \"1\", \"35\", \"1\", \"533000\", \"1.3\", \"139\", \"0\", \"0\", \"212\", \"0\"], [\"65\", \"0\", \"582\", \"1\", \"30\", \"0\", \"249000\", \"1.3\", \"136\", \"1\", \"1\", \"212\", \"0\"], [\"40\", \"0\", \"90\", \"0\", \"35\", \"0\", \"255000\", \"1.1\", \"136\", \"1\", \"1\", \"212\", \"0\"], [\"73\", \"1\", \"1185\", \"0\", \"40\", \"1\", \"220000\", \"0.9\", \"141\", \"0\", \"0\", \"213\", \"0\"], [\"54\", \"0\", \"582\", \"1\", \"38\", \"0\", \"264000\", \"1.8\", \"134\", \"1\", \"0\", \"213\", \"0\"], [\"61\", \"1\", \"80\", \"1\", \"38\", \"0\", \"282000\", \"1.4\", \"137\", \"1\", \"0\", \"213\", \"0\"], [\"64\", \"0\", \"143\", \"0\", \"25\", \"0\", \"246000\", \"2.4\", \"135\", \"1\", \"0\", \"214\", \"0\"], [\"40\", \"0\", \"624\", \"0\", \"35\", \"0\", \"301000\", \"1\", \"142\", \"1\", \"1\", \"214\", \"0\"], [\"53\", \"0\", \"207\", \"1\", \"40\", \"0\", \"223000\", \"1.2\", \"130\", \"0\", \"0\", \"214\", \"0\"], [\"50\", \"0\", \"2522\", \"0\", \"30\", \"1\", \"404000\", \"0.5\", \"139\", \"0\", \"0\", \"214\", \"0\"], [\"55\", \"0\", \"572\", \"1\", \"35\", \"0\", \"231000\", \"0.8\", \"143\", \"0\", \"0\", \"215\", \"0\"], [\"50\", \"0\", \"245\", \"0\", \"45\", \"1\", \"274000\", \"1\", \"133\", \"1\", \"0\", \"215\", \"0\"], [\"70\", \"0\", \"88\", \"1\", \"35\", \"1\", \"236000\", \"1.2\", \"132\", \"0\", \"0\", \"215\", \"0\"], [\"53\", \"1\", \"446\", \"0\", \"60\", \"1\", \"263358.03\", \"1\", \"139\", \"1\", \"0\", \"215\", \"0\"], [\"52\", \"1\", \"191\", \"1\", \"30\", \"1\", \"334000\", \"1\", \"142\", \"1\", \"1\", \"216\", \"0\"], [\"65\", \"0\", \"326\", \"0\", \"38\", \"0\", \"294000\", \"1.7\", \"139\", \"0\", \"0\", \"220\", \"0\"], [\"58\", \"0\", \"132\", \"1\", \"38\", \"1\", \"253000\", \"1\", \"139\", \"1\", \"0\", \"230\", \"0\"], [\"45\", \"1\", \"66\", \"1\", \"25\", \"0\", \"233000\", \"0.8\", \"135\", \"1\", \"0\", \"230\", \"0\"], [\"53\", \"0\", \"56\", \"0\", \"50\", \"0\", \"308000\", \"0.7\", \"135\", \"1\", \"1\", \"231\", \"0\"], [\"55\", \"0\", \"66\", \"0\", \"40\", \"0\", \"203000\", \"1\", \"138\", \"1\", \"0\", \"233\", \"0\"], [\"62\", \"1\", \"655\", \"0\", \"40\", \"0\", \"283000\", \"0.7\", \"133\", \"0\", \"0\", \"233\", \"0\"], [\"68\", \"1\", \"157\", \"1\", \"60\", \"0\", \"208000\", \"1\", \"140\", \"0\", \"0\", \"237\", \"0\"], [\"61\", \"0\", \"582\", \"1\", \"38\", \"0\", \"147000\", \"1.2\", \"141\", \"1\", \"0\", \"237\", \"0\"], [\"50\", \"1\", \"298\", \"0\", \"35\", \"0\", \"362000\", \"0.9\", \"140\", \"1\", \"1\", \"240\", \"0\"], [\"56\", \"1\", \"135\", \"1\", \"38\", \"0\", \"133000\", \"1.7\", \"140\", \"1\", \"0\", \"244\", \"0\"], [\"45\", \"0\", \"582\", \"1\", \"38\", \"0\", \"302000\", \"0.9\", \"140\", \"0\", \"0\", \"244\", \"0\"], [\"40\", \"0\", \"582\", \"1\", \"35\", \"0\", \"222000\", \"1\", \"132\", \"1\", \"0\", \"244\", \"0\"], [\"44\", \"0\", \"582\", \"1\", \"30\", \"1\", \"263358.03\", \"1.6\", \"130\", \"1\", \"1\", \"244\", \"0\"], [\"51\", \"0\", \"582\", \"1\", \"40\", \"0\", \"221000\", \"0.9\", \"134\", \"0\", \"0\", \"244\", \"0\"], [\"67\", \"0\", \"213\", \"0\", \"38\", \"0\", \"215000\", \"1.2\", \"133\", \"0\", \"0\", \"245\", \"0\"], [\"42\", \"0\", \"64\", \"0\", \"40\", \"0\", \"189000\", \"0.7\", \"140\", \"1\", \"0\", \"245\", \"0\"], [\"60\", \"1\", \"257\", \"1\", \"30\", \"0\", \"150000\", \"1\", \"137\", \"1\", \"1\", \"245\", \"0\"], [\"45\", \"0\", \"582\", \"0\", \"38\", \"1\", \"422000\", \"0.8\", \"137\", \"0\", \"0\", \"245\", \"0\"], [\"70\", \"0\", \"618\", \"0\", \"35\", \"0\", \"327000\", \"1.1\", \"142\", \"0\", \"0\", \"245\", \"0\"], [\"70\", \"0\", \"582\", \"1\", \"38\", \"0\", \"25100\", \"1.1\", \"140\", \"1\", \"0\", \"246\", \"0\"], [\"50\", \"1\", \"1051\", \"1\", \"30\", \"0\", \"232000\", \"0.7\", \"136\", \"0\", \"0\", \"246\", \"0\"], [\"55\", \"0\", \"84\", \"1\", \"38\", \"0\", \"451000\", \"1.3\", \"136\", \"0\", \"0\", \"246\", \"0\"], [\"70\", \"0\", \"2695\", \"1\", \"40\", \"0\", \"241000\", \"1\", \"137\", \"1\", \"0\", \"247\", \"0\"], [\"70\", \"0\", \"582\", \"0\", \"40\", \"0\", \"51000\", \"2.7\", \"136\", \"1\", \"1\", \"250\", \"0\"], [\"42\", \"0\", \"64\", \"0\", \"30\", \"0\", \"215000\", \"3.8\", \"128\", \"1\", \"1\", \"250\", \"0\"], [\"65\", \"0\", \"1688\", \"0\", \"38\", \"0\", \"263358.03\", \"1.1\", \"138\", \"1\", \"1\", \"250\", \"0\"], [\"50\", \"1\", \"54\", \"0\", \"40\", \"0\", \"279000\", \"0.8\", \"141\", \"1\", \"0\", \"250\", \"0\"], [\"55\", \"1\", \"170\", \"1\", \"40\", \"0\", \"336000\", \"1.2\", \"135\", \"1\", \"0\", \"250\", \"0\"], [\"60\", \"0\", \"253\", \"0\", \"35\", \"0\", \"279000\", \"1.7\", \"140\", \"1\", \"0\", \"250\", \"0\"], [\"45\", \"0\", \"582\", \"1\", \"55\", \"0\", \"543000\", \"1\", \"132\", \"0\", \"0\", \"250\", \"0\"], [\"65\", \"0\", \"892\", \"1\", \"35\", \"0\", \"263358.03\", \"1.1\", \"142\", \"0\", \"0\", \"256\", \"0\"], [\"90\", \"1\", \"337\", \"0\", \"38\", \"0\", \"390000\", \"0.9\", \"144\", \"0\", \"0\", \"256\", \"0\"], [\"45\", \"0\", \"615\", \"1\", \"55\", \"0\", \"222000\", \"0.8\", \"141\", \"0\", \"0\", \"257\", \"0\"], [\"60\", \"0\", \"320\", \"0\", \"35\", \"0\", \"133000\", \"1.4\", \"139\", \"1\", \"0\", \"258\", \"0\"], [\"52\", \"0\", \"190\", \"1\", \"38\", \"0\", \"382000\", \"1\", \"140\", \"1\", \"1\", \"258\", \"0\"], [\"63\", \"1\", \"103\", \"1\", \"35\", \"0\", \"179000\", \"0.9\", \"136\", \"1\", \"1\", \"270\", \"0\"], [\"62\", \"0\", \"61\", \"1\", \"38\", \"1\", \"155000\", \"1.1\", \"143\", \"1\", \"1\", \"270\", \"0\"], [\"55\", \"0\", \"1820\", \"0\", \"38\", \"0\", \"270000\", \"1.2\", \"139\", \"0\", \"0\", \"271\", \"0\"], [\"45\", \"0\", \"2060\", \"1\", \"60\", \"0\", \"742000\", \"0.8\", \"138\", \"0\", \"0\", \"278\", \"0\"], [\"45\", \"0\", \"2413\", \"0\", \"38\", \"0\", \"140000\", \"1.4\", \"140\", \"1\", \"1\", \"280\", \"0\"], [\"50\", \"0\", \"196\", \"0\", \"45\", \"0\", \"395000\", \"1.6\", \"136\", \"1\", \"1\", \"285\", \"0\"]], \"hoverlabel\": {\"namelength\": 0}, \"hovertemplate\": \"death_event=%{customdata[12]}<br>sex=%{customdata[9]}<br>age=%{customdata[0]}<br>anaemia=%{customdata[1]}<br>creatinine_phosphokinase=%{customdata[2]}<br>diabetes=%{customdata[3]}<br>ejection_fraction=%{customdata[4]}<br>high_blood_pressure=%{customdata[5]}<br>platelets=%{customdata[6]}<br>serum_creatinine=%{customdata[7]}<br>serum_sodium=%{customdata[8]}<br>smoking=%{customdata[10]}<br>time=%{customdata[11]}\", \"legendgroup\": \"death_event=0\", \"marker\": {\"color\": \"#EF553B\"}, \"name\": \"death_event=0\", \"offsetgroup\": \"death_event=0\", \"orientation\": \"v\", \"points\": \"all\", \"scalegroup\": \"True\", \"showlegend\": true, \"type\": \"violin\", \"x\": [\"0\", \"0\", \"1\", \"0\", \"1\", \"1\", \"1\", \"1\", \"1\", \"0\", \"1\", \"1\", \"1\", \"0\", \"1\", \"1\", \"0\", \"0\", \"1\", \"1\", \"1\", \"1\", \"1\", \"1\", \"1\", \"1\", \"1\", \"0\", \"0\", \"1\", \"1\", \"0\", \"0\", \"0\", \"1\", \"1\", \"1\", \"1\", \"0\", \"1\", \"1\", \"1\", \"1\", \"1\", \"1\", \"1\", \"0\", \"0\", \"0\", \"0\", \"1\", \"0\", \"0\", \"0\", \"0\", \"0\", \"1\", \"1\", \"1\", \"1\", \"0\", \"1\", \"1\", \"1\", \"0\", \"1\", \"0\", \"1\", \"0\", \"0\", \"0\", \"1\", \"1\", \"1\", \"1\", \"1\", \"1\", \"1\", \"0\", \"1\", \"0\", \"1\", \"1\", \"1\", \"1\", \"1\", \"1\", \"1\", \"0\", \"0\", \"1\", \"1\", \"1\", \"1\", \"1\", \"1\", \"1\", \"0\", \"1\", \"1\", \"1\", \"0\", \"0\", \"1\", \"0\", \"1\", \"1\", \"0\", \"0\", \"0\", \"1\", \"1\", \"1\", \"1\", \"1\", \"1\", \"0\", \"0\", \"1\", \"0\", \"0\", \"1\", \"1\", \"1\", \"1\", \"1\", \"0\", \"1\", \"0\", \"1\", \"1\", \"1\", \"1\", \"0\", \"1\", \"1\", \"0\", \"0\", \"1\", \"1\", \"1\", \"1\", \"1\", \"1\", \"1\", \"0\", \"1\", \"0\", \"1\", \"1\", \"0\", \"1\", \"1\", \"1\", \"1\", \"0\", \"0\", \"0\", \"1\", \"0\", \"1\", \"1\", \"0\", \"1\", \"1\", \"1\", \"1\", \"0\", \"0\", \"1\", \"1\", \"1\", \"0\", \"1\", \"1\", \"0\", \"0\", \"1\", \"1\", \"0\", \"0\", \"1\", \"0\", \"0\", \"1\", \"1\", \"1\", \"1\", \"1\", \"1\", \"1\", \"0\", \"0\", \"0\", \"0\", \"1\", \"1\", \"1\", \"1\", \"0\", \"0\", \"1\", \"1\"], \"x0\": \" \", \"xaxis\": \"x\", \"y\": [\"49\", \"65\", \"53\", \"50\", \"60\", \"72\", \"70\", \"60\", \"55\", \"45\", \"41\", \"58\", \"65\", \"70\", \"42\", \"75\", \"55\", \"70\", \"67\", \"79\", \"51\", \"55\", \"65\", \"44\", \"57\", \"70\", \"60\", \"42\", \"58\", \"58\", \"63\", \"70\", \"60\", \"63\", \"65\", \"75\", \"80\", \"42\", \"60\", \"55\", \"45\", \"63\", \"45\", \"55\", \"50\", \"60\", \"58\", \"60\", \"85\", \"65\", \"60\", \"66\", \"60\", \"60\", \"43\", \"58\", \"61\", \"53\", \"53\", \"60\", \"46\", \"63\", \"81\", \"75\", \"65\", \"68\", \"62\", \"50\", \"46\", \"50\", \"61\", \"50\", \"52\", \"64\", \"60\", \"62\", \"50\", \"50\", \"65\", \"60\", \"52\", \"50\", \"85\", \"59\", \"66\", \"45\", \"63\", \"53\", \"65\", \"70\", \"51\", \"52\", \"70\", \"50\", \"65\", \"60\", \"69\", \"49\", \"63\", \"55\", \"40\", \"60.667\", \"40\", \"80\", \"64\", \"50\", \"73\", \"45\", \"65\", \"50\", \"60\", \"63\", \"45\", \"70\", \"60\", \"78\", \"50\", \"40\", \"85\", \"60\", \"49\", \"70\", \"50\", \"78\", \"65\", \"73\", \"70\", \"68\", \"55\", \"65\", \"42\", \"47\", \"58\", \"75\", \"58\", \"55\", \"65\", \"72\", \"70\", \"40\", \"53\", \"53\", \"77\", \"75\", \"70\", \"65\", \"55\", \"70\", \"65\", \"40\", \"73\", \"54\", \"61\", \"64\", \"40\", \"53\", \"50\", \"55\", \"50\", \"70\", \"53\", \"52\", \"65\", \"58\", \"45\", \"53\", \"55\", \"62\", \"68\", \"61\", \"50\", \"56\", \"45\", \"40\", \"44\", \"51\", \"67\", \"42\", \"60\", \"45\", \"70\", \"70\", \"50\", \"55\", \"70\", \"70\", \"42\", \"65\", \"50\", \"55\", \"60\", \"45\", \"65\", \"90\", \"45\", \"60\", \"52\", \"63\", \"62\", \"55\", \"45\", \"45\", \"50\"], \"y0\": \" \", \"yaxis\": \"y\"}],\n",
              "                        {\"legend\": {\"tracegroupgap\": 0}, \"margin\": {\"t\": 60}, \"template\": {\"data\": {\"bar\": [{\"error_x\": {\"color\": \"#2a3f5f\"}, \"error_y\": {\"color\": \"#2a3f5f\"}, \"marker\": {\"line\": {\"color\": \"#E5ECF6\", \"width\": 0.5}}, \"type\": \"bar\"}], \"barpolar\": [{\"marker\": {\"line\": {\"color\": \"#E5ECF6\", \"width\": 0.5}}, \"type\": \"barpolar\"}], \"carpet\": [{\"aaxis\": {\"endlinecolor\": \"#2a3f5f\", \"gridcolor\": \"white\", \"linecolor\": \"white\", \"minorgridcolor\": \"white\", \"startlinecolor\": \"#2a3f5f\"}, \"baxis\": {\"endlinecolor\": \"#2a3f5f\", \"gridcolor\": \"white\", \"linecolor\": \"white\", \"minorgridcolor\": \"white\", \"startlinecolor\": \"#2a3f5f\"}, \"type\": \"carpet\"}], \"choropleth\": [{\"colorbar\": {\"outlinewidth\": 0, \"ticks\": \"\"}, \"type\": \"choropleth\"}], \"contour\": [{\"colorbar\": {\"outlinewidth\": 0, \"ticks\": \"\"}, \"colorscale\": [[0.0, \"#0d0887\"], [0.1111111111111111, \"#46039f\"], [0.2222222222222222, \"#7201a8\"], [0.3333333333333333, \"#9c179e\"], [0.4444444444444444, \"#bd3786\"], [0.5555555555555556, \"#d8576b\"], [0.6666666666666666, \"#ed7953\"], [0.7777777777777778, \"#fb9f3a\"], [0.8888888888888888, \"#fdca26\"], [1.0, \"#f0f921\"]], \"type\": \"contour\"}], \"contourcarpet\": [{\"colorbar\": {\"outlinewidth\": 0, \"ticks\": \"\"}, \"type\": \"contourcarpet\"}], \"heatmap\": [{\"colorbar\": {\"outlinewidth\": 0, \"ticks\": \"\"}, \"colorscale\": [[0.0, \"#0d0887\"], [0.1111111111111111, \"#46039f\"], [0.2222222222222222, \"#7201a8\"], [0.3333333333333333, \"#9c179e\"], [0.4444444444444444, \"#bd3786\"], [0.5555555555555556, \"#d8576b\"], [0.6666666666666666, \"#ed7953\"], [0.7777777777777778, \"#fb9f3a\"], [0.8888888888888888, \"#fdca26\"], [1.0, \"#f0f921\"]], \"type\": \"heatmap\"}], \"heatmapgl\": [{\"colorbar\": {\"outlinewidth\": 0, \"ticks\": \"\"}, \"colorscale\": [[0.0, \"#0d0887\"], [0.1111111111111111, \"#46039f\"], [0.2222222222222222, \"#7201a8\"], [0.3333333333333333, \"#9c179e\"], [0.4444444444444444, \"#bd3786\"], [0.5555555555555556, \"#d8576b\"], [0.6666666666666666, \"#ed7953\"], [0.7777777777777778, \"#fb9f3a\"], [0.8888888888888888, \"#fdca26\"], [1.0, \"#f0f921\"]], \"type\": \"heatmapgl\"}], \"histogram\": [{\"marker\": {\"colorbar\": {\"outlinewidth\": 0, \"ticks\": \"\"}}, \"type\": \"histogram\"}], \"histogram2d\": [{\"colorbar\": {\"outlinewidth\": 0, \"ticks\": \"\"}, \"colorscale\": [[0.0, \"#0d0887\"], [0.1111111111111111, \"#46039f\"], [0.2222222222222222, \"#7201a8\"], [0.3333333333333333, \"#9c179e\"], [0.4444444444444444, \"#bd3786\"], [0.5555555555555556, \"#d8576b\"], [0.6666666666666666, \"#ed7953\"], [0.7777777777777778, \"#fb9f3a\"], [0.8888888888888888, \"#fdca26\"], [1.0, \"#f0f921\"]], \"type\": \"histogram2d\"}], \"histogram2dcontour\": [{\"colorbar\": {\"outlinewidth\": 0, \"ticks\": \"\"}, \"colorscale\": [[0.0, \"#0d0887\"], [0.1111111111111111, \"#46039f\"], [0.2222222222222222, \"#7201a8\"], [0.3333333333333333, \"#9c179e\"], [0.4444444444444444, \"#bd3786\"], [0.5555555555555556, \"#d8576b\"], [0.6666666666666666, \"#ed7953\"], [0.7777777777777778, \"#fb9f3a\"], [0.8888888888888888, \"#fdca26\"], [1.0, \"#f0f921\"]], \"type\": \"histogram2dcontour\"}], \"mesh3d\": [{\"colorbar\": {\"outlinewidth\": 0, \"ticks\": \"\"}, \"type\": \"mesh3d\"}], \"parcoords\": [{\"line\": {\"colorbar\": {\"outlinewidth\": 0, \"ticks\": \"\"}}, \"type\": \"parcoords\"}], \"pie\": [{\"automargin\": true, \"type\": \"pie\"}], \"scatter\": [{\"marker\": {\"colorbar\": {\"outlinewidth\": 0, \"ticks\": \"\"}}, \"type\": \"scatter\"}], \"scatter3d\": [{\"line\": {\"colorbar\": {\"outlinewidth\": 0, \"ticks\": \"\"}}, \"marker\": {\"colorbar\": {\"outlinewidth\": 0, \"ticks\": \"\"}}, \"type\": \"scatter3d\"}], \"scattercarpet\": [{\"marker\": {\"colorbar\": {\"outlinewidth\": 0, \"ticks\": \"\"}}, \"type\": \"scattercarpet\"}], \"scattergeo\": [{\"marker\": {\"colorbar\": {\"outlinewidth\": 0, \"ticks\": \"\"}}, \"type\": \"scattergeo\"}], \"scattergl\": [{\"marker\": {\"colorbar\": {\"outlinewidth\": 0, \"ticks\": \"\"}}, \"type\": \"scattergl\"}], \"scattermapbox\": [{\"marker\": {\"colorbar\": {\"outlinewidth\": 0, \"ticks\": \"\"}}, \"type\": \"scattermapbox\"}], \"scatterpolar\": [{\"marker\": {\"colorbar\": {\"outlinewidth\": 0, \"ticks\": \"\"}}, \"type\": \"scatterpolar\"}], \"scatterpolargl\": [{\"marker\": {\"colorbar\": {\"outlinewidth\": 0, \"ticks\": \"\"}}, \"type\": \"scatterpolargl\"}], \"scatterternary\": [{\"marker\": {\"colorbar\": {\"outlinewidth\": 0, \"ticks\": \"\"}}, \"type\": \"scatterternary\"}], \"surface\": [{\"colorbar\": {\"outlinewidth\": 0, \"ticks\": \"\"}, \"colorscale\": [[0.0, \"#0d0887\"], [0.1111111111111111, \"#46039f\"], [0.2222222222222222, \"#7201a8\"], [0.3333333333333333, \"#9c179e\"], [0.4444444444444444, \"#bd3786\"], [0.5555555555555556, \"#d8576b\"], [0.6666666666666666, \"#ed7953\"], [0.7777777777777778, \"#fb9f3a\"], [0.8888888888888888, \"#fdca26\"], [1.0, \"#f0f921\"]], \"type\": \"surface\"}], \"table\": [{\"cells\": {\"fill\": {\"color\": \"#EBF0F8\"}, \"line\": {\"color\": \"white\"}}, \"header\": {\"fill\": {\"color\": \"#C8D4E3\"}, \"line\": {\"color\": \"white\"}}, \"type\": \"table\"}]}, \"layout\": {\"annotationdefaults\": {\"arrowcolor\": \"#2a3f5f\", \"arrowhead\": 0, \"arrowwidth\": 1}, \"coloraxis\": {\"colorbar\": {\"outlinewidth\": 0, \"ticks\": \"\"}}, \"colorscale\": {\"diverging\": [[0, \"#8e0152\"], [0.1, \"#c51b7d\"], [0.2, \"#de77ae\"], [0.3, \"#f1b6da\"], [0.4, \"#fde0ef\"], [0.5, \"#f7f7f7\"], [0.6, \"#e6f5d0\"], [0.7, \"#b8e186\"], [0.8, \"#7fbc41\"], [0.9, \"#4d9221\"], [1, \"#276419\"]], \"sequential\": [[0.0, \"#0d0887\"], [0.1111111111111111, \"#46039f\"], [0.2222222222222222, \"#7201a8\"], [0.3333333333333333, \"#9c179e\"], [0.4444444444444444, \"#bd3786\"], [0.5555555555555556, \"#d8576b\"], [0.6666666666666666, \"#ed7953\"], [0.7777777777777778, \"#fb9f3a\"], [0.8888888888888888, \"#fdca26\"], [1.0, \"#f0f921\"]], \"sequentialminus\": [[0.0, \"#0d0887\"], [0.1111111111111111, \"#46039f\"], [0.2222222222222222, \"#7201a8\"], [0.3333333333333333, \"#9c179e\"], [0.4444444444444444, \"#bd3786\"], [0.5555555555555556, \"#d8576b\"], [0.6666666666666666, \"#ed7953\"], [0.7777777777777778, \"#fb9f3a\"], [0.8888888888888888, \"#fdca26\"], [1.0, \"#f0f921\"]]}, \"colorway\": [\"#636efa\", \"#EF553B\", \"#00cc96\", \"#ab63fa\", \"#FFA15A\", \"#19d3f3\", \"#FF6692\", \"#B6E880\", \"#FF97FF\", \"#FECB52\"], \"font\": {\"color\": \"#2a3f5f\"}, \"geo\": {\"bgcolor\": \"white\", \"lakecolor\": \"white\", \"landcolor\": \"#E5ECF6\", \"showlakes\": true, \"showland\": true, \"subunitcolor\": \"white\"}, \"hoverlabel\": {\"align\": \"left\"}, \"hovermode\": \"closest\", \"mapbox\": {\"style\": \"light\"}, \"paper_bgcolor\": \"white\", \"plot_bgcolor\": \"#E5ECF6\", \"polar\": {\"angularaxis\": {\"gridcolor\": \"white\", \"linecolor\": \"white\", \"ticks\": \"\"}, \"bgcolor\": \"#E5ECF6\", \"radialaxis\": {\"gridcolor\": \"white\", \"linecolor\": \"white\", \"ticks\": \"\"}}, \"scene\": {\"xaxis\": {\"backgroundcolor\": \"#E5ECF6\", \"gridcolor\": \"white\", \"gridwidth\": 2, \"linecolor\": \"white\", \"showbackground\": true, \"ticks\": \"\", \"zerolinecolor\": \"white\"}, \"yaxis\": {\"backgroundcolor\": \"#E5ECF6\", \"gridcolor\": \"white\", \"gridwidth\": 2, \"linecolor\": \"white\", \"showbackground\": true, \"ticks\": \"\", \"zerolinecolor\": \"white\"}, \"zaxis\": {\"backgroundcolor\": \"#E5ECF6\", \"gridcolor\": \"white\", \"gridwidth\": 2, \"linecolor\": \"white\", \"showbackground\": true, \"ticks\": \"\", \"zerolinecolor\": \"white\"}}, \"shapedefaults\": {\"line\": {\"color\": \"#2a3f5f\"}}, \"ternary\": {\"aaxis\": {\"gridcolor\": \"white\", \"linecolor\": \"white\", \"ticks\": \"\"}, \"baxis\": {\"gridcolor\": \"white\", \"linecolor\": \"white\", \"ticks\": \"\"}, \"bgcolor\": \"#E5ECF6\", \"caxis\": {\"gridcolor\": \"white\", \"linecolor\": \"white\", \"ticks\": \"\"}}, \"title\": {\"x\": 0.05}, \"xaxis\": {\"automargin\": true, \"gridcolor\": \"white\", \"linecolor\": \"white\", \"ticks\": \"\", \"title\": {\"standoff\": 15}, \"zerolinecolor\": \"white\", \"zerolinewidth\": 2}, \"yaxis\": {\"automargin\": true, \"gridcolor\": \"white\", \"linecolor\": \"white\", \"ticks\": \"\", \"title\": {\"standoff\": 15}, \"zerolinecolor\": \"white\", \"zerolinewidth\": 2}}}, \"title\": {\"text\": \"Analysis of Age and Sex on Death Event\"}, \"violinmode\": \"group\", \"xaxis\": {\"anchor\": \"y\", \"domain\": [0.0, 1.0], \"title\": {\"text\": \"sex\"}}, \"yaxis\": {\"anchor\": \"x\", \"domain\": [0.0, 1.0], \"title\": {\"text\": \"age\"}}},\n",
              "                        {\"responsive\": true}\n",
              "                    ).then(function(){\n",
              "                            \n",
              "var gd = document.getElementById('1dbc09a6-a5ed-472a-bd1d-c2f695304bab');\n",
              "var x = new MutationObserver(function (mutations, observer) {{\n",
              "        var display = window.getComputedStyle(gd).display;\n",
              "        if (!display || display === 'none') {{\n",
              "            console.log([gd, 'removed!']);\n",
              "            Plotly.purge(gd);\n",
              "            observer.disconnect();\n",
              "        }}\n",
              "}});\n",
              "\n",
              "// Listen for the removal of the full notebook cells\n",
              "var notebookContainer = gd.closest('#notebook-container');\n",
              "if (notebookContainer) {{\n",
              "    x.observe(notebookContainer, {childList: true});\n",
              "}}\n",
              "\n",
              "// Listen for the clearing of the current output cell\n",
              "var outputEl = gd.closest('.output');\n",
              "if (outputEl) {{\n",
              "    x.observe(outputEl, {childList: true});\n",
              "}}\n",
              "\n",
              "                        })\n",
              "                };\n",
              "                \n",
              "            </script>\n",
              "        </div>\n",
              "</body>\n",
              "</html>"
            ]
          },
          "metadata": {
            "tags": []
          }
        }
      ]
    },
    {
      "cell_type": "code",
      "metadata": {
        "id": "EL9VotaGrLfe",
        "outputId": "28df9a8a-430e-40d8-a0cb-2ec79a18b026",
        "colab": {
          "base_uri": "https://localhost:8080/",
          "height": 542
        }
      },
      "source": [
        "fig = px.violin(df, y=\"diabetes\", x=\"smoking\", color=\"death_event\", box=True, points=\"all\", hover_data=df.columns)\n",
        "fig.update_layout(title_text=\"Analysis of diabetes and Smoking on Death Event\")\n",
        "fig.show()"
      ],
      "execution_count": 18,
      "outputs": [
        {
          "output_type": "display_data",
          "data": {
            "text/html": [
              "<html>\n",
              "<head><meta charset=\"utf-8\" /></head>\n",
              "<body>\n",
              "    <div>\n",
              "            <script src=\"https://cdnjs.cloudflare.com/ajax/libs/mathjax/2.7.5/MathJax.js?config=TeX-AMS-MML_SVG\"></script><script type=\"text/javascript\">if (window.MathJax) {MathJax.Hub.Config({SVG: {font: \"STIX-Web\"}});}</script>\n",
              "                <script type=\"text/javascript\">window.PlotlyConfig = {MathJaxConfig: 'local'};</script>\n",
              "        <script src=\"https://cdn.plot.ly/plotly-latest.min.js\"></script>    \n",
              "            <div id=\"e2e526fa-ac5f-484c-92ed-3a3663984c01\" class=\"plotly-graph-div\" style=\"height:525px; width:100%;\"></div>\n",
              "            <script type=\"text/javascript\">\n",
              "                \n",
              "                    window.PLOTLYENV=window.PLOTLYENV || {};\n",
              "                    \n",
              "                if (document.getElementById(\"e2e526fa-ac5f-484c-92ed-3a3663984c01\")) {\n",
              "                    Plotly.newPlot(\n",
              "                        'e2e526fa-ac5f-484c-92ed-3a3663984c01',\n",
              "                        [{\"alignmentgroup\": \"True\", \"box\": {\"visible\": true}, \"customdata\": [[\"75\", \"0\", \"582\", \"0\", \"20\", \"1\", \"265000\", \"1.9\", \"130\", \"1\", \"0\", \"4\", \"1\"], [\"55\", \"0\", \"7861\", \"0\", \"38\", \"0\", \"263358.03\", \"1.1\", \"136\", \"1\", \"0\", \"6\", \"1\"], [\"65\", \"0\", \"146\", \"0\", \"20\", \"0\", \"162000\", \"1.3\", \"129\", \"1\", \"1\", \"7\", \"1\"], [\"50\", \"1\", \"111\", \"0\", \"20\", \"0\", \"210000\", \"1.9\", \"137\", \"1\", \"0\", \"7\", \"1\"], [\"65\", \"1\", \"160\", \"1\", \"20\", \"0\", \"327000\", \"2.7\", \"116\", \"0\", \"0\", \"8\", \"1\"], [\"90\", \"1\", \"47\", \"0\", \"40\", \"1\", \"204000\", \"2.1\", \"132\", \"1\", \"1\", \"8\", \"1\"], [\"75\", \"1\", \"246\", \"0\", \"15\", \"0\", \"127000\", \"1.2\", \"137\", \"1\", \"0\", \"10\", \"1\"], [\"60\", \"1\", \"315\", \"1\", \"60\", \"0\", \"454000\", \"1.1\", \"131\", \"1\", \"1\", \"10\", \"1\"], [\"65\", \"0\", \"157\", \"0\", \"65\", \"0\", \"263358.03\", \"1.5\", \"138\", \"0\", \"0\", \"10\", \"1\"], [\"80\", \"1\", \"123\", \"0\", \"35\", \"1\", \"388000\", \"9.4\", \"133\", \"1\", \"1\", \"10\", \"1\"], [\"75\", \"1\", \"81\", \"0\", \"38\", \"1\", \"368000\", \"4\", \"131\", \"1\", \"1\", \"10\", \"1\"], [\"62\", \"0\", \"231\", \"0\", \"25\", \"1\", \"253000\", \"0.9\", \"140\", \"1\", \"1\", \"10\", \"1\"], [\"45\", \"1\", \"981\", \"0\", \"30\", \"0\", \"136000\", \"1.1\", \"137\", \"1\", \"0\", \"11\", \"1\"], [\"50\", \"1\", \"168\", \"0\", \"38\", \"1\", \"276000\", \"1.1\", \"137\", \"1\", \"0\", \"11\", \"1\"], [\"82\", \"1\", \"379\", \"0\", \"50\", \"0\", \"47000\", \"1.3\", \"136\", \"1\", \"0\", \"13\", \"1\"], [\"87\", \"1\", \"149\", \"0\", \"38\", \"0\", \"262000\", \"0.9\", \"140\", \"1\", \"0\", \"14\", \"1\"], [\"45\", \"0\", \"582\", \"0\", \"14\", \"0\", \"166000\", \"0.8\", \"127\", \"1\", \"0\", \"14\", \"1\"], [\"70\", \"1\", \"125\", \"0\", \"25\", \"1\", \"237000\", \"1\", \"140\", \"0\", \"0\", \"15\", \"1\"], [\"48\", \"1\", \"582\", \"1\", \"55\", \"0\", \"87000\", \"1.9\", \"121\", \"0\", \"0\", \"15\", \"1\"], [\"65\", \"1\", \"128\", \"1\", \"30\", \"1\", \"297000\", \"1.6\", \"136\", \"0\", \"0\", \"20\", \"1\"], [\"68\", \"1\", \"220\", \"0\", \"35\", \"1\", \"289000\", \"0.9\", \"140\", \"1\", \"1\", \"20\", \"1\"], [\"75\", \"0\", \"582\", \"1\", \"30\", \"1\", \"263358.03\", \"1.83\", \"134\", \"0\", \"0\", \"23\", \"1\"], [\"80\", \"0\", \"148\", \"1\", \"38\", \"0\", \"149000\", \"1.9\", \"144\", \"1\", \"1\", \"23\", \"1\"], [\"95\", \"1\", \"112\", \"0\", \"40\", \"1\", \"196000\", \"1\", \"138\", \"0\", \"0\", \"24\", \"1\"], [\"70\", \"0\", \"122\", \"1\", \"45\", \"1\", \"284000\", \"1.3\", \"136\", \"1\", \"1\", \"26\", \"1\"], [\"58\", \"1\", \"60\", \"0\", \"38\", \"0\", \"153000\", \"5.8\", \"134\", \"1\", \"0\", \"26\", \"1\"], [\"82\", \"0\", \"70\", \"1\", \"30\", \"0\", \"200000\", \"1.2\", \"132\", \"1\", \"1\", \"26\", \"1\"], [\"94\", \"0\", \"582\", \"1\", \"38\", \"1\", \"263358.03\", \"1.83\", \"134\", \"1\", \"0\", \"27\", \"1\"], [\"85\", \"0\", \"23\", \"0\", \"45\", \"0\", \"360000\", \"3\", \"132\", \"1\", \"0\", \"28\", \"1\"], [\"50\", \"1\", \"249\", \"1\", \"35\", \"1\", \"319000\", \"1\", \"128\", \"0\", \"0\", \"28\", \"1\"], [\"65\", \"0\", \"94\", \"1\", \"50\", \"1\", \"188000\", \"1\", \"140\", \"1\", \"0\", \"29\", \"1\"], [\"69\", \"0\", \"582\", \"1\", \"35\", \"0\", \"228000\", \"3.5\", \"134\", \"1\", \"0\", \"30\", \"1\"], [\"90\", \"1\", \"60\", \"1\", \"50\", \"0\", \"226000\", \"1\", \"134\", \"1\", \"0\", \"30\", \"1\"], [\"82\", \"1\", \"855\", \"1\", \"50\", \"1\", \"321000\", \"1\", \"145\", \"0\", \"0\", \"30\", \"1\"], [\"60\", \"0\", \"235\", \"1\", \"38\", \"0\", \"329000\", \"3\", \"142\", \"0\", \"0\", \"30\", \"1\"], [\"70\", \"0\", \"582\", \"0\", \"20\", \"1\", \"263358.03\", \"1.83\", \"134\", \"1\", \"1\", \"31\", \"1\"], [\"50\", \"0\", \"124\", \"1\", \"30\", \"1\", \"153000\", \"1.2\", \"136\", \"0\", \"1\", \"32\", \"1\"], [\"70\", \"0\", \"571\", \"1\", \"45\", \"1\", \"185000\", \"1.2\", \"139\", \"1\", \"1\", \"33\", \"1\"], [\"60\", \"1\", \"588\", \"1\", \"60\", \"0\", \"194000\", \"1.1\", \"142\", \"0\", \"0\", \"33\", \"1\"], [\"50\", \"0\", \"582\", \"1\", \"38\", \"0\", \"310000\", \"1.9\", \"135\", \"1\", \"1\", \"35\", \"1\"], [\"51\", \"0\", \"1380\", \"0\", \"25\", \"1\", \"271000\", \"0.9\", \"130\", \"1\", \"0\", \"38\", \"1\"], [\"60\", \"0\", \"582\", \"1\", \"38\", \"1\", \"451000\", \"0.6\", \"138\", \"1\", \"1\", \"40\", \"1\"], [\"80\", \"1\", \"553\", \"0\", \"20\", \"1\", \"140000\", \"4.4\", \"133\", \"1\", \"0\", \"41\", \"1\"], [\"57\", \"1\", \"129\", \"0\", \"30\", \"0\", \"395000\", \"1\", \"140\", \"0\", \"0\", \"42\", \"1\"], [\"68\", \"1\", \"577\", \"0\", \"25\", \"1\", \"166000\", \"1\", \"138\", \"1\", \"0\", \"43\", \"1\"], [\"53\", \"1\", \"91\", \"0\", \"20\", \"1\", \"418000\", \"1.4\", \"139\", \"0\", \"0\", \"43\", \"1\"], [\"60\", \"0\", \"3964\", \"1\", \"62\", \"0\", \"263358.03\", \"6.8\", \"146\", \"0\", \"0\", \"43\", \"1\"], [\"70\", \"1\", \"69\", \"1\", \"50\", \"1\", \"351000\", \"1\", \"134\", \"0\", \"0\", \"44\", \"1\"], [\"60\", \"1\", \"260\", \"1\", \"38\", \"0\", \"255000\", \"2.2\", \"132\", \"0\", \"1\", \"45\", \"1\"], [\"95\", \"1\", \"371\", \"0\", \"30\", \"0\", \"461000\", \"2\", \"132\", \"1\", \"0\", \"50\", \"1\"], [\"49\", \"0\", \"789\", \"0\", \"20\", \"1\", \"319000\", \"1.1\", \"136\", \"1\", \"1\", \"55\", \"1\"], [\"72\", \"0\", \"364\", \"1\", \"20\", \"1\", \"254000\", \"1.3\", \"136\", \"1\", \"1\", \"59\", \"1\"], [\"45\", \"0\", \"7702\", \"1\", \"25\", \"1\", \"390000\", \"1\", \"139\", \"1\", \"0\", \"60\", \"1\"], [\"50\", \"0\", \"318\", \"0\", \"40\", \"1\", \"216000\", \"2.3\", \"131\", \"0\", \"0\", \"60\", \"1\"], [\"45\", \"0\", \"582\", \"0\", \"35\", \"0\", \"385000\", \"1\", \"145\", \"1\", \"0\", \"61\", \"1\"], [\"60\", \"0\", \"68\", \"0\", \"20\", \"0\", \"119000\", \"2.9\", \"127\", \"1\", \"1\", \"64\", \"1\"], [\"42\", \"1\", \"250\", \"1\", \"15\", \"0\", \"213000\", \"1.3\", \"136\", \"0\", \"0\", \"65\", \"1\"], [\"72\", \"1\", \"110\", \"0\", \"25\", \"0\", \"274000\", \"1\", \"140\", \"1\", \"1\", \"65\", \"1\"], [\"70\", \"0\", \"161\", \"0\", \"25\", \"0\", \"244000\", \"1.2\", \"142\", \"0\", \"0\", \"66\", \"1\"], [\"65\", \"0\", \"113\", \"1\", \"25\", \"0\", \"497000\", \"1.83\", \"135\", \"1\", \"0\", \"67\", \"1\"], [\"85\", \"0\", \"5882\", \"0\", \"35\", \"0\", \"243000\", \"1\", \"132\", \"1\", \"1\", \"72\", \"1\"], [\"69\", \"0\", \"582\", \"0\", \"20\", \"0\", \"266000\", \"1.2\", \"134\", \"1\", \"1\", \"73\", \"1\"], [\"60\", \"1\", \"47\", \"0\", \"20\", \"0\", \"204000\", \"0.7\", \"139\", \"1\", \"1\", \"73\", \"1\"], [\"60\", \"1\", \"76\", \"1\", \"25\", \"0\", \"196000\", \"2.5\", \"132\", \"0\", \"0\", \"77\", \"1\"], [\"59\", \"1\", \"280\", \"1\", \"25\", \"1\", \"302000\", \"1\", \"141\", \"0\", \"0\", \"78\", \"1\"], [\"60\", \"1\", \"154\", \"0\", \"25\", \"0\", \"210000\", \"1.7\", \"135\", \"1\", \"0\", \"82\", \"1\"], [\"72\", \"1\", \"328\", \"0\", \"30\", \"1\", \"621000\", \"1.7\", \"138\", \"0\", \"1\", \"88\", \"1\"], [\"85\", \"0\", \"129\", \"0\", \"60\", \"0\", \"306000\", \"1.2\", \"132\", \"1\", \"1\", \"90\", \"1\"], [\"70\", \"1\", \"143\", \"0\", \"60\", \"0\", \"351000\", \"1.3\", \"137\", \"0\", \"0\", \"90\", \"1\"], [\"86\", \"0\", \"582\", \"0\", \"38\", \"0\", \"263358.03\", \"1.83\", \"134\", \"0\", \"0\", \"95\", \"1\"], [\"60\", \"0\", \"582\", \"0\", \"40\", \"0\", \"217000\", \"3.7\", \"134\", \"1\", \"0\", \"96\", \"1\"], [\"46\", \"0\", \"168\", \"1\", \"17\", \"1\", \"271000\", \"2.1\", \"124\", \"0\", \"0\", \"100\", \"1\"], [\"80\", \"0\", \"805\", \"0\", \"38\", \"0\", \"263358.03\", \"1.1\", \"134\", \"1\", \"0\", \"109\", \"1\"], [\"72\", \"1\", \"943\", \"0\", \"25\", \"1\", \"338000\", \"1.7\", \"139\", \"1\", \"1\", \"111\", \"1\"], [\"75\", \"1\", \"582\", \"0\", \"30\", \"0\", \"225000\", \"1.83\", \"134\", \"1\", \"0\", \"113\", \"1\"], [\"72\", \"0\", \"233\", \"0\", \"45\", \"1\", \"235000\", \"2.5\", \"135\", \"0\", \"0\", \"115\", \"1\"], [\"50\", \"1\", \"2334\", \"1\", \"35\", \"0\", \"75000\", \"0.9\", \"142\", \"0\", \"0\", \"126\", \"1\"], [\"45\", \"0\", \"2442\", \"1\", \"30\", \"0\", \"334000\", \"1.1\", \"139\", \"1\", \"0\", \"129\", \"1\"], [\"80\", \"0\", \"776\", \"1\", \"38\", \"1\", \"192000\", \"1.3\", \"135\", \"0\", \"0\", \"130\", \"1\"], [\"59\", \"0\", \"66\", \"1\", \"20\", \"0\", \"70000\", \"2.4\", \"134\", \"1\", \"0\", \"135\", \"1\"], [\"59\", \"1\", \"176\", \"1\", \"25\", \"0\", \"221000\", \"1\", \"136\", \"1\", \"1\", \"150\", \"1\"], [\"65\", \"0\", \"395\", \"1\", \"25\", \"0\", \"265000\", \"1.2\", \"136\", \"1\", \"1\", \"154\", \"1\"], [\"75\", \"0\", \"99\", \"0\", \"38\", \"1\", \"224000\", \"2.5\", \"134\", \"1\", \"0\", \"162\", \"1\"], [\"58\", \"1\", \"145\", \"0\", \"25\", \"0\", \"219000\", \"1.2\", \"137\", \"1\", \"1\", \"170\", \"1\"], [\"60.667\", \"1\", \"104\", \"1\", \"30\", \"0\", \"389000\", \"1.5\", \"136\", \"1\", \"0\", \"171\", \"1\"], [\"50\", \"0\", \"582\", \"0\", \"50\", \"0\", \"153000\", \"0.6\", \"134\", \"0\", \"0\", \"172\", \"1\"], [\"60\", \"0\", \"1896\", \"1\", \"25\", \"0\", \"365000\", \"2.1\", \"144\", \"0\", \"0\", \"172\", \"1\"], [\"45\", \"0\", \"582\", \"0\", \"20\", \"1\", \"126000\", \"1.6\", \"135\", \"1\", \"0\", \"180\", \"1\"], [\"77\", \"1\", \"418\", \"0\", \"45\", \"0\", \"223000\", \"1.8\", \"145\", \"1\", \"0\", \"180\", \"1\"], [\"48\", \"1\", \"131\", \"1\", \"30\", \"1\", \"244000\", \"1.6\", \"130\", \"0\", \"0\", \"193\", \"1\"], [\"54\", \"1\", \"427\", \"0\", \"70\", \"1\", \"151000\", \"9\", \"137\", \"0\", \"0\", \"196\", \"1\"], [\"73\", \"0\", \"582\", \"0\", \"20\", \"0\", \"263358.03\", \"1.83\", \"134\", \"1\", \"0\", \"198\", \"1\"], [\"60\", \"0\", \"166\", \"0\", \"30\", \"0\", \"62000\", \"1.7\", \"127\", \"0\", \"0\", \"207\", \"1\"], [\"55\", \"0\", \"2017\", \"0\", \"25\", \"0\", \"314000\", \"1.1\", \"138\", \"1\", \"0\", \"214\", \"1\"], [\"65\", \"1\", \"258\", \"1\", \"25\", \"0\", \"198000\", \"1.4\", \"129\", \"1\", \"0\", \"235\", \"1\"], [\"55\", \"0\", \"1199\", \"0\", \"20\", \"0\", \"263358.03\", \"1.83\", \"134\", \"1\", \"1\", \"241\", \"1\"]], \"hoverlabel\": {\"namelength\": 0}, \"hovertemplate\": \"death_event=%{customdata[12]}<br>smoking=%{customdata[10]}<br>diabetes=%{customdata[3]}<br>age=%{customdata[0]}<br>anaemia=%{customdata[1]}<br>creatinine_phosphokinase=%{customdata[2]}<br>ejection_fraction=%{customdata[4]}<br>high_blood_pressure=%{customdata[5]}<br>platelets=%{customdata[6]}<br>serum_creatinine=%{customdata[7]}<br>serum_sodium=%{customdata[8]}<br>sex=%{customdata[9]}<br>time=%{customdata[11]}\", \"legendgroup\": \"death_event=1\", \"marker\": {\"color\": \"#636efa\"}, \"name\": \"death_event=1\", \"offsetgroup\": \"death_event=1\", \"orientation\": \"v\", \"points\": \"all\", \"scalegroup\": \"True\", \"showlegend\": true, \"type\": \"violin\", \"x\": [\"0\", \"0\", \"1\", \"0\", \"0\", \"1\", \"0\", \"1\", \"0\", \"1\", \"1\", \"1\", \"0\", \"0\", \"0\", \"0\", \"0\", \"0\", \"0\", \"0\", \"1\", \"0\", \"1\", \"0\", \"1\", \"0\", \"1\", \"0\", \"0\", \"0\", \"0\", \"0\", \"0\", \"0\", \"0\", \"1\", \"1\", \"1\", \"0\", \"1\", \"0\", \"1\", \"0\", \"0\", \"0\", \"0\", \"0\", \"0\", \"1\", \"0\", \"1\", \"1\", \"0\", \"0\", \"0\", \"1\", \"0\", \"1\", \"0\", \"0\", \"1\", \"1\", \"1\", \"0\", \"0\", \"0\", \"1\", \"1\", \"0\", \"0\", \"0\", \"0\", \"0\", \"1\", \"0\", \"0\", \"0\", \"0\", \"0\", \"0\", \"1\", \"1\", \"0\", \"1\", \"0\", \"0\", \"0\", \"0\", \"0\", \"0\", \"0\", \"0\", \"0\", \"0\", \"0\", \"1\"], \"x0\": \" \", \"xaxis\": \"x\", \"y\": [\"0\", \"0\", \"0\", \"0\", \"1\", \"0\", \"0\", \"1\", \"0\", \"0\", \"0\", \"0\", \"0\", \"0\", \"0\", \"0\", \"0\", \"0\", \"1\", \"1\", \"0\", \"1\", \"1\", \"0\", \"1\", \"0\", \"1\", \"1\", \"0\", \"1\", \"1\", \"1\", \"1\", \"1\", \"1\", \"0\", \"1\", \"1\", \"1\", \"1\", \"0\", \"1\", \"0\", \"0\", \"0\", \"0\", \"1\", \"1\", \"1\", \"0\", \"0\", \"1\", \"1\", \"0\", \"0\", \"0\", \"1\", \"0\", \"0\", \"1\", \"0\", \"0\", \"0\", \"1\", \"1\", \"0\", \"0\", \"0\", \"0\", \"0\", \"0\", \"1\", \"0\", \"0\", \"0\", \"0\", \"1\", \"1\", \"1\", \"1\", \"1\", \"1\", \"0\", \"0\", \"1\", \"0\", \"1\", \"0\", \"0\", \"1\", \"0\", \"0\", \"0\", \"0\", \"1\", \"0\"], \"y0\": \" \", \"yaxis\": \"y\"}, {\"alignmentgroup\": \"True\", \"box\": {\"visible\": true}, \"customdata\": [[\"49\", \"1\", \"80\", \"0\", \"30\", \"1\", \"427000\", \"1\", \"138\", \"0\", \"0\", \"12\", \"0\"], [\"65\", \"1\", \"52\", \"0\", \"25\", \"1\", \"276000\", \"1.3\", \"137\", \"0\", \"0\", \"16\", \"0\"], [\"53\", \"0\", \"63\", \"1\", \"60\", \"0\", \"368000\", \"0.8\", \"135\", \"1\", \"0\", \"22\", \"0\"], [\"50\", \"1\", \"159\", \"1\", \"30\", \"0\", \"302000\", \"1.2\", \"138\", \"0\", \"0\", \"29\", \"0\"], [\"60\", \"0\", \"2656\", \"1\", \"30\", \"0\", \"305000\", \"2.3\", \"137\", \"1\", \"0\", \"30\", \"0\"], [\"72\", \"0\", \"127\", \"1\", \"50\", \"1\", \"218000\", \"1\", \"134\", \"1\", \"0\", \"33\", \"0\"], [\"70\", \"1\", \"75\", \"0\", \"35\", \"0\", \"223000\", \"2.7\", \"138\", \"1\", \"1\", \"54\", \"0\"], [\"60\", \"1\", \"607\", \"0\", \"40\", \"0\", \"216000\", \"0.6\", \"138\", \"1\", \"1\", \"54\", \"0\"], [\"55\", \"0\", \"109\", \"0\", \"35\", \"0\", \"254000\", \"1.1\", \"139\", \"1\", \"1\", \"60\", \"0\"], [\"45\", \"0\", \"582\", \"0\", \"80\", \"0\", \"263358.03\", \"1.18\", \"137\", \"0\", \"0\", \"63\", \"0\"], [\"41\", \"0\", \"148\", \"0\", \"40\", \"0\", \"374000\", \"0.8\", \"140\", \"1\", \"1\", \"68\", \"0\"], [\"58\", \"0\", \"582\", \"1\", \"35\", \"0\", \"122000\", \"0.9\", \"139\", \"1\", \"1\", \"71\", \"0\"], [\"65\", \"0\", \"224\", \"1\", \"50\", \"0\", \"149000\", \"1.3\", \"137\", \"1\", \"1\", \"72\", \"0\"], [\"70\", \"0\", \"92\", \"0\", \"60\", \"1\", \"317000\", \"0.8\", \"140\", \"0\", \"1\", \"74\", \"0\"], [\"42\", \"0\", \"102\", \"1\", \"40\", \"0\", \"237000\", \"1.2\", \"140\", \"1\", \"0\", \"74\", \"0\"], [\"75\", \"1\", \"203\", \"1\", \"38\", \"1\", \"283000\", \"0.6\", \"131\", \"1\", \"1\", \"74\", \"0\"], [\"55\", \"0\", \"336\", \"0\", \"45\", \"1\", \"324000\", \"0.9\", \"140\", \"0\", \"0\", \"74\", \"0\"], [\"70\", \"0\", \"69\", \"0\", \"40\", \"0\", \"293000\", \"1.7\", \"136\", \"0\", \"0\", \"75\", \"0\"], [\"67\", \"0\", \"582\", \"0\", \"50\", \"0\", \"263358.03\", \"1.18\", \"137\", \"1\", \"1\", \"76\", \"0\"], [\"79\", \"1\", \"55\", \"0\", \"50\", \"1\", \"172000\", \"1.8\", \"133\", \"1\", \"0\", \"78\", \"0\"], [\"51\", \"0\", \"78\", \"0\", \"50\", \"0\", \"406000\", \"0.7\", \"140\", \"1\", \"0\", \"79\", \"0\"], [\"55\", \"0\", \"47\", \"0\", \"35\", \"1\", \"173000\", \"1.1\", \"137\", \"1\", \"0\", \"79\", \"0\"], [\"65\", \"1\", \"68\", \"1\", \"60\", \"1\", \"304000\", \"0.8\", \"140\", \"1\", \"0\", \"79\", \"0\"], [\"44\", \"0\", \"84\", \"1\", \"40\", \"1\", \"235000\", \"0.7\", \"139\", \"1\", \"0\", \"79\", \"0\"], [\"57\", \"1\", \"115\", \"0\", \"25\", \"1\", \"181000\", \"1.1\", \"144\", \"1\", \"0\", \"79\", \"0\"], [\"70\", \"0\", \"66\", \"1\", \"45\", \"0\", \"249000\", \"0.8\", \"136\", \"1\", \"1\", \"80\", \"0\"], [\"60\", \"0\", \"897\", \"1\", \"45\", \"0\", \"297000\", \"1\", \"133\", \"1\", \"0\", \"80\", \"0\"], [\"42\", \"0\", \"582\", \"0\", \"60\", \"0\", \"263358.03\", \"1.18\", \"137\", \"0\", \"0\", \"82\", \"0\"], [\"58\", \"0\", \"144\", \"1\", \"38\", \"1\", \"327000\", \"0.7\", \"142\", \"0\", \"0\", \"83\", \"0\"], [\"58\", \"1\", \"133\", \"0\", \"60\", \"1\", \"219000\", \"1\", \"141\", \"1\", \"0\", \"83\", \"0\"], [\"63\", \"1\", \"514\", \"1\", \"25\", \"1\", \"254000\", \"1.3\", \"134\", \"1\", \"0\", \"83\", \"0\"], [\"70\", \"1\", \"59\", \"0\", \"60\", \"0\", \"255000\", \"1.1\", \"136\", \"0\", \"0\", \"85\", \"0\"], [\"60\", \"1\", \"156\", \"1\", \"25\", \"1\", \"318000\", \"1.2\", \"137\", \"0\", \"0\", \"85\", \"0\"], [\"63\", \"1\", \"61\", \"1\", \"40\", \"0\", \"221000\", \"1.1\", \"140\", \"0\", \"0\", \"86\", \"0\"], [\"65\", \"1\", \"305\", \"0\", \"25\", \"0\", \"298000\", \"1.1\", \"141\", \"1\", \"0\", \"87\", \"0\"], [\"75\", \"0\", \"582\", \"0\", \"45\", \"1\", \"263358.03\", \"1.18\", \"137\", \"1\", \"0\", \"87\", \"0\"], [\"80\", \"0\", \"898\", \"0\", \"25\", \"0\", \"149000\", \"1.1\", \"144\", \"1\", \"1\", \"87\", \"0\"], [\"42\", \"0\", \"5209\", \"0\", \"30\", \"0\", \"226000\", \"1\", \"140\", \"1\", \"1\", \"87\", \"0\"], [\"60\", \"0\", \"53\", \"0\", \"50\", \"1\", \"286000\", \"2.3\", \"143\", \"0\", \"0\", \"87\", \"0\"], [\"55\", \"0\", \"748\", \"0\", \"45\", \"0\", \"263000\", \"1.3\", \"137\", \"1\", \"0\", \"88\", \"0\"], [\"45\", \"1\", \"1876\", \"1\", \"35\", \"0\", \"226000\", \"0.9\", \"138\", \"1\", \"0\", \"88\", \"0\"], [\"63\", \"0\", \"936\", \"0\", \"38\", \"0\", \"304000\", \"1.1\", \"133\", \"1\", \"1\", \"88\", \"0\"], [\"45\", \"0\", \"292\", \"1\", \"35\", \"0\", \"850000\", \"1.3\", \"142\", \"1\", \"1\", \"88\", \"0\"], [\"55\", \"0\", \"60\", \"0\", \"35\", \"0\", \"228000\", \"1.2\", \"135\", \"1\", \"1\", \"90\", \"0\"], [\"50\", \"0\", \"369\", \"1\", \"25\", \"0\", \"252000\", \"1.6\", \"136\", \"1\", \"0\", \"90\", \"0\"], [\"60\", \"1\", \"754\", \"1\", \"40\", \"1\", \"328000\", \"1.2\", \"126\", \"1\", \"0\", \"91\", \"0\"], [\"58\", \"1\", \"400\", \"0\", \"40\", \"0\", \"164000\", \"1\", \"139\", \"0\", \"0\", \"91\", \"0\"], [\"60\", \"1\", \"96\", \"1\", \"60\", \"1\", \"271000\", \"0.7\", \"136\", \"0\", \"0\", \"94\", \"0\"], [\"85\", \"1\", \"102\", \"0\", \"60\", \"0\", \"507000\", \"3.2\", \"138\", \"0\", \"0\", \"94\", \"0\"], [\"65\", \"1\", \"113\", \"1\", \"60\", \"1\", \"203000\", \"0.9\", \"140\", \"0\", \"0\", \"94\", \"0\"], [\"60\", \"1\", \"737\", \"0\", \"60\", \"1\", \"210000\", \"1.5\", \"135\", \"1\", \"1\", \"95\", \"0\"], [\"66\", \"1\", \"68\", \"1\", \"38\", \"1\", \"162000\", \"1\", \"136\", \"0\", \"0\", \"95\", \"0\"], [\"60\", \"0\", \"96\", \"1\", \"38\", \"0\", \"228000\", \"0.75\", \"140\", \"0\", \"0\", \"95\", \"0\"], [\"60\", \"1\", \"582\", \"0\", \"30\", \"1\", \"127000\", \"0.9\", \"145\", \"0\", \"0\", \"95\", \"0\"], [\"43\", \"1\", \"358\", \"0\", \"50\", \"0\", \"237000\", \"1.3\", \"135\", \"0\", \"0\", \"97\", \"0\"], [\"58\", \"1\", \"200\", \"1\", \"60\", \"0\", \"300000\", \"0.8\", \"137\", \"0\", \"0\", \"104\", \"0\"], [\"61\", \"0\", \"248\", \"0\", \"30\", \"1\", \"267000\", \"0.7\", \"136\", \"1\", \"1\", \"104\", \"0\"], [\"53\", \"1\", \"270\", \"1\", \"35\", \"0\", \"227000\", \"3.4\", \"145\", \"1\", \"0\", \"105\", \"0\"], [\"53\", \"1\", \"1808\", \"0\", \"60\", \"1\", \"249000\", \"0.7\", \"138\", \"1\", \"1\", \"106\", \"0\"], [\"60\", \"1\", \"1082\", \"1\", \"45\", \"0\", \"250000\", \"6.1\", \"131\", \"1\", \"0\", \"107\", \"0\"], [\"46\", \"0\", \"719\", \"0\", \"40\", \"1\", \"263358.03\", \"1.18\", \"137\", \"0\", \"0\", \"107\", \"0\"], [\"63\", \"0\", \"193\", \"0\", \"60\", \"1\", \"295000\", \"1.3\", \"145\", \"1\", \"1\", \"107\", \"0\"], [\"81\", \"0\", \"4540\", \"0\", \"35\", \"0\", \"231000\", \"1.18\", \"137\", \"1\", \"1\", \"107\", \"0\"], [\"75\", \"0\", \"582\", \"0\", \"40\", \"0\", \"263358.03\", \"1.18\", \"137\", \"1\", \"0\", \"107\", \"0\"], [\"65\", \"1\", \"59\", \"1\", \"60\", \"0\", \"172000\", \"0.9\", \"137\", \"0\", \"0\", \"107\", \"0\"], [\"68\", \"1\", \"646\", \"0\", \"25\", \"0\", \"305000\", \"2.1\", \"130\", \"1\", \"0\", \"108\", \"0\"], [\"62\", \"0\", \"281\", \"1\", \"35\", \"0\", \"221000\", \"1\", \"136\", \"0\", \"0\", \"108\", \"0\"], [\"50\", \"0\", \"1548\", \"0\", \"30\", \"1\", \"211000\", \"0.8\", \"138\", \"1\", \"0\", \"108\", \"0\"], [\"46\", \"1\", \"291\", \"0\", \"35\", \"0\", \"348000\", \"0.9\", \"140\", \"0\", \"0\", \"109\", \"0\"], [\"50\", \"0\", \"482\", \"1\", \"30\", \"0\", \"329000\", \"0.9\", \"132\", \"0\", \"0\", \"109\", \"0\"], [\"61\", \"1\", \"84\", \"0\", \"40\", \"1\", \"229000\", \"0.9\", \"141\", \"0\", \"0\", \"110\", \"0\"], [\"50\", \"0\", \"185\", \"0\", \"30\", \"0\", \"266000\", \"0.7\", \"141\", \"1\", \"1\", \"112\", \"0\"], [\"52\", \"0\", \"132\", \"0\", \"30\", \"0\", \"218000\", \"0.7\", \"136\", \"1\", \"1\", \"112\", \"0\"], [\"64\", \"0\", \"1610\", \"0\", \"60\", \"0\", \"242000\", \"1\", \"137\", \"1\", \"0\", \"113\", \"0\"], [\"60\", \"0\", \"2261\", \"0\", \"35\", \"1\", \"228000\", \"0.9\", \"136\", \"1\", \"0\", \"115\", \"0\"], [\"62\", \"0\", \"30\", \"1\", \"60\", \"1\", \"244000\", \"0.9\", \"139\", \"1\", \"0\", \"117\", \"0\"], [\"50\", \"0\", \"115\", \"0\", \"45\", \"1\", \"184000\", \"0.9\", \"134\", \"1\", \"1\", \"118\", \"0\"], [\"50\", \"0\", \"1846\", \"1\", \"35\", \"0\", \"263358.03\", \"1.18\", \"137\", \"1\", \"1\", \"119\", \"0\"], [\"65\", \"1\", \"335\", \"0\", \"35\", \"1\", \"235000\", \"0.8\", \"136\", \"0\", \"0\", \"120\", \"0\"], [\"60\", \"1\", \"231\", \"1\", \"25\", \"0\", \"194000\", \"1.7\", \"140\", \"1\", \"0\", \"120\", \"0\"], [\"52\", \"1\", \"58\", \"0\", \"35\", \"0\", \"277000\", \"1.4\", \"136\", \"0\", \"0\", \"120\", \"0\"], [\"50\", \"0\", \"250\", \"0\", \"25\", \"0\", \"262000\", \"1\", \"136\", \"1\", \"1\", \"120\", \"0\"], [\"85\", \"1\", \"910\", \"0\", \"50\", \"0\", \"235000\", \"1.3\", \"134\", \"1\", \"0\", \"121\", \"0\"], [\"59\", \"1\", \"129\", \"0\", \"45\", \"1\", \"362000\", \"1.1\", \"139\", \"1\", \"1\", \"121\", \"0\"], [\"66\", \"1\", \"72\", \"0\", \"40\", \"1\", \"242000\", \"1.2\", \"134\", \"1\", \"0\", \"121\", \"0\"], [\"45\", \"1\", \"130\", \"0\", \"35\", \"0\", \"174000\", \"0.8\", \"139\", \"1\", \"1\", \"121\", \"0\"], [\"63\", \"1\", \"582\", \"0\", \"40\", \"0\", \"448000\", \"0.9\", \"137\", \"1\", \"1\", \"123\", \"0\"], [\"53\", \"0\", \"196\", \"0\", \"60\", \"0\", \"220000\", \"0.7\", \"133\", \"1\", \"1\", \"134\", \"0\"], [\"65\", \"0\", \"582\", \"1\", \"40\", \"0\", \"270000\", \"1\", \"138\", \"0\", \"0\", \"140\", \"0\"], [\"70\", \"0\", \"835\", \"0\", \"35\", \"1\", \"305000\", \"0.8\", \"133\", \"0\", \"0\", \"145\", \"0\"], [\"51\", \"1\", \"582\", \"1\", \"35\", \"0\", \"263358.03\", \"1.5\", \"136\", \"1\", \"1\", \"145\", \"0\"], [\"52\", \"0\", \"3966\", \"0\", \"40\", \"0\", \"325000\", \"0.9\", \"140\", \"1\", \"1\", \"146\", \"0\"], [\"70\", \"1\", \"171\", \"0\", \"60\", \"1\", \"176000\", \"1.1\", \"145\", \"1\", \"1\", \"146\", \"0\"], [\"50\", \"1\", \"115\", \"0\", \"20\", \"0\", \"189000\", \"0.8\", \"139\", \"1\", \"0\", \"146\", \"0\"], [\"65\", \"0\", \"198\", \"1\", \"35\", \"1\", \"281000\", \"0.9\", \"137\", \"1\", \"1\", \"146\", \"0\"], [\"60\", \"1\", \"95\", \"0\", \"60\", \"0\", \"337000\", \"1\", \"138\", \"1\", \"1\", \"146\", \"0\"], [\"69\", \"0\", \"1419\", \"0\", \"40\", \"0\", \"105000\", \"1\", \"135\", \"1\", \"1\", \"147\", \"0\"], [\"49\", \"1\", \"69\", \"0\", \"50\", \"0\", \"132000\", \"1\", \"140\", \"0\", \"0\", \"147\", \"0\"], [\"63\", \"1\", \"122\", \"1\", \"60\", \"0\", \"267000\", \"1.2\", \"145\", \"1\", \"0\", \"147\", \"0\"], [\"55\", \"0\", \"835\", \"0\", \"40\", \"0\", \"279000\", \"0.7\", \"140\", \"1\", \"1\", \"147\", \"0\"], [\"40\", \"0\", \"478\", \"1\", \"30\", \"0\", \"303000\", \"0.9\", \"136\", \"1\", \"0\", \"148\", \"0\"], [\"60.667\", \"1\", \"151\", \"1\", \"40\", \"1\", \"201000\", \"1\", \"136\", \"0\", \"0\", \"172\", \"0\"], [\"40\", \"0\", \"244\", \"0\", \"45\", \"1\", \"275000\", \"0.9\", \"140\", \"0\", \"0\", \"174\", \"0\"], [\"80\", \"0\", \"582\", \"1\", \"35\", \"0\", \"350000\", \"2.1\", \"134\", \"1\", \"0\", \"174\", \"0\"], [\"64\", \"1\", \"62\", \"0\", \"60\", \"0\", \"309000\", \"1.5\", \"135\", \"0\", \"0\", \"174\", \"0\"], [\"50\", \"1\", \"121\", \"1\", \"40\", \"0\", \"260000\", \"0.7\", \"130\", \"1\", \"0\", \"175\", \"0\"], [\"73\", \"1\", \"231\", \"1\", \"30\", \"0\", \"160000\", \"1.18\", \"142\", \"1\", \"1\", \"180\", \"0\"], [\"45\", \"0\", \"582\", \"1\", \"38\", \"1\", \"263358.03\", \"1.18\", \"137\", \"0\", \"0\", \"185\", \"0\"], [\"65\", \"0\", \"167\", \"0\", \"30\", \"0\", \"259000\", \"0.8\", \"138\", \"0\", \"0\", \"186\", \"0\"], [\"50\", \"1\", \"582\", \"1\", \"20\", \"1\", \"279000\", \"1\", \"134\", \"0\", \"0\", \"186\", \"0\"], [\"60\", \"0\", \"1211\", \"1\", \"35\", \"0\", \"263358.03\", \"1.8\", \"113\", \"1\", \"1\", \"186\", \"0\"], [\"63\", \"1\", \"1767\", \"0\", \"45\", \"0\", \"73000\", \"0.7\", \"137\", \"1\", \"0\", \"186\", \"0\"], [\"45\", \"0\", \"308\", \"1\", \"60\", \"1\", \"377000\", \"1\", \"136\", \"1\", \"0\", \"186\", \"0\"], [\"70\", \"0\", \"97\", \"0\", \"60\", \"1\", \"220000\", \"0.9\", \"138\", \"1\", \"0\", \"186\", \"0\"], [\"60\", \"0\", \"59\", \"0\", \"25\", \"1\", \"212000\", \"3.5\", \"136\", \"1\", \"1\", \"187\", \"0\"], [\"78\", \"1\", \"64\", \"0\", \"40\", \"0\", \"277000\", \"0.7\", \"137\", \"1\", \"1\", \"187\", \"0\"], [\"50\", \"1\", \"167\", \"1\", \"45\", \"0\", \"362000\", \"1\", \"136\", \"0\", \"0\", \"187\", \"0\"], [\"40\", \"1\", \"101\", \"0\", \"40\", \"0\", \"226000\", \"0.8\", \"141\", \"0\", \"0\", \"187\", \"0\"], [\"85\", \"0\", \"212\", \"0\", \"38\", \"0\", \"186000\", \"0.9\", \"136\", \"1\", \"0\", \"187\", \"0\"], [\"60\", \"1\", \"2281\", \"1\", \"40\", \"0\", \"283000\", \"1\", \"141\", \"0\", \"0\", \"187\", \"0\"], [\"49\", \"0\", \"972\", \"1\", \"35\", \"1\", \"268000\", \"0.8\", \"130\", \"0\", \"0\", \"187\", \"0\"], [\"70\", \"0\", \"212\", \"1\", \"17\", \"1\", \"389000\", \"1\", \"136\", \"1\", \"1\", \"188\", \"0\"], [\"50\", \"0\", \"582\", \"0\", \"62\", \"1\", \"147000\", \"0.8\", \"140\", \"1\", \"1\", \"192\", \"0\"], [\"78\", \"0\", \"224\", \"0\", \"50\", \"0\", \"481000\", \"1.4\", \"138\", \"1\", \"1\", \"192\", \"0\"], [\"65\", \"1\", \"135\", \"0\", \"35\", \"1\", \"290000\", \"0.8\", \"134\", \"1\", \"0\", \"194\", \"0\"], [\"73\", \"0\", \"582\", \"0\", \"35\", \"1\", \"203000\", \"1.3\", \"134\", \"1\", \"0\", \"195\", \"0\"], [\"70\", \"0\", \"1202\", \"0\", \"50\", \"1\", \"358000\", \"0.9\", \"141\", \"0\", \"0\", \"196\", \"0\"], [\"68\", \"1\", \"1021\", \"1\", \"35\", \"0\", \"271000\", \"1.1\", \"134\", \"1\", \"0\", \"197\", \"0\"], [\"55\", \"0\", \"582\", \"1\", \"35\", \"1\", \"371000\", \"0.7\", \"140\", \"0\", \"0\", \"197\", \"0\"], [\"65\", \"0\", \"118\", \"0\", \"50\", \"0\", \"194000\", \"1.1\", \"145\", \"1\", \"1\", \"200\", \"0\"], [\"42\", \"1\", \"86\", \"0\", \"35\", \"0\", \"365000\", \"1.1\", \"139\", \"1\", \"1\", \"201\", \"0\"], [\"47\", \"0\", \"582\", \"0\", \"25\", \"0\", \"130000\", \"0.8\", \"134\", \"1\", \"0\", \"201\", \"0\"], [\"58\", \"0\", \"582\", \"1\", \"25\", \"0\", \"504000\", \"1\", \"138\", \"1\", \"0\", \"205\", \"0\"], [\"75\", \"0\", \"675\", \"1\", \"60\", \"0\", \"265000\", \"1.4\", \"125\", \"0\", \"0\", \"205\", \"0\"], [\"58\", \"1\", \"57\", \"0\", \"25\", \"0\", \"189000\", \"1.3\", \"132\", \"1\", \"1\", \"205\", \"0\"], [\"55\", \"1\", \"2794\", \"0\", \"35\", \"1\", \"141000\", \"1\", \"140\", \"1\", \"0\", \"206\", \"0\"], [\"65\", \"0\", \"56\", \"0\", \"25\", \"0\", \"237000\", \"5\", \"130\", \"0\", \"0\", \"207\", \"0\"], [\"72\", \"0\", \"211\", \"0\", \"25\", \"0\", \"274000\", \"1.2\", \"134\", \"0\", \"0\", \"207\", \"0\"], [\"70\", \"0\", \"93\", \"0\", \"35\", \"0\", \"185000\", \"1.1\", \"134\", \"1\", \"1\", \"208\", \"0\"], [\"40\", \"1\", \"129\", \"0\", \"35\", \"0\", \"255000\", \"0.9\", \"137\", \"1\", \"0\", \"209\", \"0\"], [\"53\", \"1\", \"707\", \"0\", \"38\", \"0\", \"330000\", \"1.4\", \"137\", \"1\", \"1\", \"209\", \"0\"], [\"53\", \"1\", \"582\", \"0\", \"45\", \"0\", \"305000\", \"1.1\", \"137\", \"1\", \"1\", \"209\", \"0\"], [\"77\", \"1\", \"109\", \"0\", \"50\", \"1\", \"406000\", \"1.1\", \"137\", \"1\", \"0\", \"209\", \"0\"], [\"75\", \"0\", \"119\", \"0\", \"50\", \"1\", \"248000\", \"1.1\", \"148\", \"1\", \"0\", \"209\", \"0\"], [\"70\", \"0\", \"232\", \"0\", \"30\", \"0\", \"173000\", \"1.2\", \"132\", \"1\", \"0\", \"210\", \"0\"], [\"65\", \"1\", \"720\", \"1\", \"40\", \"0\", \"257000\", \"1\", \"136\", \"0\", \"0\", \"210\", \"0\"], [\"55\", \"1\", \"180\", \"0\", \"45\", \"0\", \"263358.03\", \"1.18\", \"137\", \"1\", \"1\", \"211\", \"0\"], [\"70\", \"0\", \"81\", \"1\", \"35\", \"1\", \"533000\", \"1.3\", \"139\", \"0\", \"0\", \"212\", \"0\"], [\"65\", \"0\", \"582\", \"1\", \"30\", \"0\", \"249000\", \"1.3\", \"136\", \"1\", \"1\", \"212\", \"0\"], [\"40\", \"0\", \"90\", \"0\", \"35\", \"0\", \"255000\", \"1.1\", \"136\", \"1\", \"1\", \"212\", \"0\"], [\"73\", \"1\", \"1185\", \"0\", \"40\", \"1\", \"220000\", \"0.9\", \"141\", \"0\", \"0\", \"213\", \"0\"], [\"54\", \"0\", \"582\", \"1\", \"38\", \"0\", \"264000\", \"1.8\", \"134\", \"1\", \"0\", \"213\", \"0\"], [\"61\", \"1\", \"80\", \"1\", \"38\", \"0\", \"282000\", \"1.4\", \"137\", \"1\", \"0\", \"213\", \"0\"], [\"64\", \"0\", \"143\", \"0\", \"25\", \"0\", \"246000\", \"2.4\", \"135\", \"1\", \"0\", \"214\", \"0\"], [\"40\", \"0\", \"624\", \"0\", \"35\", \"0\", \"301000\", \"1\", \"142\", \"1\", \"1\", \"214\", \"0\"], [\"53\", \"0\", \"207\", \"1\", \"40\", \"0\", \"223000\", \"1.2\", \"130\", \"0\", \"0\", \"214\", \"0\"], [\"50\", \"0\", \"2522\", \"0\", \"30\", \"1\", \"404000\", \"0.5\", \"139\", \"0\", \"0\", \"214\", \"0\"], [\"55\", \"0\", \"572\", \"1\", \"35\", \"0\", \"231000\", \"0.8\", \"143\", \"0\", \"0\", \"215\", \"0\"], [\"50\", \"0\", \"245\", \"0\", \"45\", \"1\", \"274000\", \"1\", \"133\", \"1\", \"0\", \"215\", \"0\"], [\"70\", \"0\", \"88\", \"1\", \"35\", \"1\", \"236000\", \"1.2\", \"132\", \"0\", \"0\", \"215\", \"0\"], [\"53\", \"1\", \"446\", \"0\", \"60\", \"1\", \"263358.03\", \"1\", \"139\", \"1\", \"0\", \"215\", \"0\"], [\"52\", \"1\", \"191\", \"1\", \"30\", \"1\", \"334000\", \"1\", \"142\", \"1\", \"1\", \"216\", \"0\"], [\"65\", \"0\", \"326\", \"0\", \"38\", \"0\", \"294000\", \"1.7\", \"139\", \"0\", \"0\", \"220\", \"0\"], [\"58\", \"0\", \"132\", \"1\", \"38\", \"1\", \"253000\", \"1\", \"139\", \"1\", \"0\", \"230\", \"0\"], [\"45\", \"1\", \"66\", \"1\", \"25\", \"0\", \"233000\", \"0.8\", \"135\", \"1\", \"0\", \"230\", \"0\"], [\"53\", \"0\", \"56\", \"0\", \"50\", \"0\", \"308000\", \"0.7\", \"135\", \"1\", \"1\", \"231\", \"0\"], [\"55\", \"0\", \"66\", \"0\", \"40\", \"0\", \"203000\", \"1\", \"138\", \"1\", \"0\", \"233\", \"0\"], [\"62\", \"1\", \"655\", \"0\", \"40\", \"0\", \"283000\", \"0.7\", \"133\", \"0\", \"0\", \"233\", \"0\"], [\"68\", \"1\", \"157\", \"1\", \"60\", \"0\", \"208000\", \"1\", \"140\", \"0\", \"0\", \"237\", \"0\"], [\"61\", \"0\", \"582\", \"1\", \"38\", \"0\", \"147000\", \"1.2\", \"141\", \"1\", \"0\", \"237\", \"0\"], [\"50\", \"1\", \"298\", \"0\", \"35\", \"0\", \"362000\", \"0.9\", \"140\", \"1\", \"1\", \"240\", \"0\"], [\"56\", \"1\", \"135\", \"1\", \"38\", \"0\", \"133000\", \"1.7\", \"140\", \"1\", \"0\", \"244\", \"0\"], [\"45\", \"0\", \"582\", \"1\", \"38\", \"0\", \"302000\", \"0.9\", \"140\", \"0\", \"0\", \"244\", \"0\"], [\"40\", \"0\", \"582\", \"1\", \"35\", \"0\", \"222000\", \"1\", \"132\", \"1\", \"0\", \"244\", \"0\"], [\"44\", \"0\", \"582\", \"1\", \"30\", \"1\", \"263358.03\", \"1.6\", \"130\", \"1\", \"1\", \"244\", \"0\"], [\"51\", \"0\", \"582\", \"1\", \"40\", \"0\", \"221000\", \"0.9\", \"134\", \"0\", \"0\", \"244\", \"0\"], [\"67\", \"0\", \"213\", \"0\", \"38\", \"0\", \"215000\", \"1.2\", \"133\", \"0\", \"0\", \"245\", \"0\"], [\"42\", \"0\", \"64\", \"0\", \"40\", \"0\", \"189000\", \"0.7\", \"140\", \"1\", \"0\", \"245\", \"0\"], [\"60\", \"1\", \"257\", \"1\", \"30\", \"0\", \"150000\", \"1\", \"137\", \"1\", \"1\", \"245\", \"0\"], [\"45\", \"0\", \"582\", \"0\", \"38\", \"1\", \"422000\", \"0.8\", \"137\", \"0\", \"0\", \"245\", \"0\"], [\"70\", \"0\", \"618\", \"0\", \"35\", \"0\", \"327000\", \"1.1\", \"142\", \"0\", \"0\", \"245\", \"0\"], [\"70\", \"0\", \"582\", \"1\", \"38\", \"0\", \"25100\", \"1.1\", \"140\", \"1\", \"0\", \"246\", \"0\"], [\"50\", \"1\", \"1051\", \"1\", \"30\", \"0\", \"232000\", \"0.7\", \"136\", \"0\", \"0\", \"246\", \"0\"], [\"55\", \"0\", \"84\", \"1\", \"38\", \"0\", \"451000\", \"1.3\", \"136\", \"0\", \"0\", \"246\", \"0\"], [\"70\", \"0\", \"2695\", \"1\", \"40\", \"0\", \"241000\", \"1\", \"137\", \"1\", \"0\", \"247\", \"0\"], [\"70\", \"0\", \"582\", \"0\", \"40\", \"0\", \"51000\", \"2.7\", \"136\", \"1\", \"1\", \"250\", \"0\"], [\"42\", \"0\", \"64\", \"0\", \"30\", \"0\", \"215000\", \"3.8\", \"128\", \"1\", \"1\", \"250\", \"0\"], [\"65\", \"0\", \"1688\", \"0\", \"38\", \"0\", \"263358.03\", \"1.1\", \"138\", \"1\", \"1\", \"250\", \"0\"], [\"50\", \"1\", \"54\", \"0\", \"40\", \"0\", \"279000\", \"0.8\", \"141\", \"1\", \"0\", \"250\", \"0\"], [\"55\", \"1\", \"170\", \"1\", \"40\", \"0\", \"336000\", \"1.2\", \"135\", \"1\", \"0\", \"250\", \"0\"], [\"60\", \"0\", \"253\", \"0\", \"35\", \"0\", \"279000\", \"1.7\", \"140\", \"1\", \"0\", \"250\", \"0\"], [\"45\", \"0\", \"582\", \"1\", \"55\", \"0\", \"543000\", \"1\", \"132\", \"0\", \"0\", \"250\", \"0\"], [\"65\", \"0\", \"892\", \"1\", \"35\", \"0\", \"263358.03\", \"1.1\", \"142\", \"0\", \"0\", \"256\", \"0\"], [\"90\", \"1\", \"337\", \"0\", \"38\", \"0\", \"390000\", \"0.9\", \"144\", \"0\", \"0\", \"256\", \"0\"], [\"45\", \"0\", \"615\", \"1\", \"55\", \"0\", \"222000\", \"0.8\", \"141\", \"0\", \"0\", \"257\", \"0\"], [\"60\", \"0\", \"320\", \"0\", \"35\", \"0\", \"133000\", \"1.4\", \"139\", \"1\", \"0\", \"258\", \"0\"], [\"52\", \"0\", \"190\", \"1\", \"38\", \"0\", \"382000\", \"1\", \"140\", \"1\", \"1\", \"258\", \"0\"], [\"63\", \"1\", \"103\", \"1\", \"35\", \"0\", \"179000\", \"0.9\", \"136\", \"1\", \"1\", \"270\", \"0\"], [\"62\", \"0\", \"61\", \"1\", \"38\", \"1\", \"155000\", \"1.1\", \"143\", \"1\", \"1\", \"270\", \"0\"], [\"55\", \"0\", \"1820\", \"0\", \"38\", \"0\", \"270000\", \"1.2\", \"139\", \"0\", \"0\", \"271\", \"0\"], [\"45\", \"0\", \"2060\", \"1\", \"60\", \"0\", \"742000\", \"0.8\", \"138\", \"0\", \"0\", \"278\", \"0\"], [\"45\", \"0\", \"2413\", \"0\", \"38\", \"0\", \"140000\", \"1.4\", \"140\", \"1\", \"1\", \"280\", \"0\"], [\"50\", \"0\", \"196\", \"0\", \"45\", \"0\", \"395000\", \"1.6\", \"136\", \"1\", \"1\", \"285\", \"0\"]], \"hoverlabel\": {\"namelength\": 0}, \"hovertemplate\": \"death_event=%{customdata[12]}<br>smoking=%{customdata[10]}<br>diabetes=%{customdata[3]}<br>age=%{customdata[0]}<br>anaemia=%{customdata[1]}<br>creatinine_phosphokinase=%{customdata[2]}<br>ejection_fraction=%{customdata[4]}<br>high_blood_pressure=%{customdata[5]}<br>platelets=%{customdata[6]}<br>serum_creatinine=%{customdata[7]}<br>serum_sodium=%{customdata[8]}<br>sex=%{customdata[9]}<br>time=%{customdata[11]}\", \"legendgroup\": \"death_event=0\", \"marker\": {\"color\": \"#EF553B\"}, \"name\": \"death_event=0\", \"offsetgroup\": \"death_event=0\", \"orientation\": \"v\", \"points\": \"all\", \"scalegroup\": \"True\", \"showlegend\": true, \"type\": \"violin\", \"x\": [\"0\", \"0\", \"0\", \"0\", \"0\", \"0\", \"1\", \"1\", \"1\", \"0\", \"1\", \"1\", \"1\", \"1\", \"0\", \"1\", \"0\", \"0\", \"1\", \"0\", \"0\", \"0\", \"0\", \"0\", \"0\", \"1\", \"0\", \"0\", \"0\", \"0\", \"0\", \"0\", \"0\", \"0\", \"0\", \"0\", \"1\", \"1\", \"0\", \"0\", \"0\", \"1\", \"1\", \"1\", \"0\", \"0\", \"0\", \"0\", \"0\", \"0\", \"1\", \"0\", \"0\", \"0\", \"0\", \"0\", \"1\", \"0\", \"1\", \"0\", \"0\", \"1\", \"1\", \"0\", \"0\", \"0\", \"0\", \"0\", \"0\", \"0\", \"0\", \"1\", \"1\", \"0\", \"0\", \"0\", \"1\", \"1\", \"0\", \"0\", \"0\", \"1\", \"0\", \"1\", \"0\", \"1\", \"1\", \"1\", \"0\", \"0\", \"1\", \"1\", \"1\", \"0\", \"1\", \"1\", \"1\", \"0\", \"0\", \"1\", \"0\", \"0\", \"0\", \"0\", \"0\", \"0\", \"1\", \"0\", \"0\", \"0\", \"1\", \"0\", \"0\", \"0\", \"1\", \"1\", \"0\", \"0\", \"0\", \"0\", \"0\", \"1\", \"1\", \"1\", \"0\", \"0\", \"0\", \"0\", \"0\", \"1\", \"1\", \"0\", \"0\", \"0\", \"1\", \"0\", \"0\", \"0\", \"1\", \"0\", \"1\", \"1\", \"0\", \"0\", \"0\", \"0\", \"1\", \"0\", \"1\", \"1\", \"0\", \"0\", \"0\", \"0\", \"1\", \"0\", \"0\", \"0\", \"0\", \"0\", \"0\", \"1\", \"0\", \"0\", \"0\", \"1\", \"0\", \"0\", \"0\", \"0\", \"1\", \"0\", \"0\", \"0\", \"1\", \"0\", \"0\", \"0\", \"1\", \"0\", \"0\", \"0\", \"0\", \"0\", \"0\", \"1\", \"1\", \"1\", \"0\", \"0\", \"0\", \"0\", \"0\", \"0\", \"0\", \"0\", \"1\", \"1\", \"1\", \"0\", \"0\", \"1\", \"1\"], \"x0\": \" \", \"xaxis\": \"x\", \"y\": [\"0\", \"0\", \"1\", \"1\", \"1\", \"1\", \"0\", \"0\", \"0\", \"0\", \"0\", \"1\", \"1\", \"0\", \"1\", \"1\", \"0\", \"0\", \"0\", \"0\", \"0\", \"0\", \"1\", \"1\", \"0\", \"1\", \"1\", \"0\", \"1\", \"0\", \"1\", \"0\", \"1\", \"1\", \"0\", \"0\", \"0\", \"0\", \"0\", \"0\", \"1\", \"0\", \"1\", \"0\", \"1\", \"1\", \"0\", \"1\", \"0\", \"1\", \"0\", \"1\", \"1\", \"0\", \"0\", \"1\", \"0\", \"1\", \"0\", \"1\", \"0\", \"0\", \"0\", \"0\", \"1\", \"0\", \"1\", \"0\", \"0\", \"1\", \"0\", \"0\", \"0\", \"0\", \"0\", \"1\", \"0\", \"1\", \"0\", \"1\", \"0\", \"0\", \"0\", \"0\", \"0\", \"0\", \"0\", \"0\", \"1\", \"0\", \"1\", \"0\", \"0\", \"0\", \"1\", \"0\", \"0\", \"0\", \"1\", \"0\", \"1\", \"1\", \"0\", \"1\", \"0\", \"1\", \"1\", \"1\", \"0\", \"1\", \"1\", \"0\", \"1\", \"0\", \"0\", \"0\", \"1\", \"0\", \"0\", \"1\", \"1\", \"1\", \"0\", \"0\", \"0\", \"0\", \"0\", \"1\", \"1\", \"0\", \"0\", \"0\", \"1\", \"1\", \"0\", \"0\", \"0\", \"0\", \"0\", \"0\", \"0\", \"0\", \"0\", \"0\", \"0\", \"1\", \"0\", \"1\", \"1\", \"0\", \"0\", \"1\", \"1\", \"0\", \"0\", \"1\", \"0\", \"1\", \"0\", \"1\", \"0\", \"1\", \"0\", \"1\", \"1\", \"0\", \"0\", \"0\", \"1\", \"1\", \"0\", \"1\", \"1\", \"1\", \"1\", \"1\", \"0\", \"0\", \"1\", \"0\", \"0\", \"1\", \"1\", \"1\", \"1\", \"0\", \"0\", \"0\", \"0\", \"1\", \"0\", \"1\", \"1\", \"0\", \"1\", \"0\", \"1\", \"1\", \"1\", \"0\", \"1\", \"0\", \"0\"], \"y0\": \" \", \"yaxis\": \"y\"}],\n",
              "                        {\"legend\": {\"tracegroupgap\": 0}, \"margin\": {\"t\": 60}, \"template\": {\"data\": {\"bar\": [{\"error_x\": {\"color\": \"#2a3f5f\"}, \"error_y\": {\"color\": \"#2a3f5f\"}, \"marker\": {\"line\": {\"color\": \"#E5ECF6\", \"width\": 0.5}}, \"type\": \"bar\"}], \"barpolar\": [{\"marker\": {\"line\": {\"color\": \"#E5ECF6\", \"width\": 0.5}}, \"type\": \"barpolar\"}], \"carpet\": [{\"aaxis\": {\"endlinecolor\": \"#2a3f5f\", \"gridcolor\": \"white\", \"linecolor\": \"white\", \"minorgridcolor\": \"white\", \"startlinecolor\": \"#2a3f5f\"}, \"baxis\": {\"endlinecolor\": \"#2a3f5f\", \"gridcolor\": \"white\", \"linecolor\": \"white\", \"minorgridcolor\": \"white\", \"startlinecolor\": \"#2a3f5f\"}, \"type\": \"carpet\"}], \"choropleth\": [{\"colorbar\": {\"outlinewidth\": 0, \"ticks\": \"\"}, \"type\": \"choropleth\"}], \"contour\": [{\"colorbar\": {\"outlinewidth\": 0, \"ticks\": \"\"}, \"colorscale\": [[0.0, \"#0d0887\"], [0.1111111111111111, \"#46039f\"], [0.2222222222222222, \"#7201a8\"], [0.3333333333333333, \"#9c179e\"], [0.4444444444444444, \"#bd3786\"], [0.5555555555555556, \"#d8576b\"], [0.6666666666666666, \"#ed7953\"], [0.7777777777777778, \"#fb9f3a\"], [0.8888888888888888, \"#fdca26\"], [1.0, \"#f0f921\"]], \"type\": \"contour\"}], \"contourcarpet\": [{\"colorbar\": {\"outlinewidth\": 0, \"ticks\": \"\"}, \"type\": \"contourcarpet\"}], \"heatmap\": [{\"colorbar\": {\"outlinewidth\": 0, \"ticks\": \"\"}, \"colorscale\": [[0.0, \"#0d0887\"], [0.1111111111111111, \"#46039f\"], [0.2222222222222222, \"#7201a8\"], [0.3333333333333333, \"#9c179e\"], [0.4444444444444444, \"#bd3786\"], [0.5555555555555556, \"#d8576b\"], [0.6666666666666666, \"#ed7953\"], [0.7777777777777778, \"#fb9f3a\"], [0.8888888888888888, \"#fdca26\"], [1.0, \"#f0f921\"]], \"type\": \"heatmap\"}], \"heatmapgl\": [{\"colorbar\": {\"outlinewidth\": 0, \"ticks\": \"\"}, \"colorscale\": [[0.0, \"#0d0887\"], [0.1111111111111111, \"#46039f\"], [0.2222222222222222, \"#7201a8\"], [0.3333333333333333, \"#9c179e\"], [0.4444444444444444, \"#bd3786\"], [0.5555555555555556, \"#d8576b\"], [0.6666666666666666, \"#ed7953\"], [0.7777777777777778, \"#fb9f3a\"], [0.8888888888888888, \"#fdca26\"], [1.0, \"#f0f921\"]], \"type\": \"heatmapgl\"}], \"histogram\": [{\"marker\": {\"colorbar\": {\"outlinewidth\": 0, \"ticks\": \"\"}}, \"type\": \"histogram\"}], \"histogram2d\": [{\"colorbar\": {\"outlinewidth\": 0, \"ticks\": \"\"}, \"colorscale\": [[0.0, \"#0d0887\"], [0.1111111111111111, \"#46039f\"], [0.2222222222222222, \"#7201a8\"], [0.3333333333333333, \"#9c179e\"], [0.4444444444444444, \"#bd3786\"], [0.5555555555555556, \"#d8576b\"], [0.6666666666666666, \"#ed7953\"], [0.7777777777777778, \"#fb9f3a\"], [0.8888888888888888, \"#fdca26\"], [1.0, \"#f0f921\"]], \"type\": \"histogram2d\"}], \"histogram2dcontour\": [{\"colorbar\": {\"outlinewidth\": 0, \"ticks\": \"\"}, \"colorscale\": [[0.0, \"#0d0887\"], [0.1111111111111111, \"#46039f\"], [0.2222222222222222, \"#7201a8\"], [0.3333333333333333, \"#9c179e\"], [0.4444444444444444, \"#bd3786\"], [0.5555555555555556, \"#d8576b\"], [0.6666666666666666, \"#ed7953\"], [0.7777777777777778, \"#fb9f3a\"], [0.8888888888888888, \"#fdca26\"], [1.0, \"#f0f921\"]], \"type\": \"histogram2dcontour\"}], \"mesh3d\": [{\"colorbar\": {\"outlinewidth\": 0, \"ticks\": \"\"}, \"type\": \"mesh3d\"}], \"parcoords\": [{\"line\": {\"colorbar\": {\"outlinewidth\": 0, \"ticks\": \"\"}}, \"type\": \"parcoords\"}], \"pie\": [{\"automargin\": true, \"type\": \"pie\"}], \"scatter\": [{\"marker\": {\"colorbar\": {\"outlinewidth\": 0, \"ticks\": \"\"}}, \"type\": \"scatter\"}], \"scatter3d\": [{\"line\": {\"colorbar\": {\"outlinewidth\": 0, \"ticks\": \"\"}}, \"marker\": {\"colorbar\": {\"outlinewidth\": 0, \"ticks\": \"\"}}, \"type\": \"scatter3d\"}], \"scattercarpet\": [{\"marker\": {\"colorbar\": {\"outlinewidth\": 0, \"ticks\": \"\"}}, \"type\": \"scattercarpet\"}], \"scattergeo\": [{\"marker\": {\"colorbar\": {\"outlinewidth\": 0, \"ticks\": \"\"}}, \"type\": \"scattergeo\"}], \"scattergl\": [{\"marker\": {\"colorbar\": {\"outlinewidth\": 0, \"ticks\": \"\"}}, \"type\": \"scattergl\"}], \"scattermapbox\": [{\"marker\": {\"colorbar\": {\"outlinewidth\": 0, \"ticks\": \"\"}}, \"type\": \"scattermapbox\"}], \"scatterpolar\": [{\"marker\": {\"colorbar\": {\"outlinewidth\": 0, \"ticks\": \"\"}}, \"type\": \"scatterpolar\"}], \"scatterpolargl\": [{\"marker\": {\"colorbar\": {\"outlinewidth\": 0, \"ticks\": \"\"}}, \"type\": \"scatterpolargl\"}], \"scatterternary\": [{\"marker\": {\"colorbar\": {\"outlinewidth\": 0, \"ticks\": \"\"}}, \"type\": \"scatterternary\"}], \"surface\": [{\"colorbar\": {\"outlinewidth\": 0, \"ticks\": \"\"}, \"colorscale\": [[0.0, \"#0d0887\"], [0.1111111111111111, \"#46039f\"], [0.2222222222222222, \"#7201a8\"], [0.3333333333333333, \"#9c179e\"], [0.4444444444444444, \"#bd3786\"], [0.5555555555555556, \"#d8576b\"], [0.6666666666666666, \"#ed7953\"], [0.7777777777777778, \"#fb9f3a\"], [0.8888888888888888, \"#fdca26\"], [1.0, \"#f0f921\"]], \"type\": \"surface\"}], \"table\": [{\"cells\": {\"fill\": {\"color\": \"#EBF0F8\"}, \"line\": {\"color\": \"white\"}}, \"header\": {\"fill\": {\"color\": \"#C8D4E3\"}, \"line\": {\"color\": \"white\"}}, \"type\": \"table\"}]}, \"layout\": {\"annotationdefaults\": {\"arrowcolor\": \"#2a3f5f\", \"arrowhead\": 0, \"arrowwidth\": 1}, \"coloraxis\": {\"colorbar\": {\"outlinewidth\": 0, \"ticks\": \"\"}}, \"colorscale\": {\"diverging\": [[0, \"#8e0152\"], [0.1, \"#c51b7d\"], [0.2, \"#de77ae\"], [0.3, \"#f1b6da\"], [0.4, \"#fde0ef\"], [0.5, \"#f7f7f7\"], [0.6, \"#e6f5d0\"], [0.7, \"#b8e186\"], [0.8, \"#7fbc41\"], [0.9, \"#4d9221\"], [1, \"#276419\"]], \"sequential\": [[0.0, \"#0d0887\"], [0.1111111111111111, \"#46039f\"], [0.2222222222222222, \"#7201a8\"], [0.3333333333333333, \"#9c179e\"], [0.4444444444444444, \"#bd3786\"], [0.5555555555555556, \"#d8576b\"], [0.6666666666666666, \"#ed7953\"], [0.7777777777777778, \"#fb9f3a\"], [0.8888888888888888, \"#fdca26\"], [1.0, \"#f0f921\"]], \"sequentialminus\": [[0.0, \"#0d0887\"], [0.1111111111111111, \"#46039f\"], [0.2222222222222222, \"#7201a8\"], [0.3333333333333333, \"#9c179e\"], [0.4444444444444444, \"#bd3786\"], [0.5555555555555556, \"#d8576b\"], [0.6666666666666666, \"#ed7953\"], [0.7777777777777778, \"#fb9f3a\"], [0.8888888888888888, \"#fdca26\"], [1.0, \"#f0f921\"]]}, \"colorway\": [\"#636efa\", \"#EF553B\", \"#00cc96\", \"#ab63fa\", \"#FFA15A\", \"#19d3f3\", \"#FF6692\", \"#B6E880\", \"#FF97FF\", \"#FECB52\"], \"font\": {\"color\": \"#2a3f5f\"}, \"geo\": {\"bgcolor\": \"white\", \"lakecolor\": \"white\", \"landcolor\": \"#E5ECF6\", \"showlakes\": true, \"showland\": true, \"subunitcolor\": \"white\"}, \"hoverlabel\": {\"align\": \"left\"}, \"hovermode\": \"closest\", \"mapbox\": {\"style\": \"light\"}, \"paper_bgcolor\": \"white\", \"plot_bgcolor\": \"#E5ECF6\", \"polar\": {\"angularaxis\": {\"gridcolor\": \"white\", \"linecolor\": \"white\", \"ticks\": \"\"}, \"bgcolor\": \"#E5ECF6\", \"radialaxis\": {\"gridcolor\": \"white\", \"linecolor\": \"white\", \"ticks\": \"\"}}, \"scene\": {\"xaxis\": {\"backgroundcolor\": \"#E5ECF6\", \"gridcolor\": \"white\", \"gridwidth\": 2, \"linecolor\": \"white\", \"showbackground\": true, \"ticks\": \"\", \"zerolinecolor\": \"white\"}, \"yaxis\": {\"backgroundcolor\": \"#E5ECF6\", \"gridcolor\": \"white\", \"gridwidth\": 2, \"linecolor\": \"white\", \"showbackground\": true, \"ticks\": \"\", \"zerolinecolor\": \"white\"}, \"zaxis\": {\"backgroundcolor\": \"#E5ECF6\", \"gridcolor\": \"white\", \"gridwidth\": 2, \"linecolor\": \"white\", \"showbackground\": true, \"ticks\": \"\", \"zerolinecolor\": \"white\"}}, \"shapedefaults\": {\"line\": {\"color\": \"#2a3f5f\"}}, \"ternary\": {\"aaxis\": {\"gridcolor\": \"white\", \"linecolor\": \"white\", \"ticks\": \"\"}, \"baxis\": {\"gridcolor\": \"white\", \"linecolor\": \"white\", \"ticks\": \"\"}, \"bgcolor\": \"#E5ECF6\", \"caxis\": {\"gridcolor\": \"white\", \"linecolor\": \"white\", \"ticks\": \"\"}}, \"title\": {\"x\": 0.05}, \"xaxis\": {\"automargin\": true, \"gridcolor\": \"white\", \"linecolor\": \"white\", \"ticks\": \"\", \"title\": {\"standoff\": 15}, \"zerolinecolor\": \"white\", \"zerolinewidth\": 2}, \"yaxis\": {\"automargin\": true, \"gridcolor\": \"white\", \"linecolor\": \"white\", \"ticks\": \"\", \"title\": {\"standoff\": 15}, \"zerolinecolor\": \"white\", \"zerolinewidth\": 2}}}, \"title\": {\"text\": \"Analysis of diabetes and Smoking on Death Event\"}, \"violinmode\": \"group\", \"xaxis\": {\"anchor\": \"y\", \"domain\": [0.0, 1.0], \"title\": {\"text\": \"smoking\"}}, \"yaxis\": {\"anchor\": \"x\", \"domain\": [0.0, 1.0], \"title\": {\"text\": \"diabetes\"}}},\n",
              "                        {\"responsive\": true}\n",
              "                    ).then(function(){\n",
              "                            \n",
              "var gd = document.getElementById('e2e526fa-ac5f-484c-92ed-3a3663984c01');\n",
              "var x = new MutationObserver(function (mutations, observer) {{\n",
              "        var display = window.getComputedStyle(gd).display;\n",
              "        if (!display || display === 'none') {{\n",
              "            console.log([gd, 'removed!']);\n",
              "            Plotly.purge(gd);\n",
              "            observer.disconnect();\n",
              "        }}\n",
              "}});\n",
              "\n",
              "// Listen for the removal of the full notebook cells\n",
              "var notebookContainer = gd.closest('#notebook-container');\n",
              "if (notebookContainer) {{\n",
              "    x.observe(notebookContainer, {childList: true});\n",
              "}}\n",
              "\n",
              "// Listen for the clearing of the current output cell\n",
              "var outputEl = gd.closest('.output');\n",
              "if (outputEl) {{\n",
              "    x.observe(outputEl, {childList: true});\n",
              "}}\n",
              "\n",
              "                        })\n",
              "                };\n",
              "                \n",
              "            </script>\n",
              "        </div>\n",
              "</body>\n",
              "</html>"
            ]
          },
          "metadata": {
            "tags": []
          }
        }
      ]
    },
    {
      "cell_type": "markdown",
      "metadata": {
        "id": "F0qQ43pjiWdR"
      },
      "source": [
        "##Key takeaway's from the above visualizations:\n",
        "\n",
        "* Anemia and heart failure doesnot show much correlation between them.\n",
        "* 174 patients who didn't have diabetes died due to heart failure whereas 125 patients died having diabetes.\n",
        "* 203 patients who didn't smoke suffered heart failure but only 96 patients who smoked died due to heart failure, suprisingly."
      ]
    },
    {
      "cell_type": "markdown",
      "metadata": {
        "id": "Zt8GXp-vrttm"
      },
      "source": [
        "#Scaling the features before applying classification algorithms: Data preparation and preprocessing"
      ]
    },
    {
      "cell_type": "code",
      "metadata": {
        "id": "X9i8gHR0sOQT",
        "outputId": "db480766-9ca1-4bb2-81f7-6429c2407e63",
        "colab": {
          "base_uri": "https://localhost:8080/",
          "height": 166
        }
      },
      "source": [
        "df.head(4)"
      ],
      "execution_count": 19,
      "outputs": [
        {
          "output_type": "execute_result",
          "data": {
            "text/html": [
              "<div>\n",
              "<style scoped>\n",
              "    .dataframe tbody tr th:only-of-type {\n",
              "        vertical-align: middle;\n",
              "    }\n",
              "\n",
              "    .dataframe tbody tr th {\n",
              "        vertical-align: top;\n",
              "    }\n",
              "\n",
              "    .dataframe thead th {\n",
              "        text-align: right;\n",
              "    }\n",
              "</style>\n",
              "<table border=\"1\" class=\"dataframe\">\n",
              "  <thead>\n",
              "    <tr style=\"text-align: right;\">\n",
              "      <th></th>\n",
              "      <th>age</th>\n",
              "      <th>anaemia</th>\n",
              "      <th>creatinine_phosphokinase</th>\n",
              "      <th>diabetes</th>\n",
              "      <th>ejection_fraction</th>\n",
              "      <th>high_blood_pressure</th>\n",
              "      <th>platelets</th>\n",
              "      <th>serum_creatinine</th>\n",
              "      <th>serum_sodium</th>\n",
              "      <th>sex</th>\n",
              "      <th>smoking</th>\n",
              "      <th>time</th>\n",
              "      <th>death_event</th>\n",
              "    </tr>\n",
              "  </thead>\n",
              "  <tbody>\n",
              "    <tr>\n",
              "      <th>1</th>\n",
              "      <td>75</td>\n",
              "      <td>0</td>\n",
              "      <td>582</td>\n",
              "      <td>0</td>\n",
              "      <td>20</td>\n",
              "      <td>1</td>\n",
              "      <td>265000</td>\n",
              "      <td>1.9</td>\n",
              "      <td>130</td>\n",
              "      <td>1</td>\n",
              "      <td>0</td>\n",
              "      <td>4</td>\n",
              "      <td>1</td>\n",
              "    </tr>\n",
              "    <tr>\n",
              "      <th>2</th>\n",
              "      <td>55</td>\n",
              "      <td>0</td>\n",
              "      <td>7861</td>\n",
              "      <td>0</td>\n",
              "      <td>38</td>\n",
              "      <td>0</td>\n",
              "      <td>263358.03</td>\n",
              "      <td>1.1</td>\n",
              "      <td>136</td>\n",
              "      <td>1</td>\n",
              "      <td>0</td>\n",
              "      <td>6</td>\n",
              "      <td>1</td>\n",
              "    </tr>\n",
              "    <tr>\n",
              "      <th>3</th>\n",
              "      <td>65</td>\n",
              "      <td>0</td>\n",
              "      <td>146</td>\n",
              "      <td>0</td>\n",
              "      <td>20</td>\n",
              "      <td>0</td>\n",
              "      <td>162000</td>\n",
              "      <td>1.3</td>\n",
              "      <td>129</td>\n",
              "      <td>1</td>\n",
              "      <td>1</td>\n",
              "      <td>7</td>\n",
              "      <td>1</td>\n",
              "    </tr>\n",
              "    <tr>\n",
              "      <th>4</th>\n",
              "      <td>50</td>\n",
              "      <td>1</td>\n",
              "      <td>111</td>\n",
              "      <td>0</td>\n",
              "      <td>20</td>\n",
              "      <td>0</td>\n",
              "      <td>210000</td>\n",
              "      <td>1.9</td>\n",
              "      <td>137</td>\n",
              "      <td>1</td>\n",
              "      <td>0</td>\n",
              "      <td>7</td>\n",
              "      <td>1</td>\n",
              "    </tr>\n",
              "  </tbody>\n",
              "</table>\n",
              "</div>"
            ],
            "text/plain": [
              "  age anaemia creatinine_phosphokinase diabetes  ... sex smoking time death_event\n",
              "1  75       0                      582        0  ...   1       0    4           1\n",
              "2  55       0                     7861        0  ...   1       0    6           1\n",
              "3  65       0                      146        0  ...   1       1    7           1\n",
              "4  50       1                      111        0  ...   1       0    7           1\n",
              "\n",
              "[4 rows x 13 columns]"
            ]
          },
          "metadata": {
            "tags": []
          },
          "execution_count": 19
        }
      ]
    },
    {
      "cell_type": "markdown",
      "metadata": {
        "id": "nc3EjwKptzrE"
      },
      "source": [
        "##Applying min-max scalar on columns: creatinine_phosphokinase, platelets, serum_sodium, age as these columns might potentially skew the model."
      ]
    },
    {
      "cell_type": "code",
      "metadata": {
        "id": "4uG3cs96rmzu"
      },
      "source": [
        "y = df.death_event\n",
        "x = df.drop(columns=('death_event'), axis=1)"
      ],
      "execution_count": 20,
      "outputs": []
    },
    {
      "cell_type": "code",
      "metadata": {
        "id": "clpeJ_ZFsi2V",
        "outputId": "d1362d3b-f728-45cf-e13d-461ffce099b3",
        "colab": {
          "base_uri": "https://localhost:8080/",
          "height": 195
        }
      },
      "source": [
        "from sklearn.preprocessing import MinMaxScaler\n",
        "scaler = MinMaxScaler(feature_range=(0,100))\n",
        "x['platelets'] = scaler.fit_transform(x[['platelets']])\n",
        "x['creatinine_phosphokinase'] = scaler.fit_transform(x[['creatinine_phosphokinase']])\n",
        "x['age'] = scaler.fit_transform(x[['age']])\n",
        "x['serum_sodium'] = scaler.fit_transform(x[['serum_sodium']])\n",
        "\n",
        "x.head()"
      ],
      "execution_count": 23,
      "outputs": [
        {
          "output_type": "execute_result",
          "data": {
            "text/html": [
              "<div>\n",
              "<style scoped>\n",
              "    .dataframe tbody tr th:only-of-type {\n",
              "        vertical-align: middle;\n",
              "    }\n",
              "\n",
              "    .dataframe tbody tr th {\n",
              "        vertical-align: top;\n",
              "    }\n",
              "\n",
              "    .dataframe thead th {\n",
              "        text-align: right;\n",
              "    }\n",
              "</style>\n",
              "<table border=\"1\" class=\"dataframe\">\n",
              "  <thead>\n",
              "    <tr style=\"text-align: right;\">\n",
              "      <th></th>\n",
              "      <th>age</th>\n",
              "      <th>anaemia</th>\n",
              "      <th>creatinine_phosphokinase</th>\n",
              "      <th>diabetes</th>\n",
              "      <th>ejection_fraction</th>\n",
              "      <th>high_blood_pressure</th>\n",
              "      <th>platelets</th>\n",
              "      <th>serum_creatinine</th>\n",
              "      <th>serum_sodium</th>\n",
              "      <th>sex</th>\n",
              "      <th>smoking</th>\n",
              "      <th>time</th>\n",
              "    </tr>\n",
              "  </thead>\n",
              "  <tbody>\n",
              "    <tr>\n",
              "      <th>1</th>\n",
              "      <td>63.636364</td>\n",
              "      <td>0</td>\n",
              "      <td>7.131921</td>\n",
              "      <td>0</td>\n",
              "      <td>20</td>\n",
              "      <td>1</td>\n",
              "      <td>29.082313</td>\n",
              "      <td>1.9</td>\n",
              "      <td>48.571429</td>\n",
              "      <td>1</td>\n",
              "      <td>0</td>\n",
              "      <td>4</td>\n",
              "    </tr>\n",
              "    <tr>\n",
              "      <th>2</th>\n",
              "      <td>27.272727</td>\n",
              "      <td>0</td>\n",
              "      <td>100.000000</td>\n",
              "      <td>0</td>\n",
              "      <td>38</td>\n",
              "      <td>0</td>\n",
              "      <td>28.883262</td>\n",
              "      <td>1.1</td>\n",
              "      <td>65.714286</td>\n",
              "      <td>1</td>\n",
              "      <td>0</td>\n",
              "      <td>6</td>\n",
              "    </tr>\n",
              "    <tr>\n",
              "      <th>3</th>\n",
              "      <td>45.454545</td>\n",
              "      <td>0</td>\n",
              "      <td>1.569278</td>\n",
              "      <td>0</td>\n",
              "      <td>20</td>\n",
              "      <td>0</td>\n",
              "      <td>16.595951</td>\n",
              "      <td>1.3</td>\n",
              "      <td>45.714286</td>\n",
              "      <td>1</td>\n",
              "      <td>1</td>\n",
              "      <td>7</td>\n",
              "    </tr>\n",
              "    <tr>\n",
              "      <th>4</th>\n",
              "      <td>18.181818</td>\n",
              "      <td>1</td>\n",
              "      <td>1.122735</td>\n",
              "      <td>0</td>\n",
              "      <td>20</td>\n",
              "      <td>0</td>\n",
              "      <td>22.414838</td>\n",
              "      <td>1.9</td>\n",
              "      <td>68.571429</td>\n",
              "      <td>1</td>\n",
              "      <td>0</td>\n",
              "      <td>7</td>\n",
              "    </tr>\n",
              "    <tr>\n",
              "      <th>5</th>\n",
              "      <td>45.454545</td>\n",
              "      <td>1</td>\n",
              "      <td>1.747895</td>\n",
              "      <td>1</td>\n",
              "      <td>20</td>\n",
              "      <td>0</td>\n",
              "      <td>36.598376</td>\n",
              "      <td>2.7</td>\n",
              "      <td>8.571429</td>\n",
              "      <td>0</td>\n",
              "      <td>0</td>\n",
              "      <td>8</td>\n",
              "    </tr>\n",
              "  </tbody>\n",
              "</table>\n",
              "</div>"
            ],
            "text/plain": [
              "         age anaemia  creatinine_phosphokinase  ... sex smoking time\n",
              "1  63.636364       0                  7.131921  ...   1       0    4\n",
              "2  27.272727       0                100.000000  ...   1       0    6\n",
              "3  45.454545       0                  1.569278  ...   1       1    7\n",
              "4  18.181818       1                  1.122735  ...   1       0    7\n",
              "5  45.454545       1                  1.747895  ...   0       0    8\n",
              "\n",
              "[5 rows x 12 columns]"
            ]
          },
          "metadata": {
            "tags": []
          },
          "execution_count": 23
        }
      ]
    },
    {
      "cell_type": "code",
      "metadata": {
        "id": "gicGJc74tU5q",
        "outputId": "2176a310-00be-4ded-ee8f-d57109e4a779",
        "colab": {
          "base_uri": "https://localhost:8080/",
          "height": 33
        }
      },
      "source": [
        "y.count()"
      ],
      "execution_count": 24,
      "outputs": [
        {
          "output_type": "execute_result",
          "data": {
            "text/plain": [
              "299"
            ]
          },
          "metadata": {
            "tags": []
          },
          "execution_count": 24
        }
      ]
    },
    {
      "cell_type": "code",
      "metadata": {
        "id": "zAs7S7Aitf4A",
        "outputId": "102014ae-1dda-4935-abd6-d4824704ccb5",
        "colab": {
          "base_uri": "https://localhost:8080/",
          "height": 70
        }
      },
      "source": [
        "y.value_counts()"
      ],
      "execution_count": 25,
      "outputs": [
        {
          "output_type": "execute_result",
          "data": {
            "text/plain": [
              "0    203\n",
              "1     96\n",
              "Name: death_event, dtype: int64"
            ]
          },
          "metadata": {
            "tags": []
          },
          "execution_count": 25
        }
      ]
    },
    {
      "cell_type": "markdown",
      "metadata": {
        "id": "nFAbAzDbtin7"
      },
      "source": [
        "##I notice there is highly class imbalance; might skew the model and make it more biases. Hence I shall apply a sampling technique.\n"
      ]
    },
    {
      "cell_type": "markdown",
      "metadata": {
        "id": "zX80f6t9vK2h"
      },
      "source": [
        "There are 3 types of sampling techniques essentially:\n",
        "\n",
        "* **Stratified sampling** : strategically sample all the classes of the dataset to come up with a certain number of samples overall.\n",
        "\n",
        "* **Random Undersampling** : removing samples from the dataset from the majority class\n",
        "\n",
        "* **Random oversampling**:  adding more samples to the minority class\n",
        "\n"
      ]
    },
    {
      "cell_type": "code",
      "metadata": {
        "id": "DHh-z5alt8bJ"
      },
      "source": [
        "from sklearn.model_selection import train_test_split\n",
        "X_train, X_test, y_train, y_test = train_test_split(x, y, stratify=y, test_size=0.25)\n"
      ],
      "execution_count": 26,
      "outputs": []
    },
    {
      "cell_type": "code",
      "metadata": {
        "id": "VmWnDfi_xLSU",
        "outputId": "2e9033d8-6dc0-4dbc-c78d-89f8d565b299",
        "colab": {
          "base_uri": "https://localhost:8080/",
          "height": 932
        }
      },
      "source": [
        "print(X_train)\n",
        "print(X_test)\n",
        "print(y_train)\n",
        "print(y_test)"
      ],
      "execution_count": 27,
      "outputs": [
        {
          "output_type": "stream",
          "text": [
            "           age anaemia  creatinine_phosphokinase  ... sex smoking time\n",
            "277  54.545455       0                  7.591222  ...   0       0  245\n",
            "139  40.000000       0                  3.291656  ...   0       0  108\n",
            "291   9.090909       0                  7.552947  ...   0       0  257\n",
            "141  72.727273       0                  9.977035  ...   1       0  109\n",
            "287  36.363636       0                  2.934422  ...   1       0  250\n",
            "..         ...     ...                       ...  ...  ..     ...  ...\n",
            "79   63.636364       1                  2.296504  ...   1       1   74\n",
            "212  18.181818       0                  7.131921  ...   1       1  192\n",
            "162   9.090909       1                  1.365144  ...   1       1  121\n",
            "254  54.545455       0                  0.829293  ...   0       0  215\n",
            "169  45.454545       0                  7.131921  ...   0       0  140\n",
            "\n",
            "[224 rows x 12 columns]\n",
            "           age anaemia  creatinine_phosphokinase  ... sex smoking time\n",
            "150  36.363636       0                 28.553202  ...   1       0  115\n",
            "188  36.363636       0                 23.896402  ...   0       0  172\n",
            "243   0.000000       0                  0.854810  ...   1       1  212\n",
            "48   36.363636       0                  7.131921  ...   1       1   40\n",
            "101  45.454545       1                  3.597857  ...   1       0   87\n",
            "..         ...     ...                       ...  ...  ..     ...  ...\n",
            "183  45.454545       0                  4.746109  ...   1       1  154\n",
            "128  32.727273       1                  2.258229  ...   0       0  104\n",
            "73   81.818182       0                 74.751212  ...   1       1   72\n",
            "28   54.545455       0                  1.263077  ...   1       1   26\n",
            "280  27.272727       0                  0.778260  ...   0       0  246\n",
            "\n",
            "[75 rows x 12 columns]\n",
            "277    0\n",
            "139    0\n",
            "291    0\n",
            "141    1\n",
            "287    0\n",
            "      ..\n",
            "79     0\n",
            "212    0\n",
            "162    0\n",
            "254    0\n",
            "169    0\n",
            "Name: death_event, Length: 224, dtype: object\n",
            "150    0\n",
            "188    1\n",
            "243    0\n",
            "48     1\n",
            "101    0\n",
            "      ..\n",
            "183    1\n",
            "128    0\n",
            "73     1\n",
            "28     1\n",
            "280    0\n",
            "Name: death_event, Length: 75, dtype: object\n"
          ],
          "name": "stdout"
        }
      ]
    },
    {
      "cell_type": "markdown",
      "metadata": {
        "id": "lbwyk6WOzZ9C"
      },
      "source": [
        "##Applying Logistic Regression"
      ]
    },
    {
      "cell_type": "code",
      "metadata": {
        "id": "dkz-zM8qxXmw",
        "outputId": "065ec20b-d9d4-4485-d36f-0202ddf863f9",
        "colab": {
          "base_uri": "https://localhost:8080/",
          "height": 34
        }
      },
      "source": [
        "from sklearn.linear_model import LogisticRegression\n",
        "from sklearn.metrics import accuracy_score\n",
        "lr=LogisticRegression(max_iter=10000)\n",
        "lr.fit(X_train,y_train)\n",
        "p1=lr.predict(X_test)\n",
        "s1=accuracy_score(y_test,p1)\n",
        "print(\"Linear Regression Success Rate :\", \"{:.2f}%\".format(100*s1))"
      ],
      "execution_count": 30,
      "outputs": [
        {
          "output_type": "stream",
          "text": [
            "Linear Regression Success Rate : 86.67%\n"
          ],
          "name": "stdout"
        }
      ]
    },
    {
      "cell_type": "markdown",
      "metadata": {
        "id": "MmnTE_8wzeUD"
      },
      "source": [
        "##Applying Gradient Boost algorithm : Ensemble technique"
      ]
    },
    {
      "cell_type": "code",
      "metadata": {
        "id": "jpf4quH6x5oB"
      },
      "source": [
        "from sklearn.ensemble import GradientBoostingClassifier\n",
        "gradientboost_clf = GradientBoostingClassifier(max_depth=2)\n",
        "gradientboost_clf.fit(X_train,y_train)\n",
        "gradientboost_pred = gradientboost_clf.predict(X_test)"
      ],
      "execution_count": 31,
      "outputs": []
    },
    {
      "cell_type": "code",
      "metadata": {
        "id": "oXUSL4t9zBX7",
        "outputId": "253851ab-6c9f-4bc8-b5de-08643ad25ac3",
        "colab": {
          "base_uri": "https://localhost:8080/",
          "height": 34
        }
      },
      "source": [
        "gradientboost_clf.score(X_test,y_test)"
      ],
      "execution_count": 33,
      "outputs": [
        {
          "output_type": "execute_result",
          "data": {
            "text/plain": [
              "0.9333333333333333"
            ]
          },
          "metadata": {
            "tags": []
          },
          "execution_count": 33
        }
      ]
    },
    {
      "cell_type": "code",
      "metadata": {
        "id": "_327SuDMzFmJ",
        "outputId": "a7033ce2-3b09-4ac8-9d05-b379551e3a12",
        "colab": {
          "base_uri": "https://localhost:8080/",
          "height": 282
        }
      },
      "source": [
        "from sklearn.metrics import confusion_matrix\n",
        "import seaborn as sns\n",
        "cf_matrix = confusion_matrix(y_test, gradientboost_pred)\n",
        "sns.heatmap(cf_matrix, cmap='Blues',annot = True)"
      ],
      "execution_count": 36,
      "outputs": [
        {
          "output_type": "execute_result",
          "data": {
            "text/plain": [
              "<matplotlib.axes._subplots.AxesSubplot at 0x7f0756e3f1d0>"
            ]
          },
          "metadata": {
            "tags": []
          },
          "execution_count": 36
        },
        {
          "output_type": "display_data",
          "data": {
            "image/png": "[encoded data removed]",
            "text/plain": [
              "<Figure size 432x288 with 2 Axes>"
            ]
          },
          "metadata": {
            "tags": [],
            "needs_background": "light"
          }
        }
      ]
    },
    {
      "cell_type": "markdown",
      "metadata": {
        "id": "xPMBq-0N7ez1"
      },
      "source": [
        "##Results and discussion\n",
        "\n",
        "Analysis performed shows that:\n",
        "* The dataset was skewed towards the 0'th class of \"death_event\" which is the Y label of the dataset.\n",
        "\n",
        "* Anemia and heart failure doesnot show much correlation between them.\n",
        "\n",
        "* 174 patients who didn't have diabetes died due to heart failure whereas 125 patients died having diabetes.\n",
        "\n",
        "* 203 patients who didn't smoke suffered heart failure but only 96 patients who smoked died due to heart failure, suprisingly.\n",
        "\n",
        "* Performing stratified sampling imporved the performance of the classifying algorithms\n",
        "\n",
        "* Ensemble technique i.e. gradient boosting algorithm has generated an accuracy score of 93%. \n",
        "\n",
        "* The confusion matrix of the same has very less Type 1 and Type 2 errors \n"
      ]
    }
  ]
}